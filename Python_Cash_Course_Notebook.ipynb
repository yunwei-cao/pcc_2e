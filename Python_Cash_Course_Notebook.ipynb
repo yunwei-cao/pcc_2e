{
 "cells": [
  {
   "attachments": {},
   "cell_type": "markdown",
   "id": "c93a9c73",
   "metadata": {},
   "source": [
    "# Outline\n",
    "- [1 Variable and Data Types](#toc_15456_1)\n",
    "- [2 List](#toc_15456_2)\n",
    "- [3 Working with Lists](#toc_15456_3)\n",
    "- [4 IF Statements](#toc_15456_4)\n",
    "- [5 Dictionaries](#toc_15456_5)\n",
    "- [&nbsp;&nbsp;5.4 Nesting](#toc_15456_5.4)\n",
    "- [6 User Input and While Loops](#toc_15456_6)\n",
    "- [7 Functions](#toc_15456_7)\n",
    " - [&nbsp;&nbsp;7.3 Returning value or dic](#toc_15456_7.3)\n",
    " - [&nbsp;&nbsp;7.4 Using while loop](#toc_15456_7.4)\n",
    " - [&nbsp;&nbsp;7.5 Modifying a list](#toc_15456_7.5)\n",
    " - [&nbsp;&nbsp;7.6 Import module](#toc_15456_7.6)\n",
    " - [&nbsp;&nbsp;7.7 Styling functions](#toc_15456_7.7)\n",
    "- [8 Classes](#toc_15456_8)\n",
    " - [&nbsp;&nbsp;8.6 A case note syntax](#toc_15456_8.6)\n",
    " - [&nbsp;&nbsp;8.7 Styling classes](#toc_15456_8.7)\n",
    "- [9 Files And Exceptions](#toc_15456_9)\n",
    " - [&nbsp;&nbsp;9.1 Reading from a file](#toc_15456_9.1)\n",
    " - [&nbsp;&nbsp;9.2 Writing to a file](#toc_15456_9.2)\n",
    " - [&nbsp;&nbsp;9.3 Exceptions](#toc_15456_9.3)\n",
    " - [&nbsp;&nbsp;9.4 Storing data](#toc_15456_9.4)\n",
    "- [10 Testing Your Code](#toc_15456_10)\n",
    " - [&nbsp;&nbsp;10.1 Test a function](#toc_15456_10.1)\n",
    " - [&nbsp;&nbsp;10.2 Test a class](#toc_15456_10.2)"
   ]
  },
  {
   "attachments": {},
   "cell_type": "markdown",
   "id": "0282cdf6",
   "metadata": {},
   "source": [
    "<a name=\"toc_15456_1\"></a>\n",
    "## 1 Variables and Data Type"
   ]
  },
  {
   "cell_type": "code",
   "execution_count": 2,
   "id": "2dfcf0f9",
   "metadata": {
    "scrolled": false
   },
   "outputs": [
    {
     "name": "stdout",
     "output_type": "stream",
     "text": [
      "hello world.\n"
     ]
    }
   ],
   "source": [
    "print('hello world.')"
   ]
  },
  {
   "cell_type": "code",
   "execution_count": 3,
   "id": "d0ed1c4f",
   "metadata": {
    "scrolled": false
   },
   "outputs": [
    {
     "name": "stdout",
     "output_type": "stream",
     "text": [
      "hello world.\n"
     ]
    }
   ],
   "source": [
    "#variables\n",
    "message = 'hello world.'\n",
    "print(message)"
   ]
  },
  {
   "attachments": {},
   "cell_type": "markdown",
   "id": "ba10b882",
   "metadata": {},
   "source": [
    "**变量命名规则**\n",
    "\n",
    "只能包含字母、数字和下划线。\n",
    "\n",
    "能以字母或下划线打头，但不能以数字打头。\n",
    "\n",
    "不能包含空格，但能使用下划线来分隔其中的单词。\n",
    "\n",
    "不要使用Python保留用于特殊用途的单词，如print。\n",
    "\n",
    "应既简短又具有描述性。\n",
    "\n",
    "慎用小写字母l和大写字母O。\n",
    "\n",
    "初学应使用小写的Python变量名，大写字母在变量名中有特殊含义。\n",
    "\n",
    "*随着编写的程序越来越多，并开始阅读别人编写的代码，你将越来越善于创建有意义的变量名。*\n",
    "\n",
    "*程序无法成功运行时，解释器将提供一个traceback。traceback是一条记录，指出了解释器尝试运行代码时，在什么地方陷入了困境。*\n",
    "\n",
    "*名称错误通常意味着两种情况：要么是使用变量前忘记给它赋值，要么是输入变量名时拼写不正确。*\n",
    "\n",
    "*变量是可以赋给值的标签，也可以说变量指向特定的值。*\n",
    "\n",
    "**小结后面的一些概念区分：**\n",
    "\n",
    "mutable variable/immutable variable,\n",
    "\n",
    "list/dictionary/set, \n",
    "\n",
    "method/function, \n",
    "\n",
    "argument/parameter, \n",
    "\n",
    "class/module/library, \n",
    "\n",
    "object/inheritance，\n",
    "\n",
    "attribute/instance/variable\n"
   ]
  },
  {
   "cell_type": "code",
   "execution_count": 4,
   "id": "fd8fe44a",
   "metadata": {
    "scrolled": false
   },
   "outputs": [
    {
     "name": "stdout",
     "output_type": "stream",
     "text": [
      "define a variable\n",
      "change the value\n"
     ]
    }
   ],
   "source": [
    "#2-2pct\n",
    "a = 'define a variable'\n",
    "print(a)\n",
    "a = 'change the value'\n",
    "print(a)"
   ]
  },
  {
   "cell_type": "code",
   "execution_count": 5,
   "id": "f9b47805",
   "metadata": {
    "scrolled": false
   },
   "outputs": [
    {
     "name": "stdout",
     "output_type": "stream",
     "text": [
      "String\n",
      "STRING\n",
      "string\n"
     ]
    }
   ],
   "source": [
    "#change case in a string with methods\n",
    "name = 'string'\n",
    "print(name.title())\n",
    "print(name.upper())\n",
    "print(name.lower())"
   ]
  },
  {
   "attachments": {},
   "cell_type": "markdown",
   "id": "1080a853",
   "metadata": {},
   "source": [
    "*让Python对变量name 执行方法title() 指定的操作。每个方法后面都跟着一对圆括号，这是因为方法通常需要额外的信息来完成其工作。这种信息是在圆括号内提供的。函数title() 不需要额外的信息，因此它后面的圆括号是空的。这很有用，因为你可能希望程序将值Ada 、ADA 和ada 视为同一个名字，并将它们都显示为Ada 。*"
   ]
  },
  {
   "cell_type": "code",
   "execution_count": 5,
   "id": "99c7e3e1",
   "metadata": {
    "scrolled": false
   },
   "outputs": [
    {
     "name": "stdout",
     "output_type": "stream",
     "text": [
      "yunwei cao\n",
      "Hello, Yunwei Cao!\n",
      "Hello, Yunwei Cao!\n"
     ]
    }
   ],
   "source": [
    "#use format and braces to put variables into strings\n",
    "first_name = 'yunwei'\n",
    "last_name = 'cao'\n",
    "full_name = f'{first_name} {last_name}'\n",
    "print(full_name)\n",
    "\n",
    "print(f'Hello, {full_name.title()}!')\n",
    "\n",
    "message = f'Hello, {full_name.title()}!'\n",
    "print(message)"
   ]
  },
  {
   "cell_type": "code",
   "execution_count": 6,
   "id": "253f1436",
   "metadata": {
    "scrolled": false
   },
   "outputs": [
    {
     "name": "stdout",
     "output_type": "stream",
     "text": [
      "language:\n",
      "python\n",
      "\tpython\n",
      "languages:\n",
      "\tpython\n",
      "\tC\n",
      "\tjavascript\n"
     ]
    },
    {
     "data": {
      "text/plain": [
       "'bread'"
      ]
     },
     "execution_count": 6,
     "metadata": {},
     "output_type": "execute_result"
    }
   ],
   "source": [
    "#use tabs and newlines to add whitespaces,only works in strings\n",
    "print('language:\\npython')\n",
    "print('\\tpython')\n",
    "print('languages:\\n\\tpython\\n\\tC\\n\\tjavascript')\n",
    "\n",
    "#delete whitespace, always used when checking usernames\n",
    "food = 'bread ' #there is an extra blank after letter e\n",
    "food = food.rstrip()\n",
    "food"
   ]
  },
  {
   "cell_type": "code",
   "execution_count": 7,
   "id": "c23f36d3",
   "metadata": {
    "scrolled": false
   },
   "outputs": [
    {
     "data": {
      "text/plain": [
       "'hotdog'"
      ]
     },
     "execution_count": 7,
     "metadata": {},
     "output_type": "execute_result"
    }
   ],
   "source": [
    "#there is an extra blank before letter h\n",
    "food = ' hotdog' \n",
    "food = food.lstrip()\n",
    "food"
   ]
  },
  {
   "cell_type": "code",
   "execution_count": 8,
   "id": "e39152f6",
   "metadata": {
    "scrolled": false
   },
   "outputs": [
    {
     "data": {
      "text/plain": [
       "'noodles'"
      ]
     },
     "execution_count": 8,
     "metadata": {},
     "output_type": "execute_result"
    }
   ],
   "source": [
    "#always used to clean up user input before storing them\n",
    "food = ' noodles ' \n",
    "food = food.strip()\n",
    "food"
   ]
  },
  {
   "cell_type": "code",
   "execution_count": 9,
   "id": "f2f6fb5c",
   "metadata": {
    "scrolled": false
   },
   "outputs": [
    {
     "data": {
      "text/plain": [
       "\"one of the python's strength is readability.\""
      ]
     },
     "execution_count": 9,
     "metadata": {},
     "output_type": "execute_result"
    }
   ],
   "source": [
    "#转义字符\\\n",
    "message = 'one of the python\\'s strength is readability.'\n",
    "message"
   ]
  },
  {
   "cell_type": "code",
   "execution_count": 10,
   "id": "b9f9e264",
   "metadata": {
    "scrolled": false
   },
   "outputs": [
    {
     "name": "stdout",
     "output_type": "stream",
     "text": [
      "Hello lucy, would you like to come here?\n",
      "\n",
      "Albert Einstein once said,\n",
      "\t\"A person who never made a mistake never tried anything new.\"\n"
     ]
    }
   ],
   "source": [
    "#2-3pct\n",
    "username = 'lucy'\n",
    "print(f'Hello {username}, would you like to come here?')\n",
    "\n",
    "#2-7pct\n",
    "famous_people = '\\nAlbert Einstein'\n",
    "motto = 'A person who never made a mistake never tried anything new.'\n",
    "print(f'{famous_people} once said,\\n\\t\\\"{motto}\\\"')"
   ]
  },
  {
   "cell_type": "code",
   "execution_count": 11,
   "id": "1bc81cf7",
   "metadata": {
    "scrolled": false
   },
   "outputs": [
    {
     "data": {
      "text/plain": [
       "8"
      ]
     },
     "execution_count": 11,
     "metadata": {},
     "output_type": "execute_result"
    }
   ],
   "source": [
    "#exponents\n",
    "2**3"
   ]
  },
  {
   "cell_type": "code",
   "execution_count": 12,
   "id": "f52e9801",
   "metadata": {
    "scrolled": false
   },
   "outputs": [
    {
     "data": {
      "text/plain": [
       "0.30000000000000004"
      ]
     },
     "execution_count": 12,
     "metadata": {},
     "output_type": "execute_result"
    }
   ],
   "source": [
    "#float\n",
    "0.2+0.1"
   ]
  },
  {
   "cell_type": "code",
   "execution_count": 13,
   "id": "8c9e1b24",
   "metadata": {
    "scrolled": false
   },
   "outputs": [
    {
     "data": {
      "text/plain": [
       "2.0"
      ]
     },
     "execution_count": 13,
     "metadata": {},
     "output_type": "execute_result"
    }
   ],
   "source": [
    "#float and integer\n",
    "4/2"
   ]
  },
  {
   "attachments": {},
   "cell_type": "markdown",
   "id": "f2488715",
   "metadata": {},
   "source": [
    "将任意两个数相除时，结果总是浮点数，即便这两个数都是整数且能整除;无论是哪种运算，只要有操作数是浮点数，Python默认得到的总是浮点数，即便结果原本为整数也是如此."
   ]
  },
  {
   "cell_type": "code",
   "execution_count": 14,
   "id": "668e2929",
   "metadata": {
    "scrolled": false
   },
   "outputs": [],
   "source": [
    "#Multiple Assignment\n",
    "x,y,z = 0,0,0"
   ]
  },
  {
   "attachments": {},
   "cell_type": "markdown",
   "id": "8c2cd88f",
   "metadata": {},
   "source": [
    "Python将按顺序将每个值赋给对应的变量。只要变量和值的个数相同，Python就能正确地将它们关联起来。"
   ]
  },
  {
   "cell_type": "code",
   "execution_count": 15,
   "id": "121b6c86",
   "metadata": {
    "scrolled": false
   },
   "outputs": [],
   "source": [
    "#Constants\n",
    "MAX_CONNECTIONS = 5000"
   ]
  },
  {
   "attachments": {},
   "cell_type": "markdown",
   "id": "dc698905",
   "metadata": {},
   "source": [
    "常量类似于变量，但其值在程序的整个生命周期内保持不变。Python没有内置的常量类型，但Python程序员会使用全大写来指出应将某个变量视为常量，其值应始终不变："
   ]
  },
  {
   "attachments": {},
   "cell_type": "markdown",
   "id": "c2af2965",
   "metadata": {},
   "source": [
    "**The Zen of Python, by Tim Peters**\n",
    "\n",
    "(input 'import this' in python interpretor)\n",
    "\n",
    "Beautiful is better than ugly.\n",
    "\n",
    "Explicit is better than implicit.\n",
    "\n",
    "Simple is better than complex.\n",
    "\n",
    "Complex is better than complicated.\n",
    "\n",
    "Flat is better than nested.\n",
    "\n",
    "Sparse is better than dense.\n",
    "\n",
    "Readability counts.\n",
    "\n",
    "Special cases aren't special enough to break the rules.\n",
    "\n",
    "Although practicality beats purity.\n",
    "\n",
    "Errors should never pass silently.\n",
    "\n",
    "Unless explicitly silenced.\n",
    "\n",
    "In the face of ambiguity, refuse the temptation to guess.\n",
    "\n",
    "There should be one-- and preferably only one --obvious way to do it.\n",
    "\n",
    "Although that way may not be obvious at first unless you're Dutch.\n",
    "\n",
    "Now is better than never.\n",
    "\n",
    "Although never is often better than *right* now.\n",
    "\n",
    "If the implementation is hard to explain, it's a bad idea.\n",
    "\n",
    "If the implementation is easy to explain, it may be a good idea.\n",
    "\n",
    "Namespaces are one honking great idea -- let's do more of those!"
   ]
  },
  {
   "attachments": {},
   "cell_type": "markdown",
   "id": "98036a6b",
   "metadata": {},
   "source": [
    "<a name=\"toc_15456_2\"></a>\n",
    "## 2 List"
   ]
  },
  {
   "cell_type": "code",
   "execution_count": 16,
   "id": "d176377d",
   "metadata": {
    "scrolled": false
   },
   "outputs": [
    {
     "name": "stdout",
     "output_type": "stream",
     "text": [
      "['a', 'b', 'c']\n",
      "a\n",
      "A\n",
      "c\n"
     ]
    }
   ],
   "source": [
    "#Accessing Elements in a List\n",
    "bikes = ['a','b','c']\n",
    "print(bikes)\n",
    "print(bikes[0])\n",
    "print(bikes[0].title())\n",
    "print(bikes[-1])"
   ]
  },
  {
   "attachments": {},
   "cell_type": "markdown",
   "id": "4fa9a791",
   "metadata": {},
   "source": [
    "列表是有序集合，因此要访问列表的任意元素，只需将该元素的位置（索引）告诉Python即可。要访问列表元素，可指出列表的名称，再指出元素的索引，并将后者放在方括号内。\n",
    "\n",
    "第一个列表元素的索引为0，而不是1。要访问列表的任何元素，都可将其位置减1，并将结果作为索引。通过将索引指定为-1 ，可返回最后一个列表元素。这种约定也适用于其他负数索引。例如，索引-2 返回倒数第二个列表元素，索引-3 返回倒数第三个列表元素，依此类推。这种语法很有用，因为你经常需要在不知道列表长度的情况下访问最后的元素。"
   ]
  },
  {
   "cell_type": "code",
   "execution_count": 17,
   "id": "7f5cbe3b",
   "metadata": {
    "scrolled": false
   },
   "outputs": [
    {
     "name": "stdout",
     "output_type": "stream",
     "text": [
      "my first bike was C.\n"
     ]
    }
   ],
   "source": [
    "#Using Individual Values from a List\n",
    "bikes = ['a','b','c']\n",
    "message = f'my first bike was {bikes[2].title()}.'\n",
    "print(message)"
   ]
  },
  {
   "cell_type": "code",
   "execution_count": 18,
   "id": "db5c84fe",
   "metadata": {
    "scrolled": false
   },
   "outputs": [
    {
     "name": "stdout",
     "output_type": "stream",
     "text": [
      "Zhao\n",
      "hello Zhao, how are you?\n"
     ]
    }
   ],
   "source": [
    "#3-2pct\n",
    "names = ['zhao','qian','sun','li']\n",
    "print(names[0].title())\n",
    "print(f'hello {names[0].title()}, how are you?')"
   ]
  },
  {
   "cell_type": "code",
   "execution_count": 19,
   "id": "641ee0e2",
   "metadata": {
    "scrolled": false
   },
   "outputs": [
    {
     "name": "stdout",
     "output_type": "stream",
     "text": [
      "['honda', 'yamaha', 'suzuki']\n",
      "['honda', 'tobashi', 'suzuki']\n",
      "['honda', 'tobashi', 'suzuki', 'toyota']\n"
     ]
    }
   ],
   "source": [
    "#Modifying Elements in a List\n",
    "motors = ['honda','yamaha','suzuki']\n",
    "print(motors)\n",
    "\n",
    "motors[1] = 'tobashi'\n",
    "print(motors)\n",
    "\n",
    "motors.append('toyota')\n",
    "print(motors)"
   ]
  },
  {
   "cell_type": "code",
   "execution_count": 20,
   "id": "95b29303",
   "metadata": {
    "scrolled": false
   },
   "outputs": [
    {
     "name": "stdout",
     "output_type": "stream",
     "text": [
      "['north', 'south', 'east', 'west']\n"
     ]
    }
   ],
   "source": [
    "#use append to build lists dynamically\n",
    "directions = []\n",
    "directions.append('north')\n",
    "directions.append('south')\n",
    "directions.append('east')\n",
    "directions.append('west')\n",
    "print(directions)"
   ]
  },
  {
   "attachments": {},
   "cell_type": "markdown",
   "id": "dceb46b8",
   "metadata": {},
   "source": [
    "这种创建列表的方式极其常见，因为经常要等程序运行后，你才知道用户要在程序中存储哪些数据。为控制用户，可首先创建一个空列表，用于存储用户将要输入的值，然后将用户提供的每个新值附加到列表中。"
   ]
  },
  {
   "cell_type": "code",
   "execution_count": 21,
   "id": "3c129191",
   "metadata": {
    "scrolled": false
   },
   "outputs": [
    {
     "name": "stdout",
     "output_type": "stream",
     "text": [
      "['tobashi', 'honda', 'yamaha', 'suzuki']\n"
     ]
    }
   ],
   "source": [
    "#Inserting Elements into a List\n",
    "motors = ['honda','yamaha','suzuki']\n",
    "motors.insert(0,'tobashi')\n",
    "print(motors)"
   ]
  },
  {
   "cell_type": "code",
   "execution_count": 22,
   "id": "83b28ead",
   "metadata": {
    "scrolled": false
   },
   "outputs": [
    {
     "name": "stdout",
     "output_type": "stream",
     "text": [
      "['honda', 'yamaha', 'toyota', 'suzuki']\n",
      "['honda', 'yamaha', 'suzuki']\n",
      "['honda', 'yamaha', 'toyota']\n",
      "suzuki\n",
      "the latest motor I owned is suzuki.\n",
      "['yamaha', 'toyota', 'suzuki']\n",
      "honda\n",
      "the first motor I owned is honda.\n",
      "['honda', 'yamaha', 'suzuki']\n",
      "['honda', 'suzuki']\n",
      "the best one I owned is yamaha.\n"
     ]
    }
   ],
   "source": [
    "#Removing Elements from a List\n",
    "motors = ['honda','yamaha','toyota','suzuki']\n",
    "print(motors)\n",
    "del motors[2]\n",
    "print(motors)\n",
    "\n",
    "motors = ['honda','yamaha','toyota','suzuki']\n",
    "last_popped = motors.pop()\n",
    "print(motors)\n",
    "print(last_popped)\n",
    "print(f'the latest motor I owned is {last_popped}.')\n",
    "\n",
    "motors = ['honda','yamaha','toyota','suzuki']\n",
    "first_popped = motors.pop(0)\n",
    "print(motors)\n",
    "print(first_popped)\n",
    "print(f'the first motor I owned is {first_popped}.')\n",
    "\n",
    "motors = ['honda','yamaha','toyota','suzuki']\n",
    "motors.remove('toyota')\n",
    "print(motors)\n",
    "\n",
    "the_best = 'yamaha'\n",
    "motors.remove(the_best)\n",
    "print(motors)\n",
    "print(f'the best one I owned is {the_best}.')"
   ]
  },
  {
   "attachments": {},
   "cell_type": "markdown",
   "id": "ac810994",
   "metadata": {},
   "source": [
    "使用del 语句将值从列表中删除后，无法再访问值。但是有时候，你要将元素从列表中删除，并接着使用它的值。\n",
    "\n",
    "方法pop() 删除列表末尾的元素，并让你能够接着使用它。术语弹出（pop）源自这样的类比：列表就像一个栈（stack），而删除列表末尾的元素相当于弹出栈顶元素。\n",
    "\n",
    "方法remove()适用于只知道要删除的元素的值，不知道要从列表中删除的值所处的位置。使用remove() 从列表中删除元素时，也可接着使用它的值。方法remove() 只删除第一个指定的值。如果要删除的值可能在列表中出现多次，就需要使用循环来确保将每个值都删除。"
   ]
  },
  {
   "cell_type": "code",
   "execution_count": 23,
   "id": "09b1c107",
   "metadata": {
    "scrolled": false
   },
   "outputs": [
    {
     "name": "stdout",
     "output_type": "stream",
     "text": [
      "Zhao can not get here.\n",
      "['zhou', 'qian', 'sun', 'li', 'wu']\n",
      "['zhou', 'qian', 'li', 'wu']\n"
     ]
    }
   ],
   "source": [
    "#3-4 to 3-7pct\n",
    "guest = ['zhao','qian','sun','li']\n",
    "print(f'{guest[0].title()} can not get here.')\n",
    "\n",
    "guest.remove('zhao')\n",
    "guest.insert(0,'zhou')\n",
    "guest.append('wu')\n",
    "print(guest)\n",
    "del guest[2]\n",
    "print(guest)\n"
   ]
  },
  {
   "attachments": {},
   "cell_type": "markdown",
   "id": "e8121364",
   "metadata": {},
   "source": [
    "<a name=\"toc_15456_3\"></a>\n",
    "## 3 Working with Lists"
   ]
  },
  {
   "cell_type": "code",
   "execution_count": 24,
   "id": "22f85a1e",
   "metadata": {
    "scrolled": false
   },
   "outputs": [
    {
     "name": "stdout",
     "output_type": "stream",
     "text": [
      "['audi', 'bmw', 'subaru', 'toyota']\n",
      "['toyota', 'subaru', 'bmw', 'audi']\n",
      "\n",
      "Here is the sorted list:\n",
      "['audi', 'bmw', 'subaru', 'toyota']\n",
      "\n",
      "Here is the reversed sorted list:\n",
      "['toyota', 'subaru', 'bmw', 'audi']\n"
     ]
    }
   ],
   "source": [
    "#Sorting a List\n",
    "cars = ['bmw', 'audi', 'toyota', 'subaru']\n",
    "cars.sort()\n",
    "print(cars)\n",
    "cars.sort(reverse=True)\n",
    "print(cars)\n",
    "\n",
    "print(\"\\nHere is the sorted list:\")\n",
    "print(sorted(cars))\n",
    "\n",
    "print(\"\\nHere is the reversed sorted list:\")\n",
    "print(sorted(cars,reverse=True))"
   ]
  },
  {
   "attachments": {},
   "cell_type": "markdown",
   "id": "eddeb8df",
   "metadata": {},
   "source": [
    "在并非所有的值都是小写时，按字母顺序排列列表要复杂些。决定排列顺序时，有多种解读大写字母的方式，要指定准确的排列顺序，可能比我们这里所做的要复杂。"
   ]
  },
  {
   "cell_type": "code",
   "execution_count": 25,
   "id": "befca15a",
   "metadata": {
    "scrolled": false
   },
   "outputs": [
    {
     "name": "stdout",
     "output_type": "stream",
     "text": [
      "['subaru', 'toyota', 'audi', 'bmw']\n"
     ]
    }
   ],
   "source": [
    "#Printing a List in Reverse Order, ranked by bought time\n",
    "cars = ['bmw', 'audi', 'toyota', 'subaru']\n",
    "cars.reverse()\n",
    "print(cars)"
   ]
  },
  {
   "cell_type": "code",
   "execution_count": 26,
   "id": "aff7c796",
   "metadata": {
    "scrolled": false
   },
   "outputs": [
    {
     "data": {
      "text/plain": [
       "4"
      ]
     },
     "execution_count": 26,
     "metadata": {},
     "output_type": "execute_result"
    }
   ],
   "source": [
    "#the Length of a List\n",
    "cars = ['bmw', 'audi', 'toyota', 'subaru']\n",
    "len(cars)"
   ]
  },
  {
   "attachments": {},
   "cell_type": "markdown",
   "id": "71a9ae5b",
   "metadata": {},
   "source": [
    "Python计算列表元素数时从1开始，因此确定列表长度时，你应该不会遇到差一错误。另外发生索引错误却找不到解决办法时，请尝试将列表或其长度打印出来。列表可能与你以为的截然不同，在程序对其进行了动态处理时尤其如此。通过查看列表或其包含的元素数，可帮助你找出这种逻辑错误。"
   ]
  },
  {
   "cell_type": "code",
   "execution_count": 27,
   "id": "c58cd362",
   "metadata": {
    "scrolled": false
   },
   "outputs": [
    {
     "name": "stdout",
     "output_type": "stream",
     "text": [
      "alice\n",
      "david\n",
      "carolina\n",
      "Alice, that was a great trick!\n",
      "I can't wait to see your next show, alice! \n",
      "\n",
      "David, that was a great trick!\n",
      "I can't wait to see your next show, david! \n",
      "\n",
      "Carolina, that was a great trick!\n",
      "I can't wait to see your next show, carolina! \n",
      "\n",
      "Thank you! Have a good night!\n"
     ]
    }
   ],
   "source": [
    "#loop through an entire list\n",
    "magicians = ['alice', 'david', 'carolina']\n",
    "for people in magicians:\n",
    "    print(people)\n",
    "    \n",
    "for people in magicians:\n",
    "    print(f'{people.title()}, that was a great trick!')\n",
    "    print(f'I can\\'t wait to see your next show, {people}! \\n')\n",
    "print('Thank you! Have a good night!')    "
   ]
  },
  {
   "attachments": {},
   "cell_type": "markdown",
   "id": "d6b1682e",
   "metadata": {},
   "source": [
    "在for循环中，想包含多少行代码都可以。每个缩进的代码行(indented line)都是循环的一部分，将针对列表中的每个值都执行一次。因此，可对列表中的每个值执行任意次数的操作。\n",
    "\n",
    "在for 循环后面，没有缩进的代码都只执行一次，不会重复执行。如果你预期某项操作将针对每个列表元素都执行一次，但它总共只执行了一次，请确定需要将一行还是多行代码缩进。\n",
    "\n",
    "Python通过使用缩进让代码更易读。简单地说，它要求你使用缩进让代码整洁而结构清晰。在较长的Python程序中，你将看到缩进程度各不相同的代码块，从而对程序的组织结构有大致的认识。\n",
    "\n",
    "如果你不小心缩进了无须缩进的代码行，Python将指出这一点：IndentationError: unexpected indent\n",
    "\n",
    "for 语句末尾的冒号告诉Python，下一行是循环的第一行。如果不小心遗漏了冒号，将导致语法错误。"
   ]
  },
  {
   "cell_type": "code",
   "execution_count": 28,
   "id": "33ba896b",
   "metadata": {
    "scrolled": false
   },
   "outputs": [
    {
     "name": "stdout",
     "output_type": "stream",
     "text": [
      "I like pink.\n",
      "I like green.\n",
      "I like blue.\n",
      "They are beautiful!\n"
     ]
    }
   ],
   "source": [
    "#4-1pct\n",
    "colors = ['pink','green','blue']\n",
    "for color in colors:\n",
    "    print(f'I like {color}.')\n",
    "print('They are beautiful!')"
   ]
  },
  {
   "cell_type": "code",
   "execution_count": 29,
   "id": "a7d40c33",
   "metadata": {
    "scrolled": false
   },
   "outputs": [
    {
     "name": "stdout",
     "output_type": "stream",
     "text": [
      "1\n",
      "2\n",
      "3\n",
      "4\n",
      "1\n",
      "2\n",
      "3\n",
      "4\n",
      "5\n",
      "0\n",
      "1\n",
      "2\n",
      "3\n",
      "4\n",
      "5\n"
     ]
    }
   ],
   "source": [
    "#range() function\n",
    "for value in range(1,5):\n",
    "    print(value)\n",
    "    \n",
    "for value in range(1,6):\n",
    "    print(value)\n",
    "    \n",
    "for value in range(6):\n",
    "    print(value)"
   ]
  },
  {
   "attachments": {},
   "cell_type": "markdown",
   "id": "b45122a2",
   "metadata": {},
   "source": [
    "函数range() 让Python从指定的第一个值开始数，并在到达你指定的第二个值时停止。因为它在第二个值处停止，所以输出不包含该值。调用函数range() 时，也可只指定一个参数，这样它将从0开始。"
   ]
  },
  {
   "cell_type": "code",
   "execution_count": 30,
   "id": "22138924",
   "metadata": {
    "scrolled": false
   },
   "outputs": [
    {
     "name": "stdout",
     "output_type": "stream",
     "text": [
      "[1, 2, 3, 4, 5]\n",
      "[2, 4, 6, 8, 10]\n",
      "[1, 4, 9, 16, 25, 36, 49, 64, 81, 100]\n",
      "[1, 4, 9, 16, 25, 36, 49, 64, 81, 100]\n",
      "[1, 4, 9, 16, 25, 36, 49, 64, 81, 100]\n"
     ]
    }
   ],
   "source": [
    "#Using range(), list() to Make a List of Numbers\n",
    "numbers = list(range(1,6))\n",
    "print(numbers)\n",
    "\n",
    "even_numbers = list(range(2,11,2))\n",
    "print(even_numbers)\n",
    "\n",
    "#a list with the first 10 square numbers \n",
    "squares = []\n",
    "for value in range(1,11):\n",
    "    square = value ** 2\n",
    "    squares.append(square)\n",
    "print(squares)\n",
    "\n",
    "square = []\n",
    "for value in range(1,11):\n",
    "    square.append(value**2)\n",
    "print(squares)\n",
    "\n",
    "#List Comprehensions\n",
    "squares = [value**2 for value in range(1,11)]\n",
    "print(squares)"
   ]
  },
  {
   "attachments": {},
   "cell_type": "markdown",
   "id": "97625e02",
   "metadata": {},
   "source": [
    "首先，创建一个名为squares的空列表。\n",
    "\n",
    "然后，使用函数range()让Python遍历1～10的值。\n",
    "\n",
    "然后，在循环中，计算当前值的平方，并将结果赋给变量square。\n",
    "\n",
    "然后，将新计算得到的平方值附加到列表squares末尾。\n",
    "\n",
    "最后，循环结束后，打印列表squares。\n",
    "\n",
    "为了让代码更简洁，可不使用临时变量square，而直接将每个计算得到的值附加到列表末尾。\n",
    "\n",
    "有时候，使用临时变量会让代码更易读；而在其他情况下，这样做只会让代码无谓地变长。你首先应该考虑的是，编写清晰易懂且能完成所需功能的代码，等到审核代码时，再考虑采用更高效的方法。\n",
    "\n",
    "列表解析将for循环和创建新元素的代码合并成一行，并自动附加新元素。请注意，这里的for语句末尾没有冒号。\n"
   ]
  },
  {
   "cell_type": "code",
   "execution_count": 6,
   "id": "a4a77e2c",
   "metadata": {
    "scrolled": false
   },
   "outputs": [
    {
     "data": {
      "text/plain": [
       "45"
      ]
     },
     "execution_count": 6,
     "metadata": {},
     "output_type": "execute_result"
    }
   ],
   "source": [
    "#Simple Statistics with a List of Numbers\n",
    "digits = [1, 2, 3, 4, 5, 6, 7, 8, 9, 0]\n",
    "min(digits)\n",
    "max(digits)\n",
    "sum(digits)"
   ]
  },
  {
   "cell_type": "code",
   "execution_count": 32,
   "id": "b69a66b2",
   "metadata": {
    "scrolled": true
   },
   "outputs": [
    {
     "name": "stdout",
     "output_type": "stream",
     "text": [
      "1\n",
      "2\n",
      "3\n",
      "4\n",
      "5\n",
      "6\n",
      "7\n",
      "8\n",
      "9\n",
      "10\n",
      "[1, 2, 3, 4, 5, 6, 7, 8, 9, 10]\n",
      "[1, 3, 5, 7, 9, 11, 13, 15, 17, 19]\n",
      "1\n",
      "3\n",
      "5\n",
      "7\n",
      "9\n",
      "11\n",
      "13\n",
      "15\n",
      "17\n",
      "19\n",
      "[3, 6, 9, 12, 15, 18, 21, 24, 27, 30]\n",
      "3\n",
      "6\n",
      "9\n",
      "12\n",
      "15\n",
      "18\n",
      "21\n",
      "24\n",
      "27\n",
      "30\n",
      "[1, 8, 27, 64, 125, 216, 343, 512, 729, 1000]\n",
      "[1, 8, 27, 64, 125, 216, 343, 512, 729, 1000]\n",
      "[1, 8, 27, 64, 125, 216, 343, 512, 729, 1000]\n"
     ]
    }
   ],
   "source": [
    "#4-3 to 4-9pct\n",
    "for value in range(1,11):\n",
    "    print(value)\n",
    "\n",
    "number = list(range(1,11))\n",
    "print(number)\n",
    "\n",
    "number = list(range(1,100))\n",
    "sum(number)\n",
    "\n",
    "odd_number = list(range(1,21,2))\n",
    "print(odd_number)\n",
    "for odd_value in range(1,21,2):\n",
    "    print(odd_value)\n",
    "\n",
    "trip_number = list(range(3,31,3))\n",
    "print(trip_number)\n",
    "for trip_value in range(3,31,3):\n",
    "    print(trip_value)\n",
    "    \n",
    "cubes = []\n",
    "for cube in range(1,11):\n",
    "    cube = cube**3\n",
    "    cubes.append(cube)\n",
    "print(cubes)\n",
    "\n",
    "cubes = []\n",
    "for cube in range(1,11):\n",
    "    cubes.append(cube**3)\n",
    "print(cubes)\n",
    "\n",
    "cubes = [cube**3 for cube in range(1,11)]\n",
    "print(cubes)"
   ]
  },
  {
   "cell_type": "code",
   "execution_count": 33,
   "id": "e8a9aefb",
   "metadata": {
    "scrolled": false
   },
   "outputs": [
    {
     "name": "stdout",
     "output_type": "stream",
     "text": [
      "['charles', 'martina', 'michael']\n",
      "['martina', 'michael', 'florence']\n",
      "['charles', 'martina']\n",
      "['michael', 'florence', 'eli']\n",
      "['michael', 'florence', 'eli']\n"
     ]
    }
   ],
   "source": [
    "#Slicing a List\n",
    "players = ['charles', 'martina', 'michael', 'florence', 'eli']\n",
    "print(players[0:3])\n",
    "print(players[1:4])\n",
    "print(players[0:2])\n",
    "print(players[2:])\n",
    "print(players[-3:])"
   ]
  },
  {
   "attachments": {},
   "cell_type": "markdown",
   "id": "bc5011a0",
   "metadata": {},
   "source": [
    "确定编写数字的技巧：0号位置，1号位置，2号位置。\n",
    "\n",
    "负数索引返回离列表末尾相应距离的元素。\n",
    "\n",
    "可在表示切片的方括号内指定第三个值。这个值告诉Python在指定范围内每隔多少元素提取一个。"
   ]
  },
  {
   "cell_type": "code",
   "execution_count": 34,
   "id": "27b85ab8",
   "metadata": {
    "scrolled": false
   },
   "outputs": [
    {
     "name": "stdout",
     "output_type": "stream",
     "text": [
      "Here are the first three players on my team:\n",
      "Charles\n",
      "Martina\n",
      "Michael\n"
     ]
    }
   ],
   "source": [
    "#Looping Through a Slice\n",
    "players = ['charles', 'martina', 'michael', 'florence', 'eli']\n",
    "print(\"Here are the first three players on my team:\")\n",
    "for player in players [:3]:\n",
    "    print(player.title())"
   ]
  },
  {
   "cell_type": "code",
   "execution_count": 35,
   "id": "63a34d12",
   "metadata": {
    "scrolled": false
   },
   "outputs": [
    {
     "name": "stdout",
     "output_type": "stream",
     "text": [
      "My friend's favorite foods are:\n",
      "['pizza', 'falafel', 'carrot cake']\n",
      "\n",
      "My friend's favorite foods are:\n",
      "['pizza', 'falafel', 'carrot cake', 'ice cream']\n"
     ]
    }
   ],
   "source": [
    "#Copying a List\n",
    "my_foods = ['pizza', 'falafel', 'carrot cake']\n",
    "friend_foods = my_foods[:]\n",
    "\n",
    "print(\"My friend's favorite foods are:\")\n",
    "print(friend_foods)\n",
    "\n",
    "friend_foods.append('ice cream')\n",
    "print(\"\\nMy friend's favorite foods are:\")\n",
    "print(friend_foods)"
   ]
  },
  {
   "attachments": {},
   "cell_type": "markdown",
   "id": "01bfb97f",
   "metadata": {},
   "source": [
    "在不指定任何索引的情况下从列表my_foods 中ᨀ取一个切片，从而创建这个列表的副本，并将该副本赋给变量friend_foods 。\n",
    "\n",
    "friend_foods = my_foods 如果像这样是将my_foods赋给friend_foods,不能得到两个列表，因为这不是将my_foods的副本赋给friend_foods。"
   ]
  },
  {
   "cell_type": "code",
   "execution_count": 36,
   "id": "ca018e8e",
   "metadata": {
    "scrolled": false
   },
   "outputs": [
    {
     "name": "stdout",
     "output_type": "stream",
     "text": [
      "here are my cars:\n",
      "Bmw\n",
      "Audi\n",
      "Toyota\n",
      "Subaru\n",
      "Yamaha\n",
      "['bmw', 'audi', 'toyota', 'subaru']\n"
     ]
    }
   ],
   "source": [
    "#4-12pct\n",
    "cars = ['bmw', 'audi', 'toyota', 'subaru']\n",
    "newcars = cars[:]\n",
    "newcars.append('yamaha')\n",
    "print('here are my cars:')\n",
    "for newcar in newcars:\n",
    "    print(newcar.title())\n",
    "     \n",
    "print(cars)"
   ]
  },
  {
   "cell_type": "code",
   "execution_count": 3,
   "id": "424f8ff3",
   "metadata": {},
   "outputs": [
    {
     "name": "stdout",
     "output_type": "stream",
     "text": [
      "['Bmw', 'Audi', 'Toyota', 'Subaru']\n"
     ]
    }
   ],
   "source": [
    "#用for循环把cars这个list里面每个值都大写并打印出来list\n",
    "cars = ['bmw', 'audi', 'toyota', 'subaru']\n",
    "newcars = []\n",
    "for car in cars:\n",
    "    newcar = car.title()\n",
    "    newcars.append(newcar)\n",
    "print(newcars)"
   ]
  },
  {
   "cell_type": "code",
   "execution_count": 37,
   "id": "7c04ed90",
   "metadata": {
    "scrolled": false
   },
   "outputs": [
    {
     "name": "stdout",
     "output_type": "stream",
     "text": [
      "200\n",
      "50\n",
      "3\n"
     ]
    }
   ],
   "source": [
    "#Tuple\n",
    "dimensions = (200, 50)\n",
    "print(dimensions[0])\n",
    "print(dimensions[1])\n",
    "my_t = (3,)\n",
    "print(my_t[0])"
   ]
  },
  {
   "attachments": {},
   "cell_type": "markdown",
   "id": "70bc6227",
   "metadata": {},
   "source": [
    "有时候你需要创建一系列不可修改的元素，元组可以满足这种需求。Python将不能修改的值称为不可变的immutable，而不可变的列表被称为元组。（但是给元组变量重新赋值是合法的）\n",
    "\n",
    "元组看起来很像列表，但使用圆括号而非中括号来标识。定义元组后，就可使用索引来访问其元素，就像访问列表元素一样。\n",
    "\n",
    "严格地说，元组是由逗号标识的，圆括号只是让元组看起来更整洁、更清晰。如果你要定义只包含一个元素的元组，必须在这个元素后面加上逗号：创建只包含一个元素的元组通常没有意义，但自动生成的元组有可能只有一个元素。"
   ]
  },
  {
   "cell_type": "code",
   "execution_count": 38,
   "id": "d797c674",
   "metadata": {
    "scrolled": false
   },
   "outputs": [
    {
     "name": "stdout",
     "output_type": "stream",
     "text": [
      "200\n",
      "50\n",
      "Original dimensions:\n",
      "200\n",
      "50\n",
      "\n",
      "Modified dimensions:\n",
      "400\n",
      "100\n"
     ]
    }
   ],
   "source": [
    "#Looping Through All Values in a Tuple\n",
    "dimensions = (200, 50)\n",
    "for dimension in dimensions:\n",
    "    print(dimension)\n",
    "    \n",
    "#Writing over a Tuple,which means assigning the new value\n",
    "dimensions = (200, 50)\n",
    "print(\"Original dimensions:\")\n",
    "for dimension in dimensions:\n",
    "    print(dimension)\n",
    "\n",
    "dimensions = (400, 100)\n",
    "print(\"\\nModified dimensions:\")\n",
    "for dimension in dimensions:\n",
    "    print(dimension)"
   ]
  },
  {
   "attachments": {},
   "cell_type": "markdown",
   "id": "74479214",
   "metadata": {},
   "source": [
    "**格式设置指南**\n",
    "\n",
    "*要提出Python语言修改建议，需要编写Python改进提案 （Python Enhancement Proposal，PEP）。PEP 8 是最古老的PEP之一，向Python程序员提供了代码格式设置指南。PEP 8的篇幅很长，但基本上与复杂的编码结构相关。\n",
    "Python格式设置指南的编写者深知，代码被阅读的次数比编写的次数多。代码编写出来后，调试时需要阅读；给程序添加新功能时，需要花很长的时间阅读；与其他程序员分享代码时，这些程序员也会阅读。如果一定要在让代码易于编写和易于阅读之间选择，Python程序员几乎总是选择后者。\n",
    "\n",
    "每级缩进都使用四个空格。对于字处理文档来说，这样做的效果很好，但混合使用制表符和空格会让Python解释器感到迷惑。每款文本编辑器都提供了一种设置，可将你输入的制表符转换为指定数量的空格。你在编写代码时绝对应该使用制表符键，但一定要对编辑器进行设置，使其在文档中插入空\n",
    "格而不是制表符。在程序中混合使用制表符和空格可能导致极难排查的问题。如果混合使用了制表符和空格，可将文件中的所有制表符都转换为空格，大多数编辑器提供了这样的功能。\n",
    "\n",
    "每行不超过80字符。通常会在同一个屏幕上打开多个文件，使用标准行长可以让他们在屏幕上并排打开两三个文件时同时看到各个文件的完整行。PEP 8还建议注释的行长不应超过72字符，因为有些工具为大型项目自动生成文档时，会在每行注释开头添加格式化字符。在大多数编辑器中，可以设置一个视觉标志（通常是一条竖线），让你知道不能越过的界线在什么地方。(Jupyternotebook 如何设置？）\n",
    "\n",
    "使用空行将程序的不同部分分开。例如，如果你有五行创建列表的代码，还有三行处理该列表的代码，那么用一个空行将这两部分隔开是合适的空行不会影响代码的运行，但会影响代码的可读性。Python解释器根据水平缩进情况来解读代码，但不关心垂直间距。"
   ]
  },
  {
   "attachments": {},
   "cell_type": "markdown",
   "id": "a01c5368",
   "metadata": {},
   "source": [
    "<a name=\"toc_15456_4\"></a>\n",
    "## 4 If Statements"
   ]
  },
  {
   "cell_type": "code",
   "execution_count": 39,
   "id": "1cbce6f5",
   "metadata": {
    "scrolled": false
   },
   "outputs": [
    {
     "data": {
      "text/plain": [
       "False"
      ]
     },
     "execution_count": 39,
     "metadata": {},
     "output_type": "execute_result"
    }
   ],
   "source": [
    "#Boolean Expressions (Conditional Test)\n",
    "car = 'bmw'\n",
    "car == 'audi'"
   ]
  },
  {
   "cell_type": "code",
   "execution_count": 40,
   "id": "3c4aca14",
   "metadata": {
    "scrolled": false
   },
   "outputs": [
    {
     "data": {
      "text/plain": [
       "False"
      ]
     },
     "execution_count": 40,
     "metadata": {},
     "output_type": "execute_result"
    }
   ],
   "source": [
    "car = 'BMW'\n",
    "car == 'bmw'"
   ]
  },
  {
   "cell_type": "code",
   "execution_count": 41,
   "id": "9db02bfe",
   "metadata": {
    "scrolled": false
   },
   "outputs": [
    {
     "data": {
      "text/plain": [
       "True"
      ]
     },
     "execution_count": 41,
     "metadata": {},
     "output_type": "execute_result"
    }
   ],
   "source": [
    "car = 'Audi'\n",
    "car.lower() == 'audi'"
   ]
  },
  {
   "attachments": {},
   "cell_type": "markdown",
   "id": "9b5af7b7",
   "metadata": {},
   "source": [
    "大多数条件测试将一个变量的当前值同特定值进行比较。最简单的条件测试检查变量的值是否与特定值相等。\n",
    "\n",
    "函数lower() 不会修改最初赋给变量car的值，因此进行这样的比较时不会影响原来的变量。"
   ]
  },
  {
   "cell_type": "code",
   "execution_count": 42,
   "id": "37bcb4d2",
   "metadata": {
    "scrolled": false
   },
   "outputs": [
    {
     "name": "stdout",
     "output_type": "stream",
     "text": [
      "The answer is wrong. Please try again!\n"
     ]
    }
   ],
   "source": [
    "answer = 17\n",
    "if answer != 42:\n",
    "    print(\"The answer is wrong. Please try again!\")"
   ]
  },
  {
   "attachments": {},
   "cell_type": "markdown",
   "id": "ee48567b",
   "metadata": {},
   "source": [
    "编写的大多数条件表达式检查两个值是否相等，但有时候检查两个值是否不等的效率更高。"
   ]
  },
  {
   "cell_type": "code",
   "execution_count": 43,
   "id": "4429782a",
   "metadata": {
    "scrolled": false
   },
   "outputs": [
    {
     "data": {
      "text/plain": [
       "True"
      ]
     },
     "execution_count": 43,
     "metadata": {},
     "output_type": "execute_result"
    }
   ],
   "source": [
    "age = 19\n",
    "age <= 21"
   ]
  },
  {
   "attachments": {},
   "cell_type": "markdown",
   "id": "438e01e9",
   "metadata": {},
   "source": [
    "条件语句中可包含各种数学比较，如小于、小于等于、大于、大于等于"
   ]
  },
  {
   "cell_type": "code",
   "execution_count": 44,
   "id": "47e48d86",
   "metadata": {
    "scrolled": false
   },
   "outputs": [
    {
     "data": {
      "text/plain": [
       "False"
      ]
     },
     "execution_count": 44,
     "metadata": {},
     "output_type": "execute_result"
    }
   ],
   "source": [
    "age_0 = 22\n",
    "age_1 = 18\n",
    "age_0 >= 21 and age_1 >= 21"
   ]
  },
  {
   "cell_type": "code",
   "execution_count": 45,
   "id": "36ebcfc0",
   "metadata": {
    "scrolled": false
   },
   "outputs": [
    {
     "data": {
      "text/plain": [
       "True"
      ]
     },
     "execution_count": 45,
     "metadata": {},
     "output_type": "execute_result"
    }
   ],
   "source": [
    "age_0 = 22\n",
    "age_1 = 18\n",
    "age_0 >= 21 or age_1 >= 21"
   ]
  },
  {
   "cell_type": "code",
   "execution_count": 46,
   "id": "3573b902",
   "metadata": {
    "scrolled": false
   },
   "outputs": [
    {
     "data": {
      "text/plain": [
       "False"
      ]
     },
     "execution_count": 46,
     "metadata": {},
     "output_type": "execute_result"
    }
   ],
   "source": [
    "requested_toppings = ['mushrooms', 'onions', 'pineapple']\n",
    "'pepperoni' in requested_toppings"
   ]
  },
  {
   "cell_type": "code",
   "execution_count": 47,
   "id": "dc88f9f7",
   "metadata": {
    "scrolled": false
   },
   "outputs": [
    {
     "name": "stdout",
     "output_type": "stream",
     "text": [
      "Marie, you can post a response if you wish.\n"
     ]
    }
   ],
   "source": [
    "banned_users = ['andrew', 'carolina', 'david']\n",
    "user = 'marie'\n",
    "if user not in banned_users:\n",
    "    print(f\"{user.title()}, you can post a response if you wish.\")"
   ]
  },
  {
   "cell_type": "code",
   "execution_count": 48,
   "id": "04206469",
   "metadata": {
    "scrolled": false
   },
   "outputs": [
    {
     "name": "stdout",
     "output_type": "stream",
     "text": [
      "You are old enough to vote.\n",
      "Have you registered to vote yet?\n"
     ]
    }
   ],
   "source": [
    "#if conditional_test: do sth\n",
    "age = 19\n",
    "if age >= 18:\n",
    "    print('You are old enough to vote.')\n",
    "    print(\"Have you registered to vote yet?\")\n",
    "else:\n",
    "    print(\"Sorry, you are too young to vote.\")\n",
    "    print(\"Please register to vote as soon as you turn 18!\")"
   ]
  },
  {
   "cell_type": "code",
   "execution_count": 49,
   "id": "31813441",
   "metadata": {
    "scrolled": false
   },
   "outputs": [
    {
     "name": "stdout",
     "output_type": "stream",
     "text": [
      "Your admission cost is $25.\n"
     ]
    }
   ],
   "source": [
    "#if-elif-else\n",
    "age = 12\n",
    "if age <4:\n",
    "    print(\"Your admission cost is $0.\")\n",
    "elif age < 18:\n",
    "    print(\"Your admission cost is $25.\")\n",
    "else:\n",
    "    print(\"Your admission cost is $40.\")"
   ]
  },
  {
   "cell_type": "code",
   "execution_count": 50,
   "id": "f76f2128",
   "metadata": {
    "scrolled": false
   },
   "outputs": [
    {
     "name": "stdout",
     "output_type": "stream",
     "text": [
      "Your admission cost is $25.\n"
     ]
    }
   ],
   "source": [
    "age = 12\n",
    "\n",
    "if age < 4:\n",
    "    price = 0\n",
    "elif age < 18:\n",
    "    price = 25\n",
    "elif age < 65:\n",
    "    price = 40\n",
    "else:\n",
    "    price = 20\n",
    "\n",
    "print(f'Your admission cost is ${price}.')"
   ]
  },
  {
   "cell_type": "code",
   "execution_count": 51,
   "id": "049d1f3a",
   "metadata": {
    "scrolled": false
   },
   "outputs": [
    {
     "name": "stdout",
     "output_type": "stream",
     "text": [
      "Your admission cost is $25.\n"
     ]
    }
   ],
   "source": [
    "age = 12\n",
    "\n",
    "if age < 4:\n",
    "    price = 0\n",
    "elif age < 18:\n",
    "    price = 25\n",
    "elif age < 65:\n",
    "    price = 40\n",
    "elif age >= 65:\n",
    "    price = 20\n",
    "\n",
    "print(f'Your admission cost is ${price}.')"
   ]
  },
  {
   "attachments": {},
   "cell_type": "markdown",
   "id": "c742cc5a",
   "metadata": {},
   "source": [
    "if-elif 结构后面不是必须有else代码块。在有些情况下，else代码块很有用；而在其他一些情况下，使用一条elif语句来处理特定的情形更清晰。这里使用else代码块更清晰些。经过这样的修改后，每个代码块都仅在通过了相应的测试时才会执行。"
   ]
  },
  {
   "cell_type": "code",
   "execution_count": 52,
   "id": "7692b7c6",
   "metadata": {
    "scrolled": false
   },
   "outputs": [
    {
     "name": "stdout",
     "output_type": "stream",
     "text": [
      "Adding mushrooms.\n",
      "Adding extra cheese.\n",
      "\n",
      "Finished making your pizza!\n"
     ]
    }
   ],
   "source": [
    "#Testing Multiple Conditions\n",
    "requested_toppings = ['mushrooms', 'extra cheese']\n",
    "if 'mushrooms' in requested_toppings:\n",
    "    print(\"Adding mushrooms.\")\n",
    "if 'pepperoni' in requested_toppings:\n",
    "    print(\"Adding pepperoni.\")\n",
    "if 'extra cheese' in requested_toppings:\n",
    "    print(\"Adding extra cheese.\")\n",
    "print(\"\\nFinished making your pizza!\")"
   ]
  },
  {
   "cell_type": "code",
   "execution_count": 53,
   "id": "a422a212",
   "metadata": {
    "scrolled": false
   },
   "outputs": [
    {
     "name": "stdout",
     "output_type": "stream",
     "text": [
      "Adding mushrooms.\n",
      "\n",
      "Finished making your pizza!\n"
     ]
    }
   ],
   "source": [
    "requested_toppings = ['mushrooms', 'extra cheese']\n",
    "if 'mushrooms' in requested_toppings:\n",
    "    print(\"Adding mushrooms.\")\n",
    "elif 'pepperoni' in requested_toppings:\n",
    "    print(\"Adding pepperoni.\")\n",
    "elif 'extra cheese' in requested_toppings:\n",
    "    print(\"Adding extra cheese.\")\n",
    "print(\"\\nFinished making your pizza!\")"
   ]
  },
  {
   "attachments": {},
   "cell_type": "markdown",
   "id": "77626d4b",
   "metadata": {},
   "source": [
    "if-elif 结构在条件测试通过以后就不会执行剩余的测试了。\n",
    "\n",
    "有多个条件为True且需要在每个条件为True时应该用if-if结构。"
   ]
  },
  {
   "cell_type": "code",
   "execution_count": 2,
   "id": "6e14b96f",
   "metadata": {
    "scrolled": false
   },
   "outputs": [
    {
     "name": "stdout",
     "output_type": "stream",
     "text": [
      "5 points\n"
     ]
    }
   ],
   "source": [
    "#5-4\n",
    "alien_color = 'green'\n",
    "if 'blue' in alien_color:\n",
    "    print('10 points')\n",
    "else:\n",
    "    print('5 points')"
   ]
  },
  {
   "cell_type": "code",
   "execution_count": 55,
   "id": "1a710def",
   "metadata": {
    "scrolled": false
   },
   "outputs": [
    {
     "name": "stdout",
     "output_type": "stream",
     "text": [
      "adult\n"
     ]
    }
   ],
   "source": [
    "#5-6\n",
    "age = 25\n",
    "if age < 2:\n",
    "    print('Baby')\n",
    "elif age  < 4:\n",
    "    print('toddler')\n",
    "elif age  < 13:\n",
    "    print('kid')\n",
    "elif age  < 20:\n",
    "    print('teenager')\n",
    "elif age < 65:\n",
    "    print('adult')\n",
    "elif age >=65:\n",
    "    print(old)"
   ]
  },
  {
   "cell_type": "code",
   "execution_count": 56,
   "id": "4449cf23",
   "metadata": {
    "scrolled": false
   },
   "outputs": [
    {
     "name": "stdout",
     "output_type": "stream",
     "text": [
      "You really like bananas!\n"
     ]
    }
   ],
   "source": [
    "#5-7\n",
    "fruits = ['apples','bananas','grapes']\n",
    "if 'mangos' in fruits:\n",
    "    fruit = 'mangos'\n",
    "elif 'bananas' in fruits:\n",
    "    fruit = 'bananas'\n",
    "elif 'grapes' in fruits:\n",
    "    fruit = 'grapes'\n",
    "    \n",
    "print(f'You really like {fruit}!')"
   ]
  },
  {
   "cell_type": "code",
   "execution_count": 57,
   "id": "5b0351e4",
   "metadata": {
    "scrolled": false
   },
   "outputs": [
    {
     "name": "stdout",
     "output_type": "stream",
     "text": [
      "You really like grapes!\n"
     ]
    }
   ],
   "source": [
    "fruits = ['apples','bananas','grapes']\n",
    "if 'mangos' in fruits:\n",
    "    fruit = 'mangos'\n",
    "if 'bananas' in fruits:\n",
    "    fruit = 'bananas'\n",
    "if 'grapes' in fruits:\n",
    "    fruit = 'grapes'\n",
    "print(f'You really like {fruit}!')"
   ]
  },
  {
   "cell_type": "code",
   "execution_count": 58,
   "id": "8a98cf9b",
   "metadata": {
    "scrolled": false
   },
   "outputs": [
    {
     "name": "stdout",
     "output_type": "stream",
     "text": [
      "Audi\n",
      "BMW\n",
      "Subaru\n",
      "Toyota\n"
     ]
    }
   ],
   "source": [
    "#USING IF STATEMENTS WITH LISTS\n",
    "cars = ['audi', 'bmw', 'subaru', 'toyota']\n",
    "for car in cars:\n",
    "    if car == 'bmw':\n",
    "        print(car.upper())\n",
    "    else:\n",
    "        print(car.title())"
   ]
  },
  {
   "cell_type": "code",
   "execution_count": 59,
   "id": "c71ed363",
   "metadata": {
    "scrolled": false
   },
   "outputs": [
    {
     "name": "stdout",
     "output_type": "stream",
     "text": [
      "Adding mushrooms.\n",
      "Adding green peppers.\n",
      "Adding extra cheese.\n",
      "\n",
      "Finished making your pizza!\n"
     ]
    }
   ],
   "source": [
    "#the for-in argument is to loop through a list\n",
    "requested_toppings = ['mushrooms', 'green peppers', 'extra cheese']\n",
    "for requested_topping in requested_toppings:\n",
    "    print(f'Adding {requested_topping}.')\n",
    "print('\\nFinished making your pizza!')"
   ]
  },
  {
   "cell_type": "code",
   "execution_count": 60,
   "id": "4dec165b",
   "metadata": {
    "scrolled": false
   },
   "outputs": [
    {
     "name": "stdout",
     "output_type": "stream",
     "text": [
      "Adding mushrooms.\n",
      "Sorry we are out of green peppers.\n",
      "Adding extra cheese.\n",
      "\n",
      "Finished making your pizza!\n"
     ]
    }
   ],
   "source": [
    "#Checking for Special Items or values in a list\n",
    "requested_toppings = ['mushrooms', 'green peppers', 'extra cheese']\n",
    "for requested_topping in requested_toppings:\n",
    "    if requested_topping == 'green peppers':\n",
    "        print('Sorry we are out of green peppers.')\n",
    "    else:\n",
    "        print(f'Adding {requested_topping}.')\n",
    "print('\\nFinished making your pizza!')"
   ]
  },
  {
   "cell_type": "code",
   "execution_count": 61,
   "id": "7cd38a48",
   "metadata": {
    "scrolled": false
   },
   "outputs": [
    {
     "name": "stdout",
     "output_type": "stream",
     "text": [
      "Are you sure you want a plain pizza?\n"
     ]
    }
   ],
   "source": [
    "#Checking That a List Is Not Empty\n",
    "requested_toppings = []\n",
    "if requested_toppings:\n",
    "    for requested_topping in requested_toppings:\n",
    "        print(f'Adding {requested_topping}. ')\n",
    "    print('Finished making your pizza!')\n",
    "else:\n",
    "    print('Are you sure you want a plain pizza?')"
   ]
  },
  {
   "cell_type": "code",
   "execution_count": 62,
   "id": "8cc12c28",
   "metadata": {
    "scrolled": false
   },
   "outputs": [
    {
     "name": "stdout",
     "output_type": "stream",
     "text": [
      "Adding mushrooms.\n",
      "Sorry we don't have french fries.\n",
      "Adding extra cheese.\n",
      "\n",
      " Finished making your pizza!\n"
     ]
    }
   ],
   "source": [
    "#Using Multiple Lists\n",
    "available_toppings = ('mushrooms', 'olives', 'green peppers', 'pepperoni', 'pineapple', 'extra cheese')\n",
    "requested_toppings = ['mushrooms', 'french fries', 'extra cheese']\n",
    "\n",
    "for requested_topping in requested_toppings:\n",
    "    if requested_topping in available_toppings:\n",
    "        print(f'Adding {requested_topping}.')\n",
    "    else:\n",
    "        print(f'Sorry we don\\'t have {requested_topping}.')\n",
    "print('\\n Finished making your pizza!')"
   ]
  },
  {
   "attachments": {},
   "cell_type": "markdown",
   "id": "9da4b3c4",
   "metadata": {},
   "source": [
    "比萨店供应的配料是固定的，可使用一个元组来存储它们。这些代码的输出整洁而翔实,通过为数不多的几行代码，我们高效地处理了一种真实的情形！"
   ]
  },
  {
   "cell_type": "code",
   "execution_count": 63,
   "id": "efe233c1",
   "metadata": {
    "scrolled": false
   },
   "outputs": [
    {
     "name": "stdout",
     "output_type": "stream",
     "text": [
      "Hello admin, would you like to see a status report?\n",
      "Hello Bob, thank you for logging in again.\n",
      "Hello Cindy, thank you for logging in again.\n",
      "Hello David, thank you for logging in again.\n",
      "Hello Eve, thank you for logging in again.\n"
     ]
    }
   ],
   "source": [
    "#5-8\n",
    "usernames = ['admin', 'Bob', 'Cindy', 'David', 'Eve']\n",
    "if usernames:\n",
    "    for username in usernames:\n",
    "        if username == 'admin':\n",
    "            print(f'Hello {username}, would you like to see a status report?')\n",
    "        else:\n",
    "            print(f'Hello {username}, thank you for logging in again.')\n",
    "else:\n",
    "    print('We need to find some users!')\n"
   ]
  },
  {
   "cell_type": "code",
   "execution_count": 64,
   "id": "0c1f9716",
   "metadata": {
    "scrolled": false
   },
   "outputs": [
    {
     "name": "stdout",
     "output_type": "stream",
     "text": [
      "Alice has been used. Please try a new name.\n",
      "Bob has been used. Please try a new name.\n",
      "Cindy has been used. Please try a new name.\n",
      "Frank has not been used.\n",
      "Gigi has not been used.\n"
     ]
    }
   ],
   "source": [
    "current_users = ['Alice', 'Bob', 'Cindy', 'David', 'Eve']\n",
    "new_users = ['Alice', 'Bob', 'Cindy', 'Frank', 'Gigi']\n",
    "for new_user in new_users:\n",
    "    if new_user in current_users:\n",
    "        print(f'{new_user} has been used. Please try a new name.')\n",
    "    else:\n",
    "        print(f'{new_user} has not been used.')"
   ]
  },
  {
   "cell_type": "code",
   "execution_count": 65,
   "id": "04b9e272",
   "metadata": {
    "scrolled": false
   },
   "outputs": [
    {
     "name": "stdout",
     "output_type": "stream",
     "text": [
      "Alice has been taken.\n",
      "Bob has been taken.\n",
      "Cindy has been taken.\n",
      "Frank can be used.\n",
      "Gigi can be used.\n"
     ]
    }
   ],
   "source": [
    "#5-10pct\n",
    "#确保比较时不区分大小写。1.利用for loop创建列表current_users的副本，其中包含当前所有用户名的小写版本。2.要用new_user中变量的小写版本和副本比较。3.用单复数利于区分变量名称和清单名称。\n",
    "current_users = ['Alice', 'Bob', 'Cindy', 'David', 'Eve']\n",
    "new_users = ['Alice', 'Bob', 'Cindy', 'Frank', 'Gigi']\n",
    "current_users_lower = [current_user.lower() for current_user in current_users]\n",
    "\n",
    "for new_user in new_users:\n",
    "    if new_user.lower() in current_users_lower:\n",
    "        print(f'{new_user} has been taken.')\n",
    "    else:\n",
    "        print(f'{new_user} can be used.')"
   ]
  },
  {
   "cell_type": "code",
   "execution_count": 66,
   "id": "69c3ab80",
   "metadata": {
    "scrolled": false
   },
   "outputs": [
    {
     "name": "stdout",
     "output_type": "stream",
     "text": [
      "1st\n",
      "2nd\n",
      "3th\n",
      "4th\n",
      "5th\n",
      "6th\n",
      "7th\n",
      "8th\n",
      "9th\n"
     ]
    }
   ],
   "source": [
    "#5-11pct\n",
    "numbers = ['1', '2','3','4','5','6','7','8','9',]\n",
    "\n",
    "for number in numbers:\n",
    "    if number == '1':\n",
    "        print('1st')\n",
    "    elif number == '2':\n",
    "        print('2nd')\n",
    "    else:\n",
    "        print(f'{number}th')"
   ]
  },
  {
   "attachments": {},
   "cell_type": "markdown",
   "id": "26a4949d",
   "metadata": {},
   "source": [
    "<a name=\"toc_15456_5\"></a>\n",
    "## 5 Dictionaries"
   ]
  },
  {
   "cell_type": "code",
   "execution_count": 67,
   "id": "a3c705eb",
   "metadata": {
    "scrolled": false
   },
   "outputs": [
    {
     "name": "stdout",
     "output_type": "stream",
     "text": [
      "green\n",
      "You just earned 7 points!\n",
      "7\n",
      "You just earned None points!\n"
     ]
    }
   ],
   "source": [
    "#Accessing Values in a dictionary\n",
    "alien_0 = {'color': 'green', 'points': 7}\n",
    "print(alien_0['color'])\n",
    "\n",
    "new_points = alien_0['points']\n",
    "print(f\"You just earned {new_points} points!\")\n",
    "new_points = print(alien_0['points'])\n",
    "print(f\"You just earned {new_points} points!\")"
   ]
  },
  {
   "attachments": {},
   "cell_type": "markdown",
   "id": "7611c1c1",
   "metadata": {},
   "source": [
    "在Python中，字典是一系列键值对(key value pair)。每个键都与一个值相关联，你可使用键来访问相关联的值。与键相关联的值可以是数、字符串、列表乃至字典。事实上，可将任何Python对象用作字典中的值。在Python中，字典用放在花括号（{} ）中的一系列键值对表示,键值对是两个相关联的值。指定键时，Python将返回与之相关联的值。键和值之间用冒号分隔，而键值对之间用逗号分隔。在字典中，想存储多少个键值对都可以。"
   ]
  },
  {
   "cell_type": "code",
   "execution_count": 68,
   "id": "1bca760d",
   "metadata": {
    "scrolled": false
   },
   "outputs": [
    {
     "name": "stdout",
     "output_type": "stream",
     "text": [
      "{'color': 'green', 'points': 5}\n",
      "{'color': 'green', 'points': 5, 'x-position': 0, 'y_position': 25}\n"
     ]
    }
   ],
   "source": [
    "#Adding New Key-Value Pairs\n",
    "alien_0 = {'color': 'green', 'points': 5}\n",
    "print(alien_0)\n",
    "\n",
    "alien_0['x-position'] = 0\n",
    "alien_0['y_position'] = 25\n",
    "print(alien_0)"
   ]
  },
  {
   "attachments": {},
   "cell_type": "markdown",
   "id": "21145ae7",
   "metadata": {},
   "source": [
    "字典中元素的排列顺序与定义时相同。如果将字典打印出来或遍历元素，将发现元素的排列顺序与添加顺序相同。"
   ]
  },
  {
   "cell_type": "code",
   "execution_count": 69,
   "id": "787bd248",
   "metadata": {
    "scrolled": false
   },
   "outputs": [
    {
     "name": "stdout",
     "output_type": "stream",
     "text": [
      "{'color': 'green', 'points': 5}\n"
     ]
    }
   ],
   "source": [
    "#set an empty dic\n",
    "alien_0 ={}\n",
    "\n",
    "alien_0['color'] = 'green'\n",
    "alien_0['points'] = 5\n",
    "print(alien_0)"
   ]
  },
  {
   "cell_type": "code",
   "execution_count": 70,
   "id": "f46ee46a",
   "metadata": {
    "scrolled": false
   },
   "outputs": [
    {
     "name": "stdout",
     "output_type": "stream",
     "text": [
      "The alien is green.\n",
      "The alien is now yellow.\n"
     ]
    }
   ],
   "source": [
    "#Modifying Values in a Dic 注意必须用双引号\n",
    "alien_0 = {'color': 'green'}\n",
    "print(f\"The alien is {alien_0['color']}.\")\n",
    "\n",
    "alien_0['color'] = 'yellow'\n",
    "print(f\"The alien is now {alien_0['color']}.\")"
   ]
  },
  {
   "cell_type": "code",
   "execution_count": 71,
   "id": "291b1163",
   "metadata": {
    "scrolled": false
   },
   "outputs": [
    {
     "name": "stdout",
     "output_type": "stream",
     "text": [
      "Oringinal position: 0\n",
      "New position: 2\n"
     ]
    }
   ],
   "source": [
    "#determine how far to move the alien based on its current speed\n",
    "alien_0 = {'x_position':0, 'y_positon':25, 'speed':'medium'}\n",
    "print(f\"Oringinal position: {alien_0['x_position']}\")\n",
    "\n",
    "if alien_0 ['speed'] == 'slow':\n",
    "    x_increment = 1\n",
    "elif alien_0['speed'] == 'medium':\n",
    "    x_increment = 2\n",
    "else:\n",
    "    x_increment = 3\n",
    "\n",
    "alien_0['x_position'] = alien_0['x_position'] + x_increment\n",
    "print(f\"New position: {alien_0['x_position']}\")"
   ]
  },
  {
   "cell_type": "code",
   "execution_count": 72,
   "id": "3b65a839",
   "metadata": {
    "scrolled": false
   },
   "outputs": [
    {
     "name": "stdout",
     "output_type": "stream",
     "text": [
      "{'color': 'green', 'points': 5}\n",
      "{'color': 'green'}\n"
     ]
    }
   ],
   "source": [
    "#Removing Key-Value Pairs\n",
    "alien_0 = {'color': 'green', 'points': 5}\n",
    "print(alien_0)\n",
    "\n",
    "del alien_0['points']\n",
    "print(alien_0)"
   ]
  },
  {
   "cell_type": "code",
   "execution_count": 73,
   "id": "aa806e0a",
   "metadata": {
    "scrolled": false
   },
   "outputs": [
    {
     "name": "stdout",
     "output_type": "stream",
     "text": [
      "Alice likes Python.\n"
     ]
    }
   ],
   "source": [
    "#A Dictionary of Similar Objects\n",
    "favorite_language = {\n",
    "    'alice':'python', \n",
    "    'bob':'C', \n",
    "    'carrie': 'R',\n",
    "    }\n",
    "\n",
    "language = favorite_language['alice'].title()\n",
    "print(f\"Alice likes {language}.\")"
   ]
  },
  {
   "attachments": {},
   "cell_type": "markdown",
   "id": "61a4660e",
   "metadata": {},
   "source": [
    "字典存储的是一个对象（游戏中的一个外星人）的多种信息，但你也可以使用字典来存储众多对象的同一种信息。\n",
    "\n",
    "一种不错的做法是，在最后一个键值对后面也加上逗号，为以后在下一行添加键值对做好准备。\n",
    "\n",
    "创建这个新变量让函数调用print() 变得整洁得多。"
   ]
  },
  {
   "cell_type": "code",
   "execution_count": 74,
   "id": "0eaba2bd",
   "metadata": {
    "scrolled": false
   },
   "outputs": [
    {
     "name": "stdout",
     "output_type": "stream",
     "text": [
      "No point value was assigned.\n",
      "None\n"
     ]
    }
   ],
   "source": [
    "alien_0 = {'color': 'green', 'speed': 'slow'}\n",
    "point_value = alien_0.get('points', 'No point value was assigned.')\n",
    "print(point_value)\n",
    "\n",
    "point_value = alien_0.get('points')\n",
    "print(point_value)"
   ]
  },
  {
   "attachments": {},
   "cell_type": "markdown",
   "id": "bba5eaaf",
   "metadata": {},
   "source": [
    "print(alien_0['points'])\n",
    "像这样使用放在方括号内的键从字典中获取感兴趣的值时，可能会引发问题：如果指定的键不存在就会出错。\n",
    "\n",
    "就字典而言，可使用方法get()在指定的键不存在时返回一个默认值，从而避免这样的错误。方法get()的第一个参数用于指定键，是必不可少的；第二个参数为指定的键不存在时要返回的值，是可选的。调用get()时，如果没有指定第二个参数，并且指定的键不存在，Python将返回值None，这个特殊值表示没有相应的值。None并非错误，而是一个表示所需值不存在的特殊值。\n",
    "\n",
    "如果指定的键有可能不存在，应考虑使用方法get() ，而不要使用方括号表示法。"
   ]
  },
  {
   "cell_type": "code",
   "execution_count": 75,
   "id": "a1272794",
   "metadata": {
    "scrolled": false
   },
   "outputs": [
    {
     "name": "stdout",
     "output_type": "stream",
     "text": [
      "My family name is Cao\n",
      "My name is Carrie.\n",
      "apple:\n",
      "a kind of fruit\n"
     ]
    }
   ],
   "source": [
    "#6-1 6-3pct\n",
    "card = {'first_name': 'Carrie', 'Last_name':'Cao', 'age':25, 'city':'taiyuan'}\n",
    "print(f\"My family name is {card['Last_name'].title()}\")\n",
    "name =card['first_name'].title()\n",
    "print(f\"My name is {name}.\")\n",
    "\n",
    "category = {\n",
    "    'apple':'a kind of fruit',\n",
    "    'cabbage': 'a kind of vegetable',\n",
    "    'pen':'a kind of stationary',\n",
    "    'teacher':'a kind of job',\n",
    "    'blue': 'a kind of color'\n",
    "    }\n",
    "print(f\"apple:\\n{category['apple']}\" )"
   ]
  },
  {
   "cell_type": "code",
   "execution_count": 76,
   "id": "279722f3",
   "metadata": {
    "scrolled": false
   },
   "outputs": [
    {
     "name": "stdout",
     "output_type": "stream",
     "text": [
      "\n",
      "Key:username\n",
      "Value: efermi\n",
      "\n",
      "Key:first\n",
      "Value: enrico\n",
      "\n",
      "Key:last\n",
      "Value: fermi\n",
      "\n",
      "Jen's favorite language is Python.\n",
      "\n",
      "Sarah's favorite language is C.\n",
      "\n",
      "Edward's favorite language is Ruby.\n",
      "\n",
      "Phil's favorite language is Python.\n"
     ]
    }
   ],
   "source": [
    "#Looping Through All Key-Value Pairs\n",
    "user_0 = {\n",
    "'username': 'efermi',\n",
    "'first': 'enrico',\n",
    "'last': 'fermi',\n",
    "}\n",
    " \n",
    "for key, value in user_0.items():\n",
    "    print(f\"\\nKey:{key}\")\n",
    "    print(f\"Value: {value}\")\n",
    "    \n",
    "favorite_languages = {\n",
    "'jen': 'python',\n",
    "'sarah': 'c',\n",
    "'edward': 'ruby',\n",
    "'phil': 'python',\n",
    "}\n",
    "\n",
    "for name, language in favorite_languages.items():\n",
    "    print(f\"\\n{name.title()}\\'s favorite language is {language.title()}.\")"
   ]
  },
  {
   "cell_type": "code",
   "execution_count": 77,
   "id": "ff849959",
   "metadata": {
    "scrolled": false
   },
   "outputs": [
    {
     "name": "stdout",
     "output_type": "stream",
     "text": [
      "Jen\n",
      "Sarah\n",
      "Edward\n",
      "Phil\n"
     ]
    }
   ],
   "source": [
    "#Looping Through All the Keys in a Dictionary\n",
    "favorite_languages = {\n",
    "'jen': 'python',\n",
    "'sarah': 'c',\n",
    "'edward': 'ruby',\n",
    "'phil': 'python',\n",
    "}\n",
    "for name in favorite_languages.keys():\n",
    "    print(name.title())"
   ]
  },
  {
   "cell_type": "code",
   "execution_count": 78,
   "id": "284e74d9",
   "metadata": {
    "scrolled": false
   },
   "outputs": [
    {
     "name": "stdout",
     "output_type": "stream",
     "text": [
      "Hi Jen.\n",
      "Hi Sarah.\n",
      "\tSarah, I see you love C!\n",
      "Hi Edward.\n",
      "Hi Phil.\n",
      "\tPhil, I see you love Python!\n",
      "Erin, please take our poll!\n"
     ]
    }
   ],
   "source": [
    "#Looping Through some Keys in a Dictionary\n",
    "favorite_languages = {\n",
    "'jen': 'python',\n",
    "'sarah': 'c',\n",
    "'edward': 'ruby',\n",
    "'phil': 'python',\n",
    "}\n",
    "\n",
    "friends = ['phil', 'sarah']\n",
    "          \n",
    "for name in favorite_languages.keys():\n",
    "    print(f\"Hi {name.title()}.\")\n",
    "    if name in friends:\n",
    "          language = favorite_languages[name].title()\n",
    "          print(f\"\\t{name.title()}, I see you love {language}!\")\n",
    "        \n",
    "if 'erin' not in favorite_language.keys():\n",
    "    print(\"Erin, please take our poll!\")"
   ]
  },
  {
   "attachments": {},
   "cell_type": "markdown",
   "id": "94f75a23",
   "metadata": {},
   "source": [
    "为获悉朋友喜欢的语言，我们使用了字典名，并将变量name的当前值作为键。\n",
    "方法keys()并非只能用于遍历：实际上它会返回一个列表，其中包含字典中的所有键。使用方法keys()可以确定某个人是否接受了调查。"
   ]
  },
  {
   "cell_type": "code",
   "execution_count": 79,
   "id": "8e9c0121",
   "metadata": {
    "scrolled": false
   },
   "outputs": [
    {
     "name": "stdout",
     "output_type": "stream",
     "text": [
      "Edward, thank you for taking the poll.\n",
      "Jen, thank you for taking the poll.\n",
      "Phil, thank you for taking the poll.\n",
      "Sarah, thank you for taking the poll.\n"
     ]
    }
   ],
   "source": [
    "#Looping Through a Dictionary’s Keys in a Particular Order\n",
    "favorite_languages = {\n",
    "'jen': 'python',\n",
    "'sarah': 'c',\n",
    "'edward': 'ruby',\n",
    "'phil': 'python',\n",
    "}\n",
    "\n",
    "for name in sorted(favorite_languages.keys()):\n",
    "    print(f\"{name.title()}, thank you for taking the poll.\")"
   ]
  },
  {
   "cell_type": "code",
   "execution_count": 80,
   "id": "f0712fda",
   "metadata": {
    "scrolled": false
   },
   "outputs": [
    {
     "name": "stdout",
     "output_type": "stream",
     "text": [
      "The following languages have been mentioned:\n",
      "Python\n",
      "C\n",
      "Ruby\n",
      "Python\n"
     ]
    }
   ],
   "source": [
    "#Looping Through All Values in a Dictionary\n",
    "favorite_languages = {\n",
    "'jen': 'python',\n",
    "'sarah': 'c',\n",
    "'edward': 'ruby',\n",
    "'phil': 'python',\n",
    "}\n",
    "\n",
    "print(\"The following languages have been mentioned:\")\n",
    "for language in favorite_languages.values():\n",
    "    print(language.title())"
   ]
  },
  {
   "cell_type": "code",
   "execution_count": 81,
   "id": "36950fa3",
   "metadata": {
    "scrolled": false
   },
   "outputs": [
    {
     "name": "stdout",
     "output_type": "stream",
     "text": [
      "Ruby\n",
      "Python\n",
      "C\n"
     ]
    },
    {
     "data": {
      "text/plain": [
       "{'c', 'python', 'ruby'}"
      ]
     },
     "execution_count": 81,
     "metadata": {},
     "output_type": "execute_result"
    }
   ],
   "source": [
    "favorite_languages = {\n",
    "'jen': 'python',\n",
    "'sarah': 'c',\n",
    "'edward': 'ruby',\n",
    "'phil': 'python',\n",
    "}\n",
    "for language in set(favorite_languages.values()):\n",
    "    print(language.title())\n",
    "\n",
    "languages = {'python', 'ruby', 'python', 'c'}\n",
    "languages"
   ]
  },
  {
   "attachments": {},
   "cell_type": "markdown",
   "id": "15d9254c",
   "metadata": {},
   "source": [
    "如果被调查者很多，最终的列表可能包含大量重复项。为剔除重复项，可使用集合(set)。集合中的每个元素都必须是独一无二的。\n",
    "可使用一对花括号直接创建集合，并在其中用逗号分隔元素。\n",
    "\n",
    "集合和字典很容易混淆，因为它们都是用一对花括号定义的。当花括号内没有键值对时，定义的很可能是集合。不同于列表和字典，集合不会以特定的顺序存储元素。"
   ]
  },
  {
   "cell_type": "code",
   "execution_count": 82,
   "id": "ebbb06b8",
   "metadata": {
    "scrolled": false
   },
   "outputs": [
    {
     "name": "stdout",
     "output_type": "stream",
     "text": [
      "The Nile runs through Egypt.\n",
      "The Changjiang runs through China.\n",
      "The Amazon runs through Southamerica.\n",
      "Nile\n",
      "Changjiang\n",
      "Amazon\n",
      "Egypt\n",
      "China\n",
      "Southamerica\n"
     ]
    }
   ],
   "source": [
    "#6-5pct\n",
    "rivers = {'nile': 'egypt', 'changjiang': 'china', 'amazon':'southamerica'}\n",
    "for river, district in rivers.items():\n",
    "    print(f\"The {river.title()} runs through {district.title()}.\")\n",
    "    \n",
    "for river in rivers.keys():\n",
    "    print(river.title())\n",
    "for district in rivers.values():\n",
    "    print(district.title())"
   ]
  },
  {
   "cell_type": "code",
   "execution_count": 83,
   "id": "14cabdea",
   "metadata": {
    "scrolled": false
   },
   "outputs": [
    {
     "name": "stdout",
     "output_type": "stream",
     "text": [
      "Thank you Jen for taking the survey! \n",
      "Thank you Sarah for taking the survey! \n",
      "Thank you Edward for taking the survey! \n",
      "Please take the survey Alice!\n",
      "Please take the survey Betty!\n"
     ]
    }
   ],
   "source": [
    "#6-6pct\n",
    "favorite_languages = {\n",
    "'jen': 'python',\n",
    "'sarah': 'c',\n",
    "'edward': 'ruby',\n",
    "'phil': 'python',\n",
    "}\n",
    "\n",
    "checking ={\n",
    "'jen': 'python',\n",
    "'sarah': 'c',\n",
    "'edward': 'ruby',\n",
    "'alice':'julia',\n",
    "'betty':'r',\n",
    "}\n",
    "\n",
    "for people in checking.keys():\n",
    "    if people in favorite_languages:\n",
    "        print(f\"Thank you {people.title()} for taking the survey! \")\n",
    "    else:\n",
    "        print(f\"Please take the survey {people.title()}!\")"
   ]
  },
  {
   "attachments": {},
   "cell_type": "markdown",
   "id": "65247c76",
   "metadata": {},
   "source": [
    "<a name=\"toc_15456_5.4\"></a>\n",
    "### 5.4 Nesting"
   ]
  },
  {
   "cell_type": "code",
   "execution_count": 84,
   "id": "b62dc823",
   "metadata": {
    "scrolled": false
   },
   "outputs": [
    {
     "name": "stdout",
     "output_type": "stream",
     "text": [
      "{'color': 'green', 'points': 5}\n",
      "{'color': 'yellow', 'points': 10}\n",
      "{'color': 'red', 'points': 15}\n"
     ]
    }
   ],
   "source": [
    "#A List of Dictionaries\n",
    "alien_0 = {'color': 'green', 'points': 5}\n",
    "alien_1 = {'color': 'yellow', 'points': 10}\n",
    "alien_2 = {'color': 'red', 'points': 15}\n",
    "\n",
    "aliens = [alien_0, alien_1, alien_2]\n",
    "for alien in aliens:\n",
    "    print(alien)"
   ]
  },
  {
   "attachments": {},
   "cell_type": "markdown",
   "id": "abaa183d",
   "metadata": {},
   "source": [
    "需要将一系列字典存储在列表中，或将列表作为值存储在字典中，这称为嵌套nesting。你可以在列表中嵌套字典、在字典中嵌套列表甚至在字典中嵌套字典。"
   ]
  },
  {
   "cell_type": "code",
   "execution_count": 85,
   "id": "2075be1f",
   "metadata": {
    "scrolled": false
   },
   "outputs": [
    {
     "name": "stdout",
     "output_type": "stream",
     "text": [
      "{'color': 'green', 'points': 5}\n",
      "{'color': 'yellow', 'points': 10}\n",
      "{'color': 'red', 'points': 15}\n",
      "{'color': 'green', 'points': 5, 'speed': 'slow'}\n",
      "{'color': 'green', 'points': 5, 'speed': 'slow'}\n",
      "...\n",
      "Total number of aliens:33\n"
     ]
    }
   ],
   "source": [
    "alines = []\n",
    "for alien_number in range(30):\n",
    "    new_alien = {'color': 'green', 'points': 5, 'speed': 'slow'}\n",
    "    aliens.append(new_alien)\n",
    "for alien in aliens[:5]:\n",
    "    print(alien)\n",
    "print('...')\n",
    "print(f\"Total number of aliens:{len(aliens)}\")"
   ]
  },
  {
   "attachments": {},
   "cell_type": "markdown",
   "id": "c412e829",
   "metadata": {},
   "source": [
    "更符合现实的情形是，外星人不止三个，且每个外星人都是使用代码自动生成的。这些外星人都具有相同的特征，但是在Python看来，每个外星人都是独立的，这让我们能够独立地修改每个外星人。\n",
    "\n",
    "range() 返回一系列数，其唯一的用途是告诉Python要重复这个循环多少次。每次执行这个循环时，都创建一个外星人，并将其附加到列表aliens末尾。然后使用一个切片来打印前5个外星人。最后打印列表的长度，以证明确实创建了30个外星人。"
   ]
  },
  {
   "cell_type": "code",
   "execution_count": 86,
   "id": "53f76443",
   "metadata": {
    "scrolled": false
   },
   "outputs": [
    {
     "name": "stdout",
     "output_type": "stream",
     "text": [
      "{'color': 'yellow', 'points': 10, 'speed': 'medium'}\n",
      "{'color': 'yellow', 'points': 10, 'speed': 'medium'}\n",
      "{'color': 'yellow', 'points': 10, 'speed': 'medium'}\n",
      "{'color': 'green', 'points': 5, 'speed': 'slow'}\n",
      "{'color': 'green', 'points': 5, 'speed': 'slow'}\n",
      "...\n"
     ]
    }
   ],
   "source": [
    "#create an empty list for storing alien\n",
    "aliens = []\n",
    "\n",
    "#create 30 aliens automatically\n",
    "for alien_number in range(30):\n",
    "    new_alien = {'color': 'green', 'points': 5, 'speed': 'slow'}\n",
    "    aliens.append(new_alien)\n",
    "\n",
    "#change the color, speed and points of the first three green aliens,be careful about the equal operator\n",
    "for alien in aliens[:3]:\n",
    "    if alien['color'] == 'green':\n",
    "        alien['color'] = 'yellow'\n",
    "        alien['speed'] = 'medium'\n",
    "        alien['points'] = 10\n",
    "    #change the yellow aliens (if exist in the oringinal list the result will change, otherwise not)\n",
    "    elif alien['color'] =='yellow':\n",
    "        alien['color'] = 'red'\n",
    "        alien['speed'] = 'fast'\n",
    "        alien['points'] = 15\n",
    "        \n",
    "#show the first five aliens\n",
    "for alien in aliens[:5]:\n",
    "    print(alien)\n",
    "print('...')"
   ]
  },
  {
   "attachments": {},
   "cell_type": "markdown",
   "id": "51546d20",
   "metadata": {},
   "source": [
    "经常需要在列表中包含大量的字典，而其中每个字典都包含特定对象的众多信息。在这个列表中，所有字典的结构都相同，因此可以遍历这个列表，并以相同的方式处理其中的每个字典。"
   ]
  },
  {
   "cell_type": "code",
   "execution_count": 87,
   "id": "b8f6dbbe",
   "metadata": {
    "scrolled": false
   },
   "outputs": [
    {
     "name": "stdout",
     "output_type": "stream",
     "text": [
      "You ordered a thick-crust pizza with the following toppings:\n",
      "\tmushrooms\n",
      "\textra cheese\n"
     ]
    }
   ],
   "source": [
    "#Lists in a Dictionary\n",
    "pizza = {\n",
    "    'crust': 'thick',\n",
    "    'toppings': ['mushrooms', 'extra cheese'],\n",
    "}\n",
    "\n",
    "#print{dic['key']}\n",
    "#for value in dic['keys']:print{value}\n",
    "print(f\"You ordered a {pizza['crust']}-crust pizza with the following toppings:\")\n",
    "for topping in pizza['toppings']:\n",
    "    print(\"\\t\"+topping)"
   ]
  },
  {
   "attachments": {},
   "cell_type": "markdown",
   "id": "b6c0247f",
   "metadata": {},
   "source": [
    "如果函数调用print() 中的字符串很长，为了显示结果整洁美观，可以在合适的位置分行。先打印好第一行，然后编写一个for loop,使用toppings key访问配料列表；最后在显示配料结果的每行行首加上带引号的缩进。\n",
    "\n",
    "**每当需要在字典中将一个键关联到多个值时，都可以在字典中嵌套一个列表。**"
   ]
  },
  {
   "cell_type": "code",
   "execution_count": 88,
   "id": "070d70c2",
   "metadata": {
    "scrolled": false
   },
   "outputs": [
    {
     "name": "stdout",
     "output_type": "stream",
     "text": [
      "\n",
      "Jen's favorite languages are:\n",
      "\tPython\n",
      "\tRuby\n",
      "\n",
      "Sarah's favorite language is:\n",
      "\tRuby\n",
      "\n",
      "Edward's favorite languages are:\n",
      "\tRuby\n",
      "\tGo\n",
      "\n",
      "Phil's favorite languages are:\n",
      "\tPython\n",
      "\tHaskell\n"
     ]
    }
   ],
   "source": [
    "favorite_languages = {\n",
    "'jen': ['python', 'ruby'],\n",
    "'sarah': ['c'],\n",
    "'edward': ['ruby', 'go'],\n",
    "'phil': ['python', 'haskell'],\n",
    "}\n",
    "\n",
    "#for key, values in dic.items(): print(key.title()) \n",
    "#nesting for value in values: print{value.title()}\n",
    "for name, languages in favorite_languages.items():\n",
    "    if len(languages) == 1:\n",
    "        print(f\"\\n{name.title()}'s favorite language is:\\n\\t{language.title()}\" )\n",
    "    else:\n",
    "        print(f\"\\n{name.title()}'s favorite languages are:\")\n",
    "        for language in languages:\n",
    "            print(f\"\\t{language.title()}\")"
   ]
  },
  {
   "attachments": {},
   "cell_type": "markdown",
   "id": "c0a60437",
   "metadata": {},
   "source": [
    "当我们遍历字典时，与每个被调查者相关联的都是一个语言列表，而不是一种语言；因此，在遍历该字典的for循环中，我们需要再使用一个for循环来遍历与被调查者相关联的语言列表。\n",
    "\n",
    "为进一步改进这个程序，可在遍历字典的for循环开头添加一条if语句，通过查看len(languages)的值来确定当前的被调查者喜欢的语言是否有多种。如果他喜欢的语言有多种，就像以前一样显示输出；如果只有一种，就相应修改输出的措辞，如显示Sarah's favorite language is C。\n",
    "\n",
    "注意列表和字典的嵌套层级不应太多。如果嵌套层级比前面的示例多得多，很可能有更简单的解决方案。"
   ]
  },
  {
   "cell_type": "code",
   "execution_count": 89,
   "id": "ecfa2e57",
   "metadata": {
    "scrolled": false
   },
   "outputs": [
    {
     "name": "stdout",
     "output_type": "stream",
     "text": [
      "\n",
      "Username: aeinstein\n",
      "\tFull name: Alberteinstein\n",
      "\tLocation: Princeton\n",
      "\n",
      "Username: mcurie\n",
      "\tFull name: Mariecurie\n",
      "\tLocation: Paris\n"
     ]
    }
   ],
   "source": [
    "#A Dictionary in a Dictionary\n",
    "users = {\n",
    "'aeinstein': {\n",
    "'first': 'albert',\n",
    "'last': 'einstein',\n",
    "'location': 'princeton',\n",
    "},\n",
    "'mcurie': {\n",
    "'first': 'marie',\n",
    "'last': 'curie',\n",
    "'location': 'paris',\n",
    "},\n",
    "}\n",
    "\n",
    "for username, user_info in users.items():\n",
    "    print(f\"\\nUsername: {username}\")\n",
    "    \n",
    "    # use each key to generate a neatly formatted full name and location for each person\n",
    "    full_name = f\"{user_info['first']}{user_info['last']}\"\n",
    "    location = user_info['location']\n",
    "    print(f\"\\tFull name: {full_name.title()}\")\n",
    "    print(f\"\\tLocation: {location.title()}\")"
   ]
  },
  {
   "attachments": {},
   "cell_type": "markdown",
   "id": "09b2c09e",
   "metadata": {},
   "source": [
    "表示每位用户的字典都具有相同的结构。虽然Python并没有这样的要求，但这使得嵌套的字典处理起来更容易。倘若表示每位用户的字典都包含不同的键，for循环内部的代码将更复杂。"
   ]
  },
  {
   "cell_type": "code",
   "execution_count": 90,
   "id": "b6c8ad53",
   "metadata": {
    "scrolled": false
   },
   "outputs": [
    {
     "name": "stdout",
     "output_type": "stream",
     "text": [
      "{'first_name': 'eric', 'last_name': 'matthes', 'age': 46, 'city': 'sitka'}\n",
      "{'first_name': 'lemmy', 'last_name': 'matthes', 'age': 2, 'city': 'sitka'}\n",
      "{'first_name': 'willie', 'last_name': 'matthes', 'age': 11, 'city': 'sitka'}\n",
      "Total number of people: 3\n"
     ]
    }
   ],
   "source": [
    "#6-7pct dic in list\n",
    "people = []\n",
    "\n",
    "person = {\n",
    "    'first_name': 'eric',\n",
    "    'last_name': 'matthes',\n",
    "    'age': 46,\n",
    "    'city': 'sitka',\n",
    "    }\n",
    "people.append(person)\n",
    "\n",
    "person = {\n",
    "    'first_name': 'lemmy',\n",
    "    'last_name': 'matthes',\n",
    "    'age': 2,\n",
    "    'city': 'sitka',\n",
    "    }\n",
    "people.append(person)\n",
    "\n",
    "person = {\n",
    "    'first_name': 'willie',\n",
    "    'last_name': 'matthes',\n",
    "    'age': 11,\n",
    "    'city': 'sitka',\n",
    "    }\n",
    "people.append(person)\n",
    "\n",
    "#for variable in list[:]: print{len(list)}\n",
    "for person in people[:]:\n",
    "    print(person)\n",
    "print(f\"Total number of people: {len(people)}\")"
   ]
  },
  {
   "cell_type": "code",
   "execution_count": 91,
   "id": "45022fe0",
   "metadata": {
    "scrolled": true
   },
   "outputs": [
    {
     "name": "stdout",
     "output_type": "stream",
     "text": [
      "\n",
      "Here is the John message:\n",
      "\tanimal type:python\n",
      "\tname:john\n",
      "\towner:guido\n",
      "\tweight:43\n",
      "\teats:bugs\n",
      "\n",
      "Here is the Clarence message:\n",
      "\tanimal type:chicken\n",
      "\tname:clarence\n",
      "\towner:tiffany\n",
      "\tweight:2\n",
      "\teats:seeds\n",
      "\n",
      "Here is the Peso message:\n",
      "\tanimal type:dog\n",
      "\tname:peso\n",
      "\towner:eric\n",
      "\tweight:37\n",
      "\teats:shoes\n"
     ]
    }
   ],
   "source": [
    "#6-8pct dic in list\n",
    "pets = []\n",
    "\n",
    "pet = {\n",
    "    'animal type': 'python',\n",
    "    'name': 'john',\n",
    "    'owner': 'guido',\n",
    "    'weight': 43,\n",
    "    'eats': 'bugs',\n",
    "}\n",
    "pets.append(pet)\n",
    "\n",
    "pet = {\n",
    "    'animal type': 'chicken',\n",
    "    'name': 'clarence',\n",
    "    'owner': 'tiffany',\n",
    "    'weight': 2,\n",
    "    'eats': 'seeds',\n",
    "}\n",
    "pets.append(pet)\n",
    "\n",
    "pet = {\n",
    "    'animal type': 'dog',\n",
    "    'name': 'peso',\n",
    "    'owner': 'eric',\n",
    "    'weight': 37,\n",
    "    'eats': 'shoes',\n",
    "}\n",
    "pets.append(pet)\n",
    "\n",
    "#for variable in list: print{dic['key'].title()}\n",
    "#nesting for key,value in dic.items(): print({key} {value})\n",
    "for pet in pets:\n",
    "    print(f\"\\nHere is the {pet['name'].title()} message:\")\n",
    "    for key,value in pet.items():\n",
    "        print(f\"\\t{key}:{value}\")"
   ]
  },
  {
   "cell_type": "code",
   "execution_count": 92,
   "id": "09ef110b",
   "metadata": {
    "scrolled": false
   },
   "outputs": [
    {
     "name": "stdout",
     "output_type": "stream",
     "text": [
      "\n",
      "Here are Eric's favorite places:\n",
      "\tBear Mountain\n",
      "\tDeath Valley\n",
      "\tTierra Del Fuego\n",
      "\n",
      "Here are Erin's favorite places:\n",
      "\tHawaii\n",
      "\tIceland\n",
      "\n",
      "Here are Willie's favorite places:\n",
      "\tMt. Verstovia\n",
      "\tThe Playground\n",
      "\tNew Hampshire\n"
     ]
    }
   ],
   "source": [
    "#6-9pct list in dic\n",
    "favorite_places = {\n",
    "    'eric': ['bear mountain', 'death valley', 'tierra del fuego'],\n",
    "    'erin': ['hawaii', 'iceland'],\n",
    "    'willie': ['mt. verstovia', 'the playground', 'new hampshire']\n",
    "    }\n",
    "\n",
    "#for key, values in dic.items(): print{key.title()} \n",
    "#nesting for value in values: print{value.title()}\n",
    "for name,palaces in favorite_places.items():\n",
    "    print(f\"\\nHere are {name.title()}'s favorite places:\")\n",
    "    for palace in palaces:\n",
    "        print(f\"\\t{palace.title()}\")"
   ]
  },
  {
   "cell_type": "code",
   "execution_count": 93,
   "id": "18be6f15",
   "metadata": {
    "scrolled": false
   },
   "outputs": [
    {
     "name": "stdout",
     "output_type": "stream",
     "text": [
      "\n",
      "Here are Mandy's favorite numbers: \n",
      "42\n",
      "17\n",
      "\n",
      "Here are Micah's favorite numbers: \n",
      "42\n",
      "39\n",
      "56\n",
      "\n",
      "Here are Gus's favorite numbers: \n",
      "7\n",
      "12\n"
     ]
    }
   ],
   "source": [
    "#6-10pct list in dic\n",
    "favorite_numbers = {\n",
    "    'mandy': [42, 17],\n",
    "    'micah': [42, 39, 56],\n",
    "    'gus': [7, 12],\n",
    "    }\n",
    "\n",
    "#for key, values in dic.items(): print(key.title()) \n",
    "#nesting for value in values: print{value}\n",
    "for name, numbers in favorite_numbers.items():\n",
    "    print(f\"\\nHere are {name.title()}'s favorite numbers: \")\n",
    "    for number in numbers:\n",
    "        print(f\"{number}\")"
   ]
  },
  {
   "cell_type": "code",
   "execution_count": 94,
   "id": "f556b790",
   "metadata": {
    "scrolled": false
   },
   "outputs": [
    {
     "name": "stdout",
     "output_type": "stream",
     "text": [
      "\n",
      "Here are messages about Santiago:\n",
      "Chile, \n",
      "6310000,\n",
      "Andes\n",
      "\n",
      "Here are messages about Talkeetna:\n",
      "United States, \n",
      "876,\n",
      "Alaska Range\n",
      "\n",
      "Here are messages about Kathmandu:\n",
      "Nepal, \n",
      "975453,\n",
      "Himilaya\n"
     ]
    }
   ],
   "source": [
    "#6-11 Dic in a dic\n",
    "cities = {\n",
    "    'santiago': {\n",
    "        'country': 'chile',\n",
    "        'population': 6_310_000,\n",
    "        'nearby mountains': 'andes',\n",
    "        },\n",
    "    'talkeetna': {\n",
    "        'country': 'united states',\n",
    "        'population': 876,\n",
    "        'nearby mountains': 'alaska range',\n",
    "        },\n",
    "    'kathmandu': {\n",
    "        'country': 'nepal',\n",
    "        'population': 975_453,\n",
    "        'nearby mountains': 'himilaya',\n",
    "        }\n",
    "    }\n",
    "\n",
    "#for key, dic2 in dic1.items(): print{key.title()}\n",
    "#key2.1 = dic2['key2.1'].title()\n",
    "#key2.2 = dic2['key2.2'].title()\n",
    "#print{key2.1}{key2.2}\n",
    "for city, city_info in cities.items():\n",
    "    print(f\"\\nHere are messages about {city.title()}:\")\n",
    "    country = city_info['country'].title()\n",
    "    population = city_info['population']\n",
    "    fact = city_info['nearby mountains'].title()\n",
    "    print(f\"{country}, \\n{population},\\n{fact}\")"
   ]
  },
  {
   "cell_type": "code",
   "execution_count": 6,
   "id": "e3cbc95c",
   "metadata": {},
   "outputs": [
    {
     "name": "stdout",
     "output_type": "stream",
     "text": [
      "{0: 0, 1: 1, 2: 4, 3: 9, 4: 16}\n",
      "{0: 0, 1: 1, 2: 4, 3: 9, 4: 16}\n",
      "{'kai': 'jen', 'abe': 'eva', 'ada': 'dan', 'gus': 'isa', 'zoe': 'meg'}\n"
     ]
    }
   ],
   "source": [
    "#Using a loop to make a dictionary\n",
    "squares = {}\n",
    "for x in range(5):\n",
    "    squares[x] = x**2\n",
    "print(squares)\n",
    "\n",
    "#Using a dictionary comprehension\n",
    "squares2 = {x:x**2 for x in range(5)}\n",
    "print(squares2)\n",
    "\n",
    "#Using zip() to make a dictionary\n",
    "group_1 = ['kai', 'abe', 'ada', 'gus', 'zoe']\n",
    "group_2 = ['jen', 'eva', 'dan', 'isa', 'meg']\n",
    "\n",
    "pairings = {name:name_2 for name, name_2 in zip(group_1, group_2)}\n",
    "print(pairings)"
   ]
  },
  {
   "attachments": {},
   "cell_type": "markdown",
   "id": "b293a93c",
   "metadata": {},
   "source": [
    "<a name=\"toc_15456_6\"></a>\n",
    "## 6 User Input And While Loops"
   ]
  },
  {
   "cell_type": "code",
   "execution_count": 95,
   "id": "c79da5b1",
   "metadata": {
    "scrolled": false
   },
   "outputs": [
    {
     "name": "stdout",
     "output_type": "stream",
     "text": [
      "Tell me something, and I will repeat it back to you: a\n",
      "a\n"
     ]
    }
   ],
   "source": [
    "#Writing Clear Prompts\n",
    "message = input(\"Tell me something, and I will repeat it back to you: \")\n",
    "print(message)"
   ]
  },
  {
   "cell_type": "code",
   "execution_count": 7,
   "id": "1c82cd2a",
   "metadata": {
    "scrolled": false
   },
   "outputs": [
    {
     "name": "stdout",
     "output_type": "stream",
     "text": [
      "\n",
      "Hello, a!\n"
     ]
    }
   ],
   "source": [
    "name = input(\"Please enter your name: \")\n",
    "print(f\"\\nHello, {name}!\")"
   ]
  },
  {
   "cell_type": "code",
   "execution_count": 97,
   "id": "14a1ad45",
   "metadata": {
    "scrolled": false
   },
   "outputs": [
    {
     "name": "stdout",
     "output_type": "stream",
     "text": [
      "If you tell us who you are, we can personalize the messages you see.\n",
      "What's your first name?a\n",
      "\n",
      "Hello, a!\n"
     ]
    }
   ],
   "source": [
    "prompt = \"If you tell us who you are, we can personalize the messages you see.\"\n",
    "prompt += \"\\nWhat's your first name?\"\n",
    "\n",
    "name = input(prompt)\n",
    "print(f\"\\nHello, {name}!\")"
   ]
  },
  {
   "attachments": {},
   "cell_type": "markdown",
   "id": "8891ec2d",
   "metadata": {},
   "source": [
    "有时候，提示可能超过一行。例如，你可能需要指出为什么要获取特定输入。在这种情况下，可将提示赋给一个变量，再将该变量传递给函数input() 。the operator += takes the string that was assigned to prompt."
   ]
  },
  {
   "cell_type": "code",
   "execution_count": 8,
   "id": "a2d1919d",
   "metadata": {
    "scrolled": false
   },
   "outputs": [],
   "source": [
    "#Using int() to Accept Numerical Input\n",
    "age = input(\"How old are you?\")"
   ]
  },
  {
   "cell_type": "code",
   "execution_count": 99,
   "id": "63a9fea6",
   "metadata": {
    "scrolled": false
   },
   "outputs": [
    {
     "data": {
      "text/plain": [
       "'1'"
      ]
     },
     "execution_count": 99,
     "metadata": {},
     "output_type": "execute_result"
    }
   ],
   "source": [
    "age"
   ]
  },
  {
   "cell_type": "code",
   "execution_count": 100,
   "id": "958c40fc",
   "metadata": {
    "scrolled": false
   },
   "outputs": [
    {
     "data": {
      "text/plain": [
       "False"
      ]
     },
     "execution_count": 100,
     "metadata": {},
     "output_type": "execute_result"
    }
   ],
   "source": [
    "age =int(age)\n",
    "age >= 18"
   ]
  },
  {
   "attachments": {},
   "cell_type": "markdown",
   "id": "cca54ece",
   "metadata": {},
   "source": [
    "用户输入的是数21，但我们请求Python提供变量age的值时，它返回的是'21'，用户输入数值的字符串表示。我们怎么知道Python将输入解读成了字符串呢？因为这个数用引号引起来了。如果只想打印输入，这一点问题都没有；但如果试图将输入作为数来使用，就会引发错误\n",
    "age >= 18 \n",
    "TypeError: '>=' not supported between instances of 'str' and 'int'\n",
    "为解决这个问题，可使用函数int()，它让Python将输入视为数值。函数int()将数的字符串表示转换为数值表示"
   ]
  },
  {
   "cell_type": "code",
   "execution_count": 101,
   "id": "93ee2d17",
   "metadata": {
    "scrolled": false
   },
   "outputs": [
    {
     "name": "stdout",
     "output_type": "stream",
     "text": [
      "How tall are you, in inches?1\n",
      "\n",
      "You are not tall enough to ride.\n"
     ]
    }
   ],
   "source": [
    "height = input(\"How tall are you, in inches?\")\n",
    "height = int(height)\n",
    "\n",
    "if height >= 48:\n",
    "    print(\"\\nYou are tall enough to ride.\")\n",
    "else:\n",
    "    print(\"\\nYou are not tall enough to ride.\")"
   ]
  },
  {
   "cell_type": "code",
   "execution_count": 102,
   "id": "2a40b1d3",
   "metadata": {
    "scrolled": false
   },
   "outputs": [
    {
     "data": {
      "text/plain": [
       "1"
      ]
     },
     "execution_count": 102,
     "metadata": {},
     "output_type": "execute_result"
    }
   ],
   "source": [
    "#The Modulo Operator\n",
    "7%3"
   ]
  },
  {
   "cell_type": "code",
   "execution_count": 103,
   "id": "d333b770",
   "metadata": {
    "scrolled": false
   },
   "outputs": [
    {
     "name": "stdout",
     "output_type": "stream",
     "text": [
      "Enter a number: 1\n",
      "\n",
      "The number 1 is odd.\n"
     ]
    }
   ],
   "source": [
    "number = input(\"Enter a number: \")\n",
    "number = int(number)\n",
    "\n",
    "if number % 2 ==0:\n",
    "    print(f\"\\nThe number {number} is even.\")\n",
    "else:\n",
    "    print(f\"\\nThe number {number} is odd.\")"
   ]
  },
  {
   "cell_type": "code",
   "execution_count": 104,
   "id": "d447d2cc",
   "metadata": {
    "scrolled": false
   },
   "outputs": [
    {
     "name": "stdout",
     "output_type": "stream",
     "text": [
      "What cars are you looking for? 1\n",
      "Let me see if I can find you a 1.\n"
     ]
    }
   ],
   "source": [
    "#7-1pct\n",
    "car = input(\"What cars are you looking for? \")\n",
    "print(f\"Let me see if I can find you a {car.title()}.\")"
   ]
  },
  {
   "cell_type": "code",
   "execution_count": 105,
   "id": "579961d3",
   "metadata": {
    "scrolled": false
   },
   "outputs": [
    {
     "name": "stdout",
     "output_type": "stream",
     "text": [
      "How many people need serving? 1\n",
      "There are no enough tables.\n"
     ]
    }
   ],
   "source": [
    "#7-2pct\n",
    "number = input(\"How many people need serving? \")\n",
    "number = int(number)\n",
    "\n",
    "if number >= 8:\n",
    "    print(\"There are no enough tables.\")\n",
    "else:\n",
    "    print(\"There are no enough tables.\")"
   ]
  },
  {
   "cell_type": "code",
   "execution_count": 106,
   "id": "f96dbed4",
   "metadata": {
    "scrolled": false
   },
   "outputs": [
    {
     "name": "stdout",
     "output_type": "stream",
     "text": [
      "Enter a number: 1\n",
      "Number 1 can not be divided by 10.\n"
     ]
    }
   ],
   "source": [
    "#7-3pct\n",
    "number = input(\"Enter a number: \")\n",
    "number = int(number)\n",
    "\n",
    "if number % 10 == 0:\n",
    "    print(f\"Number {number} can be divided by 10.\")\n",
    "else:\n",
    "    print(f\"Number {number} can not be divided by 10.\")"
   ]
  },
  {
   "cell_type": "code",
   "execution_count": 107,
   "id": "5004acee",
   "metadata": {
    "scrolled": true
   },
   "outputs": [
    {
     "name": "stdout",
     "output_type": "stream",
     "text": [
      "1\n",
      "2\n",
      "3\n",
      "4\n",
      "5\n"
     ]
    }
   ],
   "source": [
    "#The while Loop in Action\n",
    "current_number = 1\n",
    "while current_number <= 5:\n",
    "    print(current_number)\n",
    "    current_number += 1"
   ]
  },
  {
   "attachments": {},
   "cell_type": "markdown",
   "id": "6efda2fb",
   "metadata": {},
   "source": [
    "for循环用于针对集合中的每个元素都执行一个代码块，而while循环则不断运行，直到指定的条件不满足为止。"
   ]
  },
  {
   "cell_type": "code",
   "execution_count": 44,
   "id": "1a770427",
   "metadata": {
    "scrolled": false
   },
   "outputs": [
    {
     "name": "stdout",
     "output_type": "stream",
     "text": [
      "\n",
      "Tell me sth, and I will repeat it: \n",
      "Enter 'quit' to end the program. a\n",
      "a\n",
      "\n",
      "Tell me sth, and I will repeat it: \n",
      "Enter 'quit' to end the program. b\n",
      "b\n",
      "\n",
      "Tell me sth, and I will repeat it: \n",
      "Enter 'quit' to end the program. quit\n"
     ]
    }
   ],
   "source": [
    "#Letting the User Choose When to Quit\n",
    "prompt = \"\\nTell me sth, and I will repeat it: \"\n",
    "prompt += \"\\nEnter 'quit' to end the program. \"\n",
    "message = \"\"\n",
    "while message != 'quit':\n",
    "    message = input(prompt)\n",
    "    \n",
    "    if message != 'quit':\n",
    "        print(message)"
   ]
  },
  {
   "attachments": {},
   "cell_type": "markdown",
   "id": "b068229c",
   "metadata": {},
   "source": [
    "我们将变量message的初始值设置为空字符串\"\"，让Python首次执行while代码行时有可供检查的东西。Python首次执行while 语句时，需要将message的值与'quit'进行比较,所以必须给变量message指定初始值。虽然这个初始值只是一个空字符串，但符合要求，能够让Python执行while循环所需的比较。最后再使用一个if语句可以不把quit显示出来。"
   ]
  },
  {
   "cell_type": "code",
   "execution_count": 109,
   "id": "62d12b8e",
   "metadata": {
    "scrolled": false
   },
   "outputs": [
    {
     "name": "stdout",
     "output_type": "stream",
     "text": [
      "\n",
      "Tell me something, and I will repeat it.\n",
      "Enter 'quit' to end the program.quit\n"
     ]
    }
   ],
   "source": [
    "#Using a Flag\n",
    "prompt = \"\\nTell me something, and I will repeat it.\"\n",
    "prompt += \"\\nEnter 'quit' to end the program.\"\n",
    "\n",
    "active = True\n",
    "while active:\n",
    "    message = input(prompt)\n",
    "    \n",
    "    if message == 'quit':\n",
    "        active = False\n",
    "    else:\n",
    "        print(message)"
   ]
  },
  {
   "attachments": {},
   "cell_type": "markdown",
   "id": "73c227af",
   "metadata": {},
   "source": [
    "我们让程序在满足指定条件时执行特定的任务,但在更复杂的程序中，很多不同的事件会导致程序停止运行,比如游戏里玩家失去所有飞船、时间已用完，或者要保护的城市被全部摧毁，多种事件都可能导致游戏结束，如果在一条while语句中检查所有这些条件，将既复杂又困难。\n",
    "\n",
    "这时可以定义一个变量，用于判断整个程序是否处于活动状态。该变量称为标志flag，当flag = true继续运行，反之任何事件导致flag =false停止运行。\n",
    "\n",
    "这样在while语句中就只需检查一个条件：标志的当前值是否为True。然后将所有其他测试（是否发生了应将标志设置为False的事件）都放在其他地方，从而让程序更整洁。也就是简化了while语句，因为不需要在其中做任何比较，相关的逻辑由程序的其他部分处理。\n",
    "\n",
    "这个程序的输出与前一个示例相同。前一个示例将条件测试直接放在了while语句中，而这个程序则使用一个标志来指出程序是否处于活动状态。这样，如果要添加测试（如elif语句）以检查是否发生了其他导致active变为False的事件，就会很容易。"
   ]
  },
  {
   "cell_type": "code",
   "execution_count": 110,
   "id": "b2e92204",
   "metadata": {
    "scrolled": false
   },
   "outputs": [
    {
     "name": "stdout",
     "output_type": "stream",
     "text": [
      "\n",
      "Please enter the name of the city you have visited:\n",
      "(Enter 'quit' when you are finished.)quit\n"
     ]
    }
   ],
   "source": [
    "#Using break to Exit a Loop\n",
    "prompt = \"\\nPlease enter the name of the city you have visited:\"\n",
    "prompt += \"\\n(Enter 'quit' when you are finished.)\"\n",
    "\n",
    "while True:\n",
    "    city = input(prompt)\n",
    "    if city == 'quit':\n",
    "        break\n",
    "    else:\n",
    "        print(f\"I'd love to go to {city.title()}!\")"
   ]
  },
  {
   "attachments": {},
   "cell_type": "markdown",
   "id": "f626f5cd",
   "metadata": {},
   "source": [
    "以while True打头的循环将不断运行，直到用户输入'quit' 后，将执行break语句，导致Python退出循环。在任何Python循环中都可使用break语句。例如，可使用break语句来退出遍历列表或字典的for循环。"
   ]
  },
  {
   "cell_type": "code",
   "execution_count": 10,
   "id": "d89a988e",
   "metadata": {
    "scrolled": true
   },
   "outputs": [
    {
     "name": "stdout",
     "output_type": "stream",
     "text": [
      "1\n",
      "3\n",
      "5\n",
      "7\n",
      "9\n"
     ]
    }
   ],
   "source": [
    "#Using continue in a Loop\n",
    "current_number = 0\n",
    "while current_number < 10:\n",
    "    current_number += 1\n",
    "    if current_number % 2 == 0:\n",
    "        continue\n",
    "        \n",
    "    print(current_number)"
   ]
  },
  {
   "attachments": {},
   "cell_type": "markdown",
   "id": "05a7d96a",
   "metadata": {},
   "source": [
    "首先将current_number设置为0，由于它小于10，Python进入while 循环。\n",
    "\n",
    "进入循环后，以步长1的方式往上数，因此current_number为1。\n",
    "\n",
    "接下来，if语句检查current_number与2的求模运算结果。\n",
    "\n",
    "如果结果为0（意味着current_number 可被2整除），就执行continue语句，让Python忽略余下的代码，并返回循环的开头。\n",
    "\n",
    "如果当前的数不能被2整除，就执行循环中余下的代码，将这个数打印出来。\n",
    "\n",
    "要返回循环开头，并根据条件测试结果决定是否继续执行循环，可使用continue语句，它不像break语句那样不再执行余下的代码并退出整个循环。"
   ]
  },
  {
   "cell_type": "code",
   "execution_count": 11,
   "id": "29e39dca",
   "metadata": {
    "scrolled": false
   },
   "outputs": [
    {
     "name": "stdout",
     "output_type": "stream",
     "text": [
      "1\n",
      "2\n",
      "3\n",
      "4\n",
      "5\n"
     ]
    }
   ],
   "source": [
    "#Avoiding Infinite Loops\n",
    "x = 1\n",
    "while x <= 5:\n",
    "    print(x)\n",
    "    x += 1"
   ]
  },
  {
   "attachments": {},
   "cell_type": "markdown",
   "id": "55970b1e",
   "metadata": {},
   "source": [
    "每个程序员都会偶尔因不小心而编写出无限循环，在循环的退出条件比较微妙时尤其如此。如果程序陷入无限循环，可按Ctrl + C，也可关闭显示程序输出的终端窗口。\n",
    "\n",
    "要避免编写无限循环，务必对每个while 循环进行测试，确保其按预期那样结束。如果你希望程序在用户输入特定值时结束，可运行程序并输入这样的值。如果在这种情况下程序没有结束，请检查程序处理这个值的方式，确认程序至少有一个这样的地方能让循环条件为False，或者让break语句得以执行。"
   ]
  },
  {
   "cell_type": "code",
   "execution_count": 12,
   "id": "89407d16",
   "metadata": {
    "scrolled": false
   },
   "outputs": [
    {
     "name": "stdout",
     "output_type": "stream",
     "text": [
      "We will add the A!\n"
     ]
    }
   ],
   "source": [
    "#7-4pct\n",
    "prompt = \"\\nPlease input your toppings.\"\n",
    "prompt +=  \"\\nEnter 'quit' to end the ordering. \"\n",
    "topping = \"\"\n",
    "\n",
    "while topping != 'quit':\n",
    "    topping = input(prompt)\n",
    "    \n",
    "    if topping != 'quit':\n",
    "        print(f\"We will add the {topping.title()}!\")"
   ]
  },
  {
   "cell_type": "code",
   "execution_count": 114,
   "id": "5ba68d5d",
   "metadata": {},
   "outputs": [
    {
     "name": "stdout",
     "output_type": "stream",
     "text": [
      "\n",
      "Please input your toppings.\n",
      "(Enter 'quit' to end the ordering. )quit\n"
     ]
    }
   ],
   "source": [
    "#7-4 pct 2nd way\n",
    "prompt = \"\\nPlease input your toppings.\"\n",
    "prompt +=  \"\\n(Enter 'quit' to end the ordering. )\"\n",
    "topping = \"\"\n",
    "\n",
    "while True:\n",
    "    topping = input(prompt)\n",
    "    if topping != 'quit':\n",
    "        print(f\"We will add the {topping.title()}!\")\n",
    "    else:\n",
    "        break"
   ]
  },
  {
   "cell_type": "code",
   "execution_count": 115,
   "id": "b5d6e2a9",
   "metadata": {
    "scrolled": false
   },
   "outputs": [
    {
     "name": "stdout",
     "output_type": "stream",
     "text": [
      "\n",
      "We will charge in terms of your age. How old are you? \n",
      "Enter 'quit' when you are finished.quit\n"
     ]
    }
   ],
   "source": [
    "#7-5pct\n",
    "prompt = \"\\nWe will charge in terms of your age. How old are you? \"\n",
    "prompt += \"\\nEnter 'quit' when you are finished.\"\n",
    "\n",
    "#set the last step(if-quit-break) first then put the middle conditions.\n",
    "while True:\n",
    "    age = input(prompt)\n",
    "    if age == 'quit':\n",
    "        break\n",
    "        \n",
    "    age = int(age)\n",
    "    if age < 3:\n",
    "        print(f\"There is no charge.\")\n",
    "    elif age <12:\n",
    "        print(f\"We will charge you $10.\")\n",
    "    else:\n",
    "        print(f\"We will charge you $15.\")"
   ]
  },
  {
   "cell_type": "code",
   "execution_count": 116,
   "id": "6678f040",
   "metadata": {
    "scrolled": false
   },
   "outputs": [
    {
     "name": "stdout",
     "output_type": "stream",
     "text": [
      "Verifying user: Candace\n",
      "Verifying user: Brian\n",
      "Verifying user: Alice\n",
      "\n",
      "The following users have been confirmed:\n",
      "Candace\n",
      "Brian\n",
      "Alice\n"
     ]
    }
   ],
   "source": [
    "#Moving Items from One List to Another列表内移动元素\n",
    "unconfirmed_users = ['alice', 'brian', 'candace']\n",
    "confirmed_users =[]\n",
    "\n",
    "while unconfirmed_users:\n",
    "    current_user = unconfirmed_users.pop()\n",
    "    print(f\"Verifying user: {current_user.title()}\")\n",
    "    confirmed_users.append(current_user)\n",
    "\n",
    "print(\"\\nThe following users have been confirmed:\")\n",
    "for confirmed_user in confirmed_users:\n",
    "    print(confirmed_user.title())"
   ]
  },
  {
   "attachments": {},
   "cell_type": "markdown",
   "id": "090a7323",
   "metadata": {},
   "source": [
    "要记录大量的用户和信息，需要在while循环中使用列表和字典。for 循环是一种遍历列表的有效方式，但不应在for循环中修改列表，否则将导致Python难以跟踪其中的元素。要在遍历列表的同时对其进行修改，可使用while循环。通过将while循环同列表和字典结合起来使用，可收集、存储并组织大量输入，供以后查看和显示。"
   ]
  },
  {
   "cell_type": "code",
   "execution_count": 117,
   "id": "b72fe1f9",
   "metadata": {
    "scrolled": false
   },
   "outputs": [
    {
     "name": "stdout",
     "output_type": "stream",
     "text": [
      "['dog', 'cat', 'dog', 'goldfish', 'cat', 'rabbit', 'cat']\n",
      "['dog', 'dog', 'goldfish', 'rabbit']\n"
     ]
    }
   ],
   "source": [
    "#Removing All Instances of Specific Values from a List删除列表内特定元素\n",
    "pets = ['dog', 'cat', 'dog', 'goldfish', 'cat', 'rabbit', 'cat']\n",
    "print(pets)\n",
    "\n",
    "while 'cat' in pets:\n",
    "    pets.remove('cat')\n",
    "print(pets)"
   ]
  },
  {
   "cell_type": "code",
   "execution_count": 13,
   "id": "2487f790",
   "metadata": {
    "scrolled": false
   },
   "outputs": [
    {
     "name": "stdout",
     "output_type": "stream",
     "text": [
      "\n",
      "Here are the polling results:\n",
      "A would like to climb X.\n",
      "B would like to climb Y.\n",
      "C would like to climb Z.\n"
     ]
    }
   ],
   "source": [
    "#Filling a Dictionary with User Input输入信息填充字典\n",
    "responses = {}\n",
    "\n",
    "#set a flag to indicate the polling is active\n",
    "polling_active = True\n",
    "\n",
    "while polling_active:\n",
    "    name = input(\"\\nWhat's your name? \")\n",
    "    response = input(\"Which mountain would you like to climb someday? \")\n",
    "    #store responses in the dic\n",
    "    responses[name]= response\n",
    "    \n",
    "    #find out if sb else will take the poll\n",
    "    repeat = input(\"Would you like to let another person respond? (yes/ no) \")\n",
    "    if repeat == 'no':\n",
    "        polling_active = False\n",
    "        \n",
    "#showing the polling results\n",
    "print(\"\\nHere are the polling results:\")\n",
    "for name, response in responses.items():\n",
    "    print(f\"{name.title()} would like to climb {response.title()}.\")"
   ]
  },
  {
   "cell_type": "code",
   "execution_count": 119,
   "id": "31dfee3f",
   "metadata": {
    "scrolled": false
   },
   "outputs": [
    {
     "name": "stdout",
     "output_type": "stream",
     "text": [
      "All the e sandwiches are sold out.\n",
      "['a', 'b', 'c']\n",
      "\n",
      "I made your c.\n",
      "\n",
      "I made your b.\n",
      "\n",
      "I made your a.\n",
      "\n",
      "Here are the finished sandwishes:\n",
      "C\n",
      "B\n",
      "A\n"
     ]
    }
   ],
   "source": [
    "#7-8 & 7-9 pct be careful the order\n",
    "sandwich_orders=['a', 'b', 'c', 'e', 'e',]\n",
    "finished_sandwiches = []\n",
    "\n",
    "print(\"All the e sandwiches are sold out.\")\n",
    "while 'e' in sandwich_orders:\n",
    "    sandwich_orders.remove('e')\n",
    "print(sandwich_orders)\n",
    "\n",
    "while sandwich_orders:\n",
    "    sandwich = sandwich_orders.pop()\n",
    "    print(f\"\\nI made your {sandwich}.\")\n",
    "    finished_sandwiches.append(sandwich)\n",
    "\n",
    "while 'e' in sandwich_orders:\n",
    "    sandwich_orders.remove('e')\n",
    "print(\"\\nHere are the finished sandwishes:\")\n",
    "for sandwich in finished_sandwiches:\n",
    "    print(sandwich.title())"
   ]
  },
  {
   "cell_type": "code",
   "execution_count": 120,
   "id": "1dd40285",
   "metadata": {
    "scrolled": false
   },
   "outputs": [
    {
     "name": "stdout",
     "output_type": "stream",
     "text": [
      "\n",
      "What's your name? a\n",
      "If you could visit one place in the world, where would you go? a\n",
      "Would you like to ask sb else? (y/n)? y\n",
      "\n",
      "What's your name? a\n",
      "If you could visit one place in the world, where would you go? n\n",
      "Would you like to ask sb else? (y/n)? n\n",
      "\n",
      "Here are the polling dreaming places:\n",
      "A wants to visit N.\n"
     ]
    }
   ],
   "source": [
    "#7-10 pct\n",
    "places = {}\n",
    "\n",
    "polling = True\n",
    "while polling:\n",
    "    name = input(\"\\nWhat's your name? \")\n",
    "    place = input(\"If you could visit one place in the world, where would you go? \")\n",
    "    places[name]= place\n",
    "\n",
    "    repeat = input(\"Would you like to ask sb else? (y/n)? \")\n",
    "    if repeat == 'n':\n",
    "        polling = False\n",
    "\n",
    "print(\"\\nHere are the polling dreaming places:\")\n",
    "for name, place in places.items():\n",
    "    print(f\"{name.title()} wants to visit {place.title()}.\")"
   ]
  },
  {
   "attachments": {},
   "cell_type": "markdown",
   "id": "babce8f8",
   "metadata": {},
   "source": [
    "<a name=\"toc_15456_7\"></a>\n",
    "## 7 Functions"
   ]
  },
  {
   "cell_type": "code",
   "execution_count": 121,
   "id": "318aefd7",
   "metadata": {},
   "outputs": [
    {
     "name": "stdout",
     "output_type": "stream",
     "text": [
      "Hello.\n"
     ]
    }
   ],
   "source": [
    "#define a function\n",
    "def greet_user():\n",
    "    \"\"\"display a simple greeting\"\"\"\n",
    "    print(\"Hello.\")\n",
    "    \n",
    "greet_user()"
   ]
  },
  {
   "attachments": {},
   "cell_type": "markdown",
   "id": "30271bb9",
   "metadata": {},
   "source": [
    "第三行的注释被称为文档字符串docstring，᧿述了函数是做什么的。文档字符串用三引号括起，Python使用它们来生成程序中关于函数的文档。"
   ]
  },
  {
   "cell_type": "code",
   "execution_count": 122,
   "id": "135277e5",
   "metadata": {},
   "outputs": [
    {
     "name": "stdout",
     "output_type": "stream",
     "text": [
      "Hello, Carrie!\n"
     ]
    }
   ],
   "source": [
    "#Passing Information to a Function\n",
    "def greet_user(username):\n",
    "    \"\"\"display a simple greeting\"\"\"\n",
    "    print(f\"Hello, {username.title()}!\")\n",
    "    \n",
    "greet_user('carrie')"
   ]
  },
  {
   "attachments": {},
   "cell_type": "markdown",
   "id": "3b106979",
   "metadata": {},
   "source": [
    "在函数greet_user() 的定义中，变量username是一个形式参数parameter，即函数完成工作所需信息。在代码greet_user('jesse') 中，jesse是一个实际参数argument，即调用函数时传递给函数的有用信息。\n",
    "\n",
    "大家有时候会形参、实参不分，因此如果你看到有人将函数定义中的变量称为实参，或将函数调用中的变量称为形参，不要大惊小怪。"
   ]
  },
  {
   "cell_type": "code",
   "execution_count": 123,
   "id": "75693b21",
   "metadata": {},
   "outputs": [
    {
     "name": "stdout",
     "output_type": "stream",
     "text": [
      "One of my favorite books is Normal People.\n"
     ]
    }
   ],
   "source": [
    "#8-2pct\n",
    "def favorite_book(book):\n",
    "    \"\"\"display favorite book\"\"\"\n",
    "    print(f\"One of my favorite books is {book.title()}.\")\n",
    "\n",
    "favorite_book('normal people')"
   ]
  },
  {
   "attachments": {},
   "cell_type": "markdown",
   "id": "cf1bf1ae",
   "metadata": {},
   "source": [
    "传递实参：\n",
    "函数定义中可能包含多个形参，因此函数调用中也可能包含多个实参。向函数传递实参的方式很多：可使用位置实参，这要求实参的顺序与形参的顺序相同；也可使用关键字实参，其中每个实参都由变量名和值组成；还可使用列表和字典。"
   ]
  },
  {
   "cell_type": "code",
   "execution_count": 124,
   "id": "16fb0870",
   "metadata": {},
   "outputs": [
    {
     "name": "stdout",
     "output_type": "stream",
     "text": [
      "\n",
      "I have a hamster.\n",
      "My hamster's name is Harry.\n",
      "\n",
      "I have a dog.\n",
      "My dog's name is Willie.\n"
     ]
    }
   ],
   "source": [
    "#Positional Arguments-Multiple Function Calls\n",
    "def describe_pet(animal_type, pet_name):\n",
    "    \"\"\"display the pet message\"\"\"\n",
    "    print(f\"\\nI have a {animal_type}.\")\n",
    "    print(f\"My {animal_type}'s name is {pet_name.title()}.\")\n",
    "    \n",
    "describe_pet('hamster', 'harry')\n",
    "describe_pet('dog', 'willie')"
   ]
  },
  {
   "attachments": {},
   "cell_type": "markdown",
   "id": "f8be7526",
   "metadata": {},
   "source": [
    "最简单的关联方式是基于实参的顺序。这种关联方式称为位置实参。在函数中，可根据需要使用任意数量的位置实参，Python将按顺序将函数调用中的实参关联到函数定义中相应的形参。"
   ]
  },
  {
   "cell_type": "code",
   "execution_count": 125,
   "id": "dfbd9030",
   "metadata": {},
   "outputs": [
    {
     "name": "stdout",
     "output_type": "stream",
     "text": [
      "\n",
      "I have a hamster.\n",
      "My hamster's name is Harry.\n",
      "\n",
      "I have a dog.\n",
      "My dog's name is Bob.\n"
     ]
    }
   ],
   "source": [
    "#Keyword Arguments\n",
    "def describle_pet(animal_type, pet_name):\n",
    "    \"\"\"display the pet message\"\"\"\n",
    "    print(f\"\\nI have a {animal_type}.\")\n",
    "    print(f\"My {animal_type}'s name is {pet_name.title()}.\")\n",
    "    \n",
    "describle_pet(animal_type = 'hamster', pet_name = 'harry')\n",
    "describle_pet(pet_name = 'bob', animal_type = 'dog')"
   ]
  },
  {
   "attachments": {},
   "cell_type": "markdown",
   "id": "cacc80a1",
   "metadata": {},
   "source": [
    "关键字实参让你无须考虑函数调用中的实参顺序，还清楚地指出了函数调用中各个值的用途。关键字实参的顺序无关紧要，因为Python知道各个值该赋给哪个形参。使用关键字实参时，务必准确指定函数定义中的形参名。"
   ]
  },
  {
   "cell_type": "code",
   "execution_count": 126,
   "id": "f6978c1c",
   "metadata": {},
   "outputs": [
    {
     "name": "stdout",
     "output_type": "stream",
     "text": [
      "\n",
      "I have a dog.\n",
      "My dog's name is Harry.\n",
      "\n",
      "I have a hamster.\n",
      "My hamster's name is Bob.\n",
      "\n",
      "I have a dog.\n",
      "My dog's name is Alice.\n",
      "\n",
      "I have a cat.\n",
      "My cat's name is Alice.\n"
     ]
    }
   ],
   "source": [
    "#Default Values\n",
    "def describle_pet(pet_name, animal_type = 'dog'):\n",
    "    \"\"\"display the pet message\"\"\"\n",
    "    print(f\"\\nI have a {animal_type}.\")\n",
    "    print(f\"My {animal_type}'s name is {pet_name.title()}.\")\n",
    "    \n",
    "describle_pet(pet_name = 'harry')\n",
    "describe_pet(pet_name='bob', animal_type='hamster')\n",
    "describle_pet('alice')\n",
    "describle_pet('alice', 'cat')"
   ]
  },
  {
   "attachments": {},
   "cell_type": "markdown",
   "id": "a64b2571",
   "metadata": {},
   "source": [
    "编写函数时，可给每个形参指定默认值。在调用函数中给形参提供了实参时，Python将使用指定的实参值；否则，将使用形参的默认值。因此，给形参指定默认值后，可在函数调用中省略相应的实参。使用默认值可简化函数调用，还可清楚地指出函数的典型用法。\n",
    "\n",
    "默认形式参数前置是因为，如果函数调用中只包含宠物的名字，这个实参将按顺序关联到函数定义中的第一个形参。如果显式地给animal_type提供了实参，Python将忽略这个形参的默认值。指定该实参时可以采用位置方式，也可采用关键字方式。(等效调用函数Equivalent Function Calls)\n",
    "\n",
    "如果提供的实际参数对不上形式参数，那么python明确指出哪里错了。Python读取函数的代码（traceback）并指出需要为哪些形参或者实参，这提供了极大的帮助。一方面如果这个函数存储在一个独立的文件中，我们也许无须打开这个文件并查看函数的代码，就能重新正确地编写函数调用。另一方面无论对于你，还是可能使用你编写的代码的其他任何人来说，Python提供的错误消息都将助于修改。总之，如果提供的实参太多，将出现traceback，帮助你确保函数调用和函数定义匹配。"
   ]
  },
  {
   "cell_type": "code",
   "execution_count": 127,
   "id": "019a2e12",
   "metadata": {},
   "outputs": [
    {
     "name": "stdout",
     "output_type": "stream",
     "text": [
      "Shirt size:6 Letter:I love python.\n",
      "Shirt size:7 Letter:I love Javascript.\n"
     ]
    }
   ],
   "source": [
    "#8-3pct\n",
    "def make_shirt(size, letter='I love python'):\n",
    "    \"\"\"display size and letter\"\"\"\n",
    "    print(f\"Shirt size:{size} Letter:{letter}.\")\n",
    "    \n",
    "make_shirt(6)\n",
    "make_shirt(7, 'I love Javascript')"
   ]
  },
  {
   "cell_type": "code",
   "execution_count": 128,
   "id": "4615e6aa",
   "metadata": {},
   "outputs": [
    {
     "name": "stdout",
     "output_type": "stream",
     "text": [
      "Taiyuan is in China.\n",
      "Beijing is in China.\n",
      "Chapel Hill is in America.\n"
     ]
    }
   ],
   "source": [
    "#8-5pct\n",
    "def city(name, country='china'):\n",
    "    \"\"\"display a city\"\"\"\n",
    "    print(f\"{name.title()} is in {country.title()}.\")\n",
    "\n",
    "city('taiyuan')\n",
    "city('beijing')\n",
    "city('chapel hill', 'america')"
   ]
  },
  {
   "attachments": {},
   "cell_type": "markdown",
   "id": "33e2009f",
   "metadata": {},
   "source": [
    "<a name=\"toc_15456_7.3\"></a>\n",
    "### 7.3 Returning a value or a dic"
   ]
  },
  {
   "cell_type": "code",
   "execution_count": 129,
   "id": "a43ee4fa",
   "metadata": {},
   "outputs": [
    {
     "name": "stdout",
     "output_type": "stream",
     "text": [
      "Carrie Cao\n"
     ]
    }
   ],
   "source": [
    "#Returning a Simple Value返回值\n",
    "def formatted_name(first_name, last_name):\n",
    "    \"\"\"Return a full name, neatly formatted.\"\"\"\n",
    "    #assign the combination to the variable\n",
    "    full_name = f\"{first_name} {last_name}\"\n",
    "    #the variable is returned to the function\n",
    "    return full_name.title()\n",
    "\n",
    "#just call the function\n",
    "formatted_name('Carrie', 'Cao')\n",
    "\n",
    "#or set a variable that the returned value can be assigned to\n",
    "musician = formatted_name('Carrie', 'Cao')\n",
    "print(musician)"
   ]
  },
  {
   "attachments": {},
   "cell_type": "markdown",
   "id": "2e03e91d",
   "metadata": {},
   "source": [
    "需要分别存储大量名和姓的大型程序中，这样的函数非常有用。可以分别存储名和姓，每当需要显示姓名时都调用这个函数。"
   ]
  },
  {
   "cell_type": "code",
   "execution_count": 130,
   "id": "aa57592d",
   "metadata": {},
   "outputs": [
    {
     "name": "stdout",
     "output_type": "stream",
     "text": [
      "Jimi Hendrix\n",
      "John Lee Hooker\n"
     ]
    }
   ],
   "source": [
    "#Making an Argument Optional默认形参\n",
    "def formatted_name(first_name, last_name, middle_name=''):\n",
    "    \"\"\"Return a full name, neatly formatted.\"\"\"\n",
    "    if middle_name:\n",
    "        full_name = f\"{first_name} {middle_name} {last_name}\"\n",
    "    else:\n",
    "        full_name = f\"{first_name} {last_name}\"\n",
    "    return full_name.title()\n",
    "\n",
    "musician = formatted_name('jimi', 'hendrix')\n",
    "print(musician)\n",
    "\n",
    "musician = formatted_name('john', 'hooker', 'lee')\n",
    "print(musician)"
   ]
  },
  {
   "attachments": {},
   "cell_type": "markdown",
   "id": "0b5b4f8c",
   "metadata": {},
   "source": [
    "并非所有的人都有中间名，但如果调用这个函数时只提供了名和姓，它将不能正确运行。为了让中间名变成可选的，可给形式参数middle_name 指定一个空的默认值，并在用户没有提供中间名时不使用这个形参。\n",
    "\n",
    "在函数体中，检查是否提供了中间名。Python将非空字符串解读为True ，因此如果函数调用中提供了中间名，if middle_name将为True"
   ]
  },
  {
   "cell_type": "code",
   "execution_count": 131,
   "id": "9dd24278",
   "metadata": {},
   "outputs": [
    {
     "name": "stdout",
     "output_type": "stream",
     "text": [
      "{'first': 'jimi', 'last': 'hendrix', 'age': 25}\n",
      "{'first': 'carrie', 'last': 'cao'}\n"
     ]
    }
   ],
   "source": [
    "#Returning a Dictionary返回字典\n",
    "def person(first_name, last_name,age=None):\n",
    "    \"\"\"Return a dictionary about a person.\"\"\"\n",
    "    person = {'first':first_name, 'last': last_name}\n",
    "    if age:\n",
    "        person['age'] = age\n",
    "    return person\n",
    "\n",
    "musician = person('jimi', 'hendrix',age=25)\n",
    "print(musician)\n",
    "\n",
    "musician = person('carrie', 'cao')\n",
    "print(musician)"
   ]
  },
  {
   "attachments": {},
   "cell_type": "markdown",
   "id": "8707a9bc",
   "metadata": {},
   "source": [
    "你可以轻松地扩展person这个函数，使其接受可选值，如中间名、年龄、职业或其他任何要存储的信息。在函数定义中，新增了一个可选形参age，并将其默认值设置为特殊值None （表示变量没有值）。可将None视为占位值。在条件测试中，None相当于False。如果函数调用中包含形参age的值，这个值将被存储到字典中。在任何情况下，这个函数都会存储人的姓名，但可进行修改，使其同时存储有关人的其他信息。"
   ]
  },
  {
   "attachments": {},
   "cell_type": "markdown",
   "id": "fb97bfcd",
   "metadata": {},
   "source": [
    "<a name=\"toc_15456_7.4\"></a>\n",
    "### 7.4 Using while loop"
   ]
  },
  {
   "cell_type": "code",
   "execution_count": 132,
   "id": "76a5354a",
   "metadata": {},
   "outputs": [
    {
     "name": "stdout",
     "output_type": "stream",
     "text": [
      "\n",
      "Please tell me your name: \n",
      "(enter 'q' at any time to quit)\n",
      "fname: q\n"
     ]
    }
   ],
   "source": [
    "#Using a Function with a while Loop使用while循环\n",
    "def formatted_name(first_name, last_name):\n",
    "    \"\"\"return formatted neat fullname\"\"\"\n",
    "    full_name = f\"{first_name} {last_name}\"\n",
    "    return full_name.title()\n",
    "\n",
    "while True:\n",
    "    print(\"\\nPlease tell me your name: \")\n",
    "    print(\"(enter 'q' at any time to quit)\")\n",
    "    \n",
    "    #下面的变量名称和定义函数里的不一样，是为了偷懒，主程序里的和定义函数里的变量名称不必完全一样，当然写成一样的变量名称也可以，见下面的练习题。\n",
    "    fname = input(\"fname: \")\n",
    "    if fname == 'q':\n",
    "        break\n",
    "        \n",
    "    lname = input(\"lname: \")\n",
    "    if lname == 'q':\n",
    "        break\n",
    "    \n",
    "    fullname = formatted_name(fname, lname)\n",
    "    print(f\"Hello,{fullname}!\")"
   ]
  },
  {
   "cell_type": "code",
   "execution_count": 133,
   "id": "3dc46bea",
   "metadata": {},
   "outputs": [
    {
     "name": "stdout",
     "output_type": "stream",
     "text": [
      "\n",
      "Input the artist name and album: \n",
      "(enter 'q' if you want to quit)\n",
      "Name:a\n",
      "Album: q\n",
      "\n",
      "Thanks for responding!\n"
     ]
    }
   ],
   "source": [
    "#8-6pct返回值和字典和while循环\n",
    "def make_album(name, album, number=None):\n",
    "    \"\"\"Return a dictionary about albums.\"\"\"\n",
    "    make_album = {'name': name.title(), \n",
    "                  'album': album.title()}\n",
    "    if number:\n",
    "        make_album['number'] = number\n",
    "    return make_album\n",
    "\n",
    "while True:\n",
    "    print(\"\\nInput the artist name and album: \")\n",
    "    print(\"(enter 'q' if you want to quit)\")\n",
    "    \n",
    "    name = input('Name:')\n",
    "    if name == 'q':\n",
    "        break\n",
    "    album = input('Album: ')\n",
    "    if album == 'q':\n",
    "        break\n",
    "        \n",
    "    onealbum = make_album(name, album)\n",
    "    print(f\"Got it! {onealbum}\")\n",
    "\n",
    "print(\"\\nThanks for responding!\")"
   ]
  },
  {
   "attachments": {},
   "cell_type": "markdown",
   "id": "fa704596",
   "metadata": {},
   "source": [
    "<a name=\"toc_15456_7.5\"></a>\n",
    "### 7.5 Modifying a list"
   ]
  },
  {
   "cell_type": "code",
   "execution_count": 134,
   "id": "137cef41",
   "metadata": {},
   "outputs": [
    {
     "name": "stdout",
     "output_type": "stream",
     "text": [
      "Hello, Hannah!\n",
      "Hello, Ty!\n",
      "Hello, Margot!\n"
     ]
    }
   ],
   "source": [
    "#PASSING A LIST\n",
    "def greet_users(names):\n",
    "    \"\"\"Print a greeting to each user in the list.\"\"\"\n",
    "    for name in names:\n",
    "        msg = f\"Hello, {name.title()}!\"\n",
    "        print(msg)\n",
    "\n",
    "usernames = ['hannah', 'ty', 'margot']\n",
    "greet_users(usernames)"
   ]
  },
  {
   "attachments": {},
   "cell_type": "markdown",
   "id": "bf129db6",
   "metadata": {},
   "source": [
    "你经常会发现，向函数传递列表很有用，其中包含的可能是名字、数或更复杂的对象（如字典）。将列表传递给函数后，函数就能直接访问其内容。使用函数可以提高处理列表的效率。"
   ]
  },
  {
   "cell_type": "code",
   "execution_count": 135,
   "id": "296e3abb",
   "metadata": {},
   "outputs": [
    {
     "name": "stdout",
     "output_type": "stream",
     "text": [
      "Printing model: dodecahedron.\n",
      "Printing model: robot pendant.\n",
      "Printing model: phone case.\n",
      "\n",
      "The following models have been printed:\n",
      "dodecahedron\n",
      "robot pendant\n",
      "phone case\n"
     ]
    }
   ],
   "source": [
    "#Modifying a List in a Function\n",
    "#without function \n",
    "unprinted_designs = ['phone case', 'robot pendant', 'dodecahedron']\n",
    "completed_models = []\n",
    "\n",
    "while unprinted_designs:\n",
    "    current_design = unprinted_designs.pop()\n",
    "    print(f\"Printing model: {current_design}.\")\n",
    "    completed_models.append(current_design)\n",
    "    \n",
    "print(\"\\nThe following models have been printed:\")\n",
    "for completed_model in completed_models:\n",
    "    print(completed_model)"
   ]
  },
  {
   "cell_type": "code",
   "execution_count": 136,
   "id": "a5d5541d",
   "metadata": {},
   "outputs": [
    {
     "name": "stdout",
     "output_type": "stream",
     "text": [
      "Printing model: dodecahedron.\n",
      "Printing model: robot pendant.\n",
      "Printing model: phone case.\n",
      "\n",
      "The following models have been printed:\n",
      "dodecahedron\n",
      "robot pendant\n",
      "phone case\n"
     ]
    }
   ],
   "source": [
    "#one function print designs, the other summary the print\n",
    "def print_models(unprinted_designs, completed_models):\n",
    "    \"\"\"print each design until nothing left, then pass them to the completed_list\"\"\"\n",
    "    while unprinted_designs:\n",
    "        current_design = unprinted_designs.pop()\n",
    "        print(f\"Printing model: {current_design}.\")\n",
    "        completed_models.append(current_design)\n",
    "\n",
    "def show_completed_models(completed_models):\n",
    "    \"\"\"show all the printed models\"\"\"\n",
    "    print(\"\\nThe following models have been printed:\")\n",
    "    for completed_model in completed_models:\n",
    "        print(completed_model)\n",
    "\n",
    "unprinted_designs = ['phone case', 'robot pendant', 'dodecahedron']\n",
    "completed_models = []   \n",
    "print_models(unprinted_designs[:], completed_models)\n",
    "show_completed_models(completed_models)"
   ]
  },
  {
   "attachments": {},
   "cell_type": "markdown",
   "id": "fcfbb096",
   "metadata": {},
   "source": [
    "每个函数都应只负责一项具体的工作。第一个函数打印每个设计，第二个显示打印好的模型。这优于使用一个函数来完成这两项工作。编写函数时，如果发现它执行的任务太多，请尝试将这些代码划分到两个函数中。别忘了，总是可以在一个函数中调用另一个函数，这有助于将复杂的任务划分成一系列步骤。\n",
    "\n",
    "有时候，需要禁止函数修改列表。例如即便打印好了所有设计，也要保留原来的未打印的设计列表，以供备案。为解决这个问题，可向函数传递列表的副本而非原件。这样，函数所做的任何修改都只影响副本，而原件丝毫不受影响。切片表示法[:]创建列表的副本。\n",
    "\n",
    "但是最好还是应该将原始列表传递给函数。这是因为让函数使用现成的列表可避免花时间和内存创建副本，从而提高效率，在处理大型列表时尤其如此。"
   ]
  },
  {
   "cell_type": "code",
   "execution_count": 137,
   "id": "f9e0891a",
   "metadata": {},
   "outputs": [
    {
     "name": "stdout",
     "output_type": "stream",
     "text": [
      "A\n",
      "B\n",
      "C\n"
     ]
    }
   ],
   "source": [
    "#8-9pct\n",
    "def show_msg(msgs):\n",
    "    \"\"\"show messages\"\"\"\n",
    "    for msg in msgs:\n",
    "        msg = f\"{msg.title()}\"\n",
    "        print(msg)\n",
    "        \n",
    "msgs = ['a', 'b', 'c']\n",
    "show_msg(msgs)"
   ]
  },
  {
   "cell_type": "code",
   "execution_count": 138,
   "id": "4704e5e0",
   "metadata": {},
   "outputs": [
    {
     "name": "stdout",
     "output_type": "stream",
     "text": [
      "Z\n",
      "Y\n",
      "X\n",
      "z\n",
      "y\n",
      "x\n",
      "['x', 'y', 'z']\n",
      "['z', 'y', 'x']\n"
     ]
    }
   ],
   "source": [
    "#8-11pct\n",
    "def print_msg(pre_msgs, sent_msgs):\n",
    "    \"\"\"pass each msg from pre_msgs to snet_msgs\"\"\"\n",
    "    while pre_msgs:\n",
    "        msg = pre_msgs.pop()\n",
    "        print(f\"{msg.title()}\")\n",
    "        sent_msgs.append(msg)\n",
    "        \n",
    "def sent_msg(sent_msgs):\n",
    "    \"\"\"show msg in sent_msgs\"\"\"\n",
    "    for msg in sent_msgs:\n",
    "        print(msg)\n",
    "\n",
    "pre_msgs = ['x', 'y', 'z']\n",
    "sent_msgs = []\n",
    "print_msg(pre_msgs[:], sent_msgs)\n",
    "sent_msg(sent_msgs)    \n",
    "\n",
    "print(pre_msgs)\n",
    "print(sent_msgs)"
   ]
  },
  {
   "cell_type": "code",
   "execution_count": 17,
   "id": "c86d1456",
   "metadata": {},
   "outputs": [
    {
     "name": "stdout",
     "output_type": "stream",
     "text": [
      "['x', 'y', 'z']\n",
      "['x', 'y', 'z']\n"
     ]
    }
   ],
   "source": [
    "pre_msgs = ['x', 'y', 'z']\n",
    "a = pre_msgs.copy()\n",
    "print(a)\n",
    "\n",
    "pre_msgs = ['x', 'y', 'z']\n",
    "a = pre_msgs[:]\n",
    "print(a)"
   ]
  },
  {
   "attachments": {},
   "cell_type": "markdown",
   "id": "42fa8b1d",
   "metadata": {},
   "source": [
    "In Python, both the `copy()` method and the slicing operator `[:]` can be used to create a copy of a list. So in the specific case you're asking about, there's no difference between the two. Both `pre_msgs.copy()` and `pre_msgs[:]` will produce a new list that is a copy of `pre_msgs`.\n",
    "\n",
    "However, please note that both of these methods create a shallow copy of the list. What this means is that if your list contains mutable elements (like other lists, dictionaries, sets, etc.), changes to these elements in the original list will also affect the copied list, since the copies refer to the same memory locations for these elements.\n",
    "\n",
    "For a deep copy, which copies original and all nested elements to a new memory location, you would need to use the `copy.deepcopy()` function from Python's `copy` module."
   ]
  },
  {
   "cell_type": "code",
   "execution_count": 139,
   "id": "5a692db8",
   "metadata": {},
   "outputs": [
    {
     "name": "stdout",
     "output_type": "stream",
     "text": [
      "('pepperoni',)\n",
      "('mushrooms', 'green peppers', 'extra cheese')\n"
     ]
    }
   ],
   "source": [
    "#PASSING AN ARBITRARY NUMBER OF ARGUMENTS\n",
    "def make_pizza(*toppings):\n",
    "    \"\"\"print all the toppings customers order\"\"\"\n",
    "    print(toppings)\n",
    "\n",
    "make_pizza('pepperoni')\n",
    "make_pizza('mushrooms', 'green peppers', 'extra cheese')"
   ]
  },
  {
   "attachments": {},
   "cell_type": "markdown",
   "id": "b80c6b64",
   "metadata": {},
   "source": [
    "有时候，预先不知道函数需要接受多少个实参，好在Python允许函数从调用语句中收集任意数量的实参。形参名toppings中的星号让Python创建一个名为toppings的空元组，并将收到的所有值都封装到这个元组中。Python能够处理使用一个值来调用函数的情形，也能处理使用三个值来调用函数的情形。它以类似的方式处理不同的调用。注意，Python将实参封装到一个元组中，即便函数只收到一个值。"
   ]
  },
  {
   "cell_type": "code",
   "execution_count": 140,
   "id": "6946ecdb",
   "metadata": {},
   "outputs": [
    {
     "name": "stdout",
     "output_type": "stream",
     "text": [
      "\n",
      "Making a pizza with the following toppings:\n",
      "-pepperoni\n",
      "\n",
      "Making a pizza with the following toppings:\n",
      "-mushrooms\n",
      "-green peppers\n",
      "-extra cheese\n"
     ]
    }
   ],
   "source": [
    "#任意数量实参\n",
    "def make_pizza(*toppings):\n",
    "    \"\"\"print all the toppings customers order\"\"\"\n",
    "    print(\"\\nMaking a pizza with the following toppings:\")\n",
    "    for topping in toppings:\n",
    "        print(f\"-{topping}\")\n",
    "        \n",
    "make_pizza('pepperoni')\n",
    "make_pizza('mushrooms', 'green peppers', 'extra cheese') "
   ]
  },
  {
   "cell_type": "code",
   "execution_count": 141,
   "id": "30783fe2",
   "metadata": {},
   "outputs": [
    {
     "name": "stdout",
     "output_type": "stream",
     "text": [
      "\n",
      "Making a 16-inch pizza with the following toppings:\n",
      "-pepperoni\n",
      "\n",
      "Making a 12-inch pizza with the following toppings:\n",
      "-mushrooms\n",
      "-green peppers\n",
      "-extra cheese\n"
     ]
    }
   ],
   "source": [
    "#Mixing Positional and Arbitrary Arguments位置实参和任意数量实参\n",
    "def make_pizza(size, *toppings):\n",
    "    \"\"\"print all the toppings customers order\"\"\"\n",
    "    print(f\"\\nMaking a {size}-inch pizza with the following toppings:\")\n",
    "    for topping in toppings:\n",
    "        print(f\"-{topping}\")\n",
    "\n",
    "make_pizza(16, 'pepperoni')\n",
    "make_pizza(12, 'mushrooms', 'green peppers', 'extra cheese')"
   ]
  },
  {
   "attachments": {},
   "cell_type": "markdown",
   "id": "f5130fb3",
   "metadata": {},
   "source": [
    "如果要让函数接受不同类型的实参，必须在函数定义中将接纳任意数量实参的形参放在最后。Python先匹配位置实参和关键字实参，再将余下的实参都收集到最后一个形参中。你经常会看到通用形参名:星号加args，它也收集任意数量的位置实参。"
   ]
  },
  {
   "cell_type": "code",
   "execution_count": 18,
   "id": "a4e3185a",
   "metadata": {},
   "outputs": [
    {
     "name": "stdout",
     "output_type": "stream",
     "text": [
      "{'location': 'princeton', 'field': 'physics', 'first_name': 'albert', 'last_name': 'einstein'}\n"
     ]
    }
   ],
   "source": [
    "#Using Arbitrary Keyword Argument任意数量的关键字键值对\n",
    "def build_profile(first, last, **user_info):\n",
    "    user_info['first_name'] = first\n",
    "    user_info['last_name'] = last\n",
    "    return user_info\n",
    "\n",
    "user_profile = build_profile('albert', 'einstein',\n",
    "                             location ='princeton',\n",
    "                             field='physics')\n",
    "\n",
    "print(user_profile)"
   ]
  },
  {
   "attachments": {},
   "cell_type": "markdown",
   "id": "0490f2df",
   "metadata": {},
   "source": [
    "有时候，需要接受任意数量的实参，但预先不知道传递给函数的会是什么样的信息。在这种情况下，可将函数编写成能够接受任意数量的键值对——调用语句提供了多少就接受多少。\n",
    "\n",
    "形参user_info中的两个星号让Python创建一个名为user_info的空字典，并将收到的所有名称值对都放到这个字典中。在这个函数中，可以像访问其他字典那样访问user_info中的名称值对。\n",
    "\n",
    "编写函数时，能以各种方式混合使用位置实参、关键字实参和任意数量的实参。知道这些实参类型大有裨益，因为阅读别人编写的代码时经常会见到它们。要正确地使用这些类型的实参并知道其使用时机，需要经过一定的练习。就目前而言，牢记使用最简单的方法来完成任务就好了。继续往下阅读，你就会知道在各种情况下哪种方法的效率最高。"
   ]
  },
  {
   "cell_type": "code",
   "execution_count": 143,
   "id": "b2dd55a5",
   "metadata": {},
   "outputs": [
    {
     "name": "stdout",
     "output_type": "stream",
     "text": [
      "\n",
      "here are your items:\n",
      "-roast beef\n",
      "-cheddar cheese\n",
      "-lettuce\n",
      "-honey dijon\n",
      "\n",
      "here are your items:\n",
      "-turkey\n",
      "-apple slices\n",
      "-honey mustard\n",
      "\n",
      "here are your items:\n",
      "-peanut butter\n",
      "-strawberry jam\n"
     ]
    }
   ],
   "source": [
    "#8-12\n",
    "def make_sandwich(*items):\n",
    "    \"\"\"print all the items of customers sandwiches\"\"\"\n",
    "    print(f\"\\nhere are your items:\")\n",
    "    for item in items:\n",
    "        print(f\"-{item}\")\n",
    "        \n",
    "make_sandwich('roast beef', 'cheddar cheese', 'lettuce', 'honey dijon')\n",
    "make_sandwich('turkey', 'apple slices', 'honey mustard')\n",
    "make_sandwich('peanut butter', 'strawberry jam')"
   ]
  },
  {
   "cell_type": "code",
   "execution_count": 144,
   "id": "a2b48fde",
   "metadata": {},
   "outputs": [
    {
     "name": "stdout",
     "output_type": "stream",
     "text": [
      "{'color': 'blue', 'tow_package': True, 'brand': 'subaru', 'model': 'outback'}\n"
     ]
    }
   ],
   "source": [
    "#8-14\n",
    "def make_car(brand, model, **options):\n",
    "    \"\"\"print all the info of cars\"\"\"\n",
    "    options['brand'] = brand\n",
    "    options['model'] = model\n",
    "    return options\n",
    "\n",
    "car = make_car('subaru', 'outback', color='blue', tow_package=True)\n",
    "print(car)"
   ]
  },
  {
   "attachments": {},
   "cell_type": "markdown",
   "id": "09964852",
   "metadata": {},
   "source": [
    "<a name=\"toc_15456_7.6\"></a>\n",
    "### 7.6 Import module"
   ]
  },
  {
   "cell_type": "code",
   "execution_count": 145,
   "id": "ba9c93a4",
   "metadata": {},
   "outputs": [
    {
     "name": "stdout",
     "output_type": "stream",
     "text": [
      "\n",
      "Making a 16-inch pizza with the following toppings:\n",
      "-pepperoni\n",
      "\n",
      "Making a 12-inch pizza with the following toppings:\n",
      "-mushrooms\n",
      "-green peppers\n",
      "-extra cheese\n"
     ]
    }
   ],
   "source": [
    "#Importing an Entire Module\n",
    "import pizza\n",
    "pizza.make_pizza(16, 'pepperoni')\n",
    "pizza.make_pizza(12, 'mushrooms', 'green peppers', 'extra cheese')"
   ]
  },
  {
   "attachments": {},
   "cell_type": "markdown",
   "id": "7fed0e97",
   "metadata": {},
   "source": [
    "使用函数的优点之一是可将代码块与主程序分离。通过给函数指定描述性名称，可让主程序容易理解得多。你还可以更进一步，将函数存储在称为模块的独立文件中，再将模块导入到主程序中。import语句允许在当前运行的程序文件中使用模块中的代码。\n",
    "\n",
    "通过将函数存储在独立的文件中，可隐藏程序代码的细节，将重点放在程序的高层逻辑上。这还能让你在众多不同的程序中重用函数。将函数存储在独立文件中后，可与其他程序员共享这些文件而不是整个程序。知道如何导入函数还能让你使用其他程序员编写的函数库。\n",
    "\n",
    "使用这种import语句导入了名为module_name.py的整个模块，可以使用这个语法来使用其中任何一个函数：module_name.function_name()"
   ]
  },
  {
   "cell_type": "code",
   "execution_count": 146,
   "id": "409e2b6e",
   "metadata": {},
   "outputs": [
    {
     "name": "stdout",
     "output_type": "stream",
     "text": [
      "\n",
      "Making a 16-inch pizza with the following toppings:\n",
      "-pepperoni\n",
      "\n",
      "Making a 12-inch pizza with the following toppings:\n",
      "-mushrooms\n",
      "-green peppers\n",
      "-extra cheese\n"
     ]
    }
   ],
   "source": [
    "from pizza import make_pizza\n",
    "make_pizza(16, 'pepperoni')\n",
    "make_pizza(12, 'mushrooms', 'green peppers', 'extra cheese')"
   ]
  },
  {
   "attachments": {},
   "cell_type": "markdown",
   "id": "6653cc83",
   "metadata": {},
   "source": [
    "还可以导入模块中的特定函数，通过用逗号分隔函数名，可根据需要从模块中导入任意数量的函数。使用这种语法时，调用函数时无须使用句点。由于在import语句中显式地导入了函数make_pizza()，调用时只需指定其名称即可：\n",
    "from module_name import function_0, function_1, function_2"
   ]
  },
  {
   "cell_type": "code",
   "execution_count": 147,
   "id": "9ef2bf78",
   "metadata": {},
   "outputs": [
    {
     "name": "stdout",
     "output_type": "stream",
     "text": [
      "\n",
      "Making a 16-inch pizza with the following toppings:\n",
      "-pepperoni\n",
      "\n",
      "Making a 12-inch pizza with the following toppings:\n",
      "-mushrooms\n",
      "-green peppers\n",
      "-extra cheese\n"
     ]
    }
   ],
   "source": [
    "from pizza import make_pizza as mp\n",
    "mp(16, 'pepperoni')\n",
    "mp(12, 'mushrooms', 'green peppers', 'extra cheese')"
   ]
  },
  {
   "attachments": {},
   "cell_type": "markdown",
   "id": "cddea02e",
   "metadata": {},
   "source": [
    "如果要导入函数的名称可能与程序中现有的名称冲突，或者函数的\n",
    "名称太长，可指定简短而独一无二的别名：函数的另一个名称，类似于外号：\n",
    "from module_name import function_name as fn"
   ]
  },
  {
   "cell_type": "code",
   "execution_count": 148,
   "id": "620f564d",
   "metadata": {},
   "outputs": [
    {
     "name": "stdout",
     "output_type": "stream",
     "text": [
      "\n",
      "Making a 16-inch pizza with the following toppings:\n",
      "-pepperoni\n",
      "\n",
      "Making a 12-inch pizza with the following toppings:\n",
      "-mushrooms\n",
      "-green peppers\n",
      "-extra cheese\n"
     ]
    }
   ],
   "source": [
    "import pizza as p\n",
    "p.make_pizza(16, 'pepperoni')\n",
    "p.make_pizza(12, 'mushrooms', 'green peppers', 'extra cheese')"
   ]
  },
  {
   "attachments": {},
   "cell_type": "markdown",
   "id": "62e56ffd",
   "metadata": {},
   "source": [
    "还可以给模块指定别名。通过给模块指定简短的别名（如给模块pizza 指定别名p），让你能够更轻松地调用模块中的函数：\n",
    "import module_name as mn"
   ]
  },
  {
   "cell_type": "code",
   "execution_count": 149,
   "id": "a99eccc0",
   "metadata": {},
   "outputs": [
    {
     "name": "stdout",
     "output_type": "stream",
     "text": [
      "\n",
      "Making a 16-inch pizza with the following toppings:\n",
      "-pepperoni\n",
      "\n",
      "Making a 12-inch pizza with the following toppings:\n",
      "-mushrooms\n",
      "-green peppers\n",
      "-extra cheese\n"
     ]
    }
   ],
   "source": [
    "from pizza import *\n",
    "make_pizza(16, 'pepperoni')\n",
    "make_pizza(12, 'mushrooms', 'green peppers', 'extra cheese')"
   ]
  },
  {
   "attachments": {},
   "cell_type": "markdown",
   "id": "8b8e2c23",
   "metadata": {},
   "source": [
    "使用星号运算符可让Python导入模块中的所有函数：\n",
    "from module_name import *\n",
    "\n",
    "使用并非自己编写的大型模块时，最好不要采用这种导入方法。这是因为如果模块中有函数的名称与当前项目中使用的名称相同，可能导致意想不到的结果：Python可能遇到多个名称相同的函数或变量，进而覆盖函数，而不是分别导入所有的函数。\n",
    "\n",
    "最佳的做法是，要么只导入需要使用的函数，要么导入整个模块并使用句点表示法。"
   ]
  },
  {
   "attachments": {},
   "cell_type": "markdown",
   "id": "86411853",
   "metadata": {},
   "source": [
    "<a name=\"toc_15456_7.7\"></a>\n",
    "### 7.7 Styling functions"
   ]
  },
  {
   "attachments": {},
   "cell_type": "markdown",
   "id": "401d8c87",
   "metadata": {},
   "source": [
    "*函数编写规范*\n",
    "\n",
    "应给函数指定描述性名称，且只在其中使用小写字母和下划线。\n",
    "\n",
    "每个函数都应包含简要地阐述其功能的注释。该注释应紧跟在函数定义后面，并采用文档字符串格式。他们完全可以相信代码如描述的那样运行，并且只要知道函数的名称、需要的实参以及返回值的类型，就能在自己的程序中使用它。\n",
    "\n",
    "给形参指定默认值时，等号两边不要有空格：\n",
    "def function_name(parameter_0, parameter_1='default value')\n",
    "\n",
    "对于函数调用中的关键字实参，也应遵循这种约定：\n",
    "function_name(value_0, parameter_1='value')\n",
    "\n",
    "所有import语句都应放在文件开头。唯一例外的情形是，在文件开头使用了注释来描述整个程序。"
   ]
  },
  {
   "attachments": {},
   "cell_type": "markdown",
   "id": "52ce82c7",
   "metadata": {},
   "source": [
    "<a name=\"toc_15456_8\"></a>\n",
    "## 8 Classes"
   ]
  },
  {
   "cell_type": "code",
   "execution_count": 150,
   "id": "130d90c4",
   "metadata": {},
   "outputs": [],
   "source": [
    "#CREATING AND USING A CLASS类别和面向对象编程\n",
    "class Dog:\n",
    "    \"\"\"A simple attempt to model a dog.\"\"\"\n",
    "    \n",
    "    def __init__(self, name, age):\n",
    "        \"\"\"Initialize name and age attributes.\"\"\"\n",
    "        self.name = name\n",
    "        self.age = age\n",
    "    \n",
    "    def sit(self):\n",
    "        \"\"\"Simulate a dog sitting in response to a command.\"\"\"\n",
    "        print(f\"{self.name} is now sitting.\")\n",
    "        \n",
    "    def roll_over(self):\n",
    "        \"\"\"Simulate rolling over in response to a command.\"\"\"\n",
    "        print(f\"{self.name} rolled over!\")"
   ]
  },
  {
   "attachments": {},
   "cell_type": "markdown",
   "id": "053918b5",
   "metadata": {},
   "source": [
    "class类别。可将类别视为有关如何创建instance实例的说明。类别Dog是一系列说明，让Python知道如何创建表示特定小狗的实例。根据约定，在Python中，首字母大写的名称指的是类。这个类定义中没有圆括号，因为要从空白创建这个类。\n",
    "\n",
    "方法__init__(）。类中的函数称为方法。前面学到的有关函数的一切都适用于方法，就目前而言，唯一重要的差别是调用方法的方式。__init__() 是一个特殊方法，每当你根据Dog类别创建instance实例/命令/要求时，Python都会自动运行它。在这个方法的名称中，开头和末尾各有两个下划线，注意数量是两个，这是一种约定，旨在避免Python默认方法与普通方法发生名称冲突。\n",
    "\n",
    "在这个方法的定义中，形参self必不可少，而且必须位于其他形参的前面。 Because when Python calls this method later (to create an instance of Dog), the method call will automatically pass the self argument. Every method call associated with an instance automatically passes self, which is a reference to the instance itself; it gives the individual instance access to the attributes and methods in the class. 也就是每个方法都和实例相关联；每个方法通过自动把实参传递给self，给实例提供引用参考，让实例可以访问类别中的属性和方法。\n",
    "\n",
    "创建Dog实例时，Python将调用Dog类的方法__init__() 。我们将通过实参向Dog()传递名字和年龄，self会帮助我们自动传递。每当根据Dog这一类别创建实例，只需给最后两个形参（name和age）提供值。\n",
    "\n",
    "以self为前缀的变量可供类中的所有方法使用，可以通过从类别中产生的实例来访问这些变量。self.name =name获取与形参name相关联的值，并将其赋给变量name，然后该变量被关联到当前创建的实例。self.age = age 的作用与此类似。像这样可通过实例访问的变量称为属性。\n",
    "\n",
    "另外两个方法：sit() 和roll_over()执行时不需要额外的信息，因此它们只有一个形参self。我们随后将创建的实例能够访问这些方法。当前，sit()和roll_over()所做的有限，只是打印一条消息，指出小狗正在蹲下或打滚。但可以扩展这些方法以模拟实际情况：如果这个类包含在一个计算机游戏中，这些方法将包含创建小狗蹲下和打滚动画效果的代码；如果这个类是用于控制机器狗的，这些方法将让机器狗做出蹲下和打滚的动作。"
   ]
  },
  {
   "cell_type": "code",
   "execution_count": 151,
   "id": "6fcd52c8",
   "metadata": {},
   "outputs": [
    {
     "name": "stdout",
     "output_type": "stream",
     "text": [
      "My dog's name is Willie.\n",
      "My dog is 6 years old.\n",
      "Willie is now sitting.\n",
      "Willie rolled over!\n"
     ]
    }
   ],
   "source": [
    "#Making an Instance from a Class创建实例\n",
    "#Accessing Attributes取用属性\n",
    "my_dog = Dog('Willie', 6)\n",
    "print(f\"My dog's name is {my_dog.name}.\")\n",
    "print(f\"My dog is {my_dog.age} years old.\")\n",
    "\n",
    "#Calling Methods调用方法\n",
    "my_dog = Dog('Willie', 6)\n",
    "my_dog.sit()\n",
    "my_dog.roll_over()"
   ]
  },
  {
   "attachments": {},
   "cell_type": "markdown",
   "id": "a344383c",
   "metadata": {},
   "source": [
    "遇到这行代码时，Python使用实参'Willie'和6调用Dog类的方法__init__() 。方法__init__()创建一个表示特定小狗的实例，并使用提供的值来设置属性name和age。接下来，Python返回一个表示这条小狗的实例，而我们将这个实例赋给了变量my_dog。在这里，命名约定很有用：通常可认为首字母大写的名称（如Dog）指的是类，而小写的名称（如my_dog）指的是根据类创建的实例。\n",
    "\n",
    "要访问实例的属性，可使用句点表示法dot notation。这种语法演示了Python如何获悉属性的值。在这里，Python先找到实例my_dog，再查找与该实例相关联的属性name。\n",
    "\n",
    "要调用方法，可指定实例的名称（这里是my_dog）和要调用的方法，并用句点分隔。这种语法很有用。如果给属性和方法指定了合适的描述性名称，如name，age，sit()，roll_over()，即便是从未见过的代码块，我们也能够轻松地推断出它是做什么的。"
   ]
  },
  {
   "cell_type": "code",
   "execution_count": 152,
   "id": "6e951691",
   "metadata": {},
   "outputs": [
    {
     "name": "stdout",
     "output_type": "stream",
     "text": [
      "My dog's name is Willie.\n",
      "My dog is 6 years old.\n",
      "Willie is now sitting.\n",
      "\n",
      "Your dog's name is Lucy.\n",
      "Your dog is 3 years old.\n",
      "Lucy is now sitting.\n"
     ]
    }
   ],
   "source": [
    "3#Creating Multiple Instances\n",
    "\n",
    "my_dog = Dog('Willie', 6)\n",
    "your_dog = Dog('Lucy', 3)\n",
    "\n",
    "print(f\"My dog's name is {my_dog.name}.\")\n",
    "print(f\"My dog is {my_dog.age} years old.\")\n",
    "my_dog.sit()\n",
    "\n",
    "print(f\"\\nYour dog's name is {your_dog.name}.\")\n",
    "print(f\"Your dog is {your_dog.age} years old.\")\n",
    "your_dog.sit()"
   ]
  },
  {
   "attachments": {},
   "cell_type": "markdown",
   "id": "184ed0b2",
   "metadata": {},
   "source": [
    "在本例中创建了两条小狗，分别名为Willie和Lucy。每条小狗都是一个独立的实例，有自己的一组属性，能够执行相同的操作。你可按需求根据一个类创建任意数量的实例，条件是将每个实例都存储在不同的变量中，或者占用列表或字典的不同位置。"
   ]
  },
  {
   "cell_type": "code",
   "execution_count": 153,
   "id": "075eb96a",
   "metadata": {},
   "outputs": [
    {
     "name": "stdout",
     "output_type": "stream",
     "text": [
      "Here is the A restaurant.\n",
      "Here is the food type: Itlianfood.\n",
      "This is A and the order is Itlianfood.\n",
      "We are open!\n"
     ]
    }
   ],
   "source": [
    "#9-1\n",
    "class Restaurant:\n",
    "    def __init__ (self, rname, cuisine_type):\n",
    "        \"\"\"Initialize rname and cuisine type.\"\"\"\n",
    "        self.rname = rname.title()\n",
    "        self.cuisine_type = cuisine_type.title()\n",
    "        \n",
    "    def describe_restaurant(self):\n",
    "        \"\"\"tell the name and food type\"\"\"\n",
    "        print(f\"This is {self.rname} and the order is {self.cuisine_type}.\")\n",
    "        \n",
    "    def open_restaurant(self):\n",
    "        \"\"\"it is now open\"\"\"\n",
    "        print(\"We are open!\")\n",
    "\n",
    "r1 = Restaurant('a','itlianfood')\n",
    "print(f\"Here is the {r1.rname} restaurant.\")\n",
    "print(f\"Here is the food type: {r1.cuisine_type}.\")\n",
    "r1.describe_restaurant()\n",
    "r1.open_restaurant()"
   ]
  },
  {
   "cell_type": "code",
   "execution_count": 154,
   "id": "b00cd038",
   "metadata": {},
   "outputs": [
    {
     "name": "stdout",
     "output_type": "stream",
     "text": [
      "\n",
      "Eric Matthes\n",
      "  Username: e_matthes\n",
      "  Email: e_matthes@example.com\n",
      "  Location: Alaska\n",
      "\n",
      "Welcome back, e_matthes!\n",
      "\n",
      "Willie Burger\n",
      "  Username: willieburger\n",
      "  Email: wb@example.com\n",
      "  Location: Alaska\n",
      "\n",
      "Welcome back, willieburger!\n"
     ]
    }
   ],
   "source": [
    "#9-3\n",
    "class User:\n",
    "    def __init__ (self, first_name, last_name, username, email, location):\n",
    "        \"\"\"Initialize the user.\"\"\" \n",
    "        self.first_name = first_name.title()\n",
    "        self.last_name = last_name.title()\n",
    "        self.username = username\n",
    "        self.email = email\n",
    "        self.location = location.title()\n",
    "    \n",
    "    def describe_user(self):\n",
    "        \"\"\"Display a summary of the user's info.\"\"\"\n",
    "        print(f\"\\n{self.first_name} {self.last_name}\")\n",
    "        print(f\"  Username: {self.username}\")\n",
    "        print(f\"  Email: {self.email}\")\n",
    "        print(f\"  Location: {self.location}\")\n",
    "        \n",
    "    def greet_user(self):\n",
    "        \"\"\"a personalized greeting to the user.\"\"\"\n",
    "        print(f\"\\nWelcome back, {self.username}!\")\n",
    "\n",
    "eric = User('eric', 'matthes', 'e_matthes', 'e_matthes@example.com', 'alaska')\n",
    "eric.describe_user()\n",
    "eric.greet_user()\n",
    "\n",
    "willie = User('willie', 'burger', 'willieburger', 'wb@example.com', 'alaska')\n",
    "willie.describe_user()\n",
    "willie.greet_user()"
   ]
  },
  {
   "cell_type": "code",
   "execution_count": 155,
   "id": "7a6218fe",
   "metadata": {},
   "outputs": [
    {
     "name": "stdout",
     "output_type": "stream",
     "text": [
      "2019 Audi A4\n"
     ]
    }
   ],
   "source": [
    "#WORKING WITH CLASSES AND INSTANCES使用类别和实例\n",
    "class car:\n",
    "    \"\"\"A simple attempt to represent a car.\"\"\"\n",
    "    \n",
    "    def __init__(self, make, model, year):\n",
    "        \"\"\"Initialize attributes to describe a car.\"\"\"\n",
    "        self.make = make\n",
    "        self.model = model\n",
    "        self.year = year\n",
    "        \n",
    "    def get_descriptive_name(self):\n",
    "        \"\"\"Return a neatly formatted descriptive name.\"\"\"\n",
    "        long_name = f\"{self.year} {self.make} {self.model}\"\n",
    "        return long_name.title()\n",
    "    \n",
    "my_new_car = car('audi', 'a4', 2019)\n",
    "print(my_new_car.get_descriptive_name())"
   ]
  },
  {
   "attachments": {},
   "cell_type": "markdown",
   "id": "c7e48d3f",
   "metadata": {},
   "source": [
    "类编写好后，你的大部分时间将花在根据类创建的实例上。你需要执行的一个重要任务是修改实例的属性。可以直接修改实例的属性，也可以编写方法以特定的方式进行修改。"
   ]
  },
  {
   "cell_type": "code",
   "execution_count": 156,
   "id": "8464b6a3",
   "metadata": {},
   "outputs": [
    {
     "name": "stdout",
     "output_type": "stream",
     "text": [
      "2019 Audi A4\n",
      "This car has 0 miles on it.\n"
     ]
    }
   ],
   "source": [
    "#Setting a Default Value for an Attribute给属性设置自动值\n",
    "class Car:\n",
    "    \"\"\"A simple attempt to represent a car.\"\"\"\n",
    "    \n",
    "    def __init__(self, make, model, year):\n",
    "        \"\"\"Initialize attributes to describe a car.\"\"\"\n",
    "        self.make = make\n",
    "        self.model = model\n",
    "        self.year = year\n",
    "        self.odometer_reading = 0\n",
    "        \n",
    "    def get_descriptive_name(self):\n",
    "        \"\"\"Return a neatly formatted descriptive name.\"\"\"\n",
    "        long_name = f\"{self.year} {self.make} {self.model}\"\n",
    "        return long_name.title()\n",
    "    \n",
    "    def read_odometer(self):\n",
    "        \"\"\"Print a statement showing the car's mileage.\"\"\"\n",
    "        print(f\"This car has {self.odometer_reading} miles on it.\")\n",
    "    \n",
    "my_new_car = Car('audi', 'a4', 2019)\n",
    "print(my_new_car.get_descriptive_name())\n",
    "my_new_car.read_odometer()"
   ]
  },
  {
   "attachments": {},
   "cell_type": "markdown",
   "id": "a70f4d2f",
   "metadata": {},
   "source": [
    "创建实例时，有些属性无须通过形参来定义，可在方法__init__() 中为其指定默认值。添加一个名为odometer_reading 的属性，其初始值总是为0。我们还添加了一个名为read_odometer()的方法，用于读取汽车的里程表。"
   ]
  },
  {
   "cell_type": "code",
   "execution_count": 157,
   "id": "8dcf8074",
   "metadata": {},
   "outputs": [
    {
     "name": "stdout",
     "output_type": "stream",
     "text": [
      "This car has 23 miles on it.\n"
     ]
    }
   ],
   "source": [
    "#Modifying Attribute Values修改属性值的三种方法\n",
    "#way1 directly through an instance using dot notation在实例中取用属性\n",
    "my_new_car.odometer_reading = 23\n",
    "my_new_car.read_odometer()"
   ]
  },
  {
   "cell_type": "code",
   "execution_count": 158,
   "id": "65ec2a32",
   "metadata": {},
   "outputs": [
    {
     "name": "stdout",
     "output_type": "stream",
     "text": [
      "2019 Audi A4\n",
      "This car has 24 miles on it.\n"
     ]
    }
   ],
   "source": [
    "#way2 Modifying an Attribute’s Value Through a Method调用一个新方法改属性的值\n",
    "class Car:\n",
    "    \"\"\"A simple attempt to represent a car.\"\"\"\n",
    "    \n",
    "    def __init__(self, make, model, year):\n",
    "        \"\"\"Initialize attributes to describe a car.\"\"\"\n",
    "        self.make = make\n",
    "        self.model = model\n",
    "        self.year = year\n",
    "        self.odometer_reading = 0\n",
    "        \n",
    "    def get_descriptive_name(self):\n",
    "        \"\"\"Return a neatly formatted descriptive name.\"\"\"\n",
    "        long_name = f\"{self.year} {self.make} {self.model}\"\n",
    "        return long_name.title()\n",
    "    \n",
    "    def read_odometer(self):\n",
    "        \"\"\"Print a statement showing the car's mileage.\"\"\"\n",
    "        print(f\"This car has {self.odometer_reading} miles on it.\")\n",
    "        \n",
    "    def update_odometer(self,mileage):\n",
    "        \"\"\"Set the odometer reading to the given value. Reject the change if it attempts to roll the odometer back.\"\"\"\n",
    "        \n",
    "        if mileage >= self.odometer_reading:\n",
    "            self.odometer_reading = mileage\n",
    "        else:\n",
    "            print(\"You can't roll back an odometer!\")\n",
    "\n",
    "my_new_car = Car('audi', 'a4', 2019)\n",
    "print(my_new_car.get_descriptive_name())\n",
    "\n",
    "my_new_car.update_odometer(24)\n",
    "my_new_car.read_odometer()"
   ]
  },
  {
   "attachments": {},
   "cell_type": "markdown",
   "id": "3a3eb12c",
   "metadata": {},
   "source": [
    "可对方法update_odometer()进行扩展，使其在修改里程表读数时做些额外的工作。比如添加一些逻辑，禁止任何人将里程表读数往回调."
   ]
  },
  {
   "cell_type": "code",
   "execution_count": 159,
   "id": "42a9894f",
   "metadata": {},
   "outputs": [
    {
     "name": "stdout",
     "output_type": "stream",
     "text": [
      "2015 Subaru Outback\n",
      "This car has 23500 miles on it.\n",
      "This car has 23600 miles on it.\n"
     ]
    }
   ],
   "source": [
    "#way3 Incrementing an Attribute’s Value Through a Method调用新方法自动增加属性的值\n",
    "class Car:\n",
    "    \"\"\"A simple attempt to represent a car.\"\"\"\n",
    "    \n",
    "    \n",
    "    def __init__(self, make, model, year):\n",
    "        \"\"\"Initialize attributes to describe a car.\"\"\"\n",
    "        self.make = make\n",
    "        self.model = model\n",
    "        self.year = year\n",
    "        self.odometer_reading = 0\n",
    "     \n",
    "    \n",
    "    def get_descriptive_name(self):\n",
    "        \"\"\"Return a neatly formatted descriptive name.\"\"\"\n",
    "        long_name = f\"{self.year} {self.make} {self.model}\"\n",
    "        return long_name.title()\n",
    "    \n",
    "    \n",
    "    def read_odometer(self):\n",
    "        \"\"\"Print a statement showing the car's mileage.\"\"\"\n",
    "        print(f\"This car has {self.odometer_reading} miles on it.\")\n",
    "    \n",
    "    \n",
    "    def update_odometer(self,mileage):\n",
    "        \"\"\"Set the odometer reading to the given value. Reject the change if it attempts to roll the odometer back.\"\"\"        \n",
    "        if mileage >= self.odometer_reading:\n",
    "            self.odometer_reading = mileage\n",
    "        else:\n",
    "            print(\"You can't roll back an odometer!\")\n",
    "    \n",
    "    \n",
    "    def increment_odometer(self, miles):\n",
    "        \"\"\"Add the given amount to the odometer reading.\"\"\"\n",
    "        if miles >= 0:\n",
    "            self.odometer_reading += miles\n",
    "        else:\n",
    "            print(\"The odometer can not be negative!\")\n",
    "        \n",
    "my_used_car = Car('subaru', 'outback', 2015)\n",
    "print(my_used_car.get_descriptive_name())\n",
    "\n",
    "my_used_car.update_odometer(23_500)\n",
    "my_used_car.read_odometer()\n",
    "\n",
    "my_used_car.increment_odometer(100)\n",
    "my_used_car.read_odometer()"
   ]
  },
  {
   "attachments": {},
   "cell_type": "markdown",
   "id": "a94bc739",
   "metadata": {},
   "source": [
    "注意：你可以使用类似于上面的方法来控制用户修改属性值（如里程表读数，但能够访问程序的人都可以通过直接访问属性来将里程表修改为任何值。要确保安全，除了进行类似于前面的基本检查外，还需特别注意细节。"
   ]
  },
  {
   "cell_type": "code",
   "execution_count": 160,
   "id": "6f9281be",
   "metadata": {},
   "outputs": [
    {
     "name": "stdout",
     "output_type": "stream",
     "text": [
      "This is A and the order is Itlianfood.\n",
      "We are open!\n",
      "100 people have been enjoying the cuisine here.\n",
      "200 people have been enjoying the cuisine here.\n",
      "300 people have been enjoying the cuisine here.\n"
     ]
    }
   ],
   "source": [
    "#9-1\n",
    "class Restaurant:\n",
    "    def __init__ (self, rname, cuisine_type):\n",
    "        \"\"\"Initialize rname and cuisine type.\"\"\"\n",
    "        self.rname = rname.title()\n",
    "        self.cuisine_type = cuisine_type.title()\n",
    "        self.number_seved = 0\n",
    "        \n",
    "    def describe_restaurant(self):\n",
    "        \"\"\"tell the name and food type\"\"\"\n",
    "        print(f\"This is {self.rname} and the order is {self.cuisine_type}.\")\n",
    "        \n",
    "    def open_restaurant(self):\n",
    "        \"\"\"it is now open\"\"\"\n",
    "        print(\"We are open!\")\n",
    "        \n",
    "    def read_number_served(self):\n",
    "        \"\"\"Print a statement showing the customer number.\"\"\"\n",
    "        print(f\"{self.number_served} people have been enjoying the cuisine here.\" )\n",
    "        \n",
    "    def set_number_served(self, number):\n",
    "        \"\"\"Set the customer number to the given value.\"\"\"\n",
    "        self.number_served = number\n",
    "        \n",
    "    def increment_number_served(self, incre_number):\n",
    "        \"\"\"Add the given amount to the customer number.\"\"\"\n",
    "        self.number_served += incre_number\n",
    "\n",
    "r1 = Restaurant('a','itlianfood')\n",
    "r1.describe_restaurant()\n",
    "r1.open_restaurant()\n",
    "\n",
    "r1.number_served = 100\n",
    "r1.read_number_served()\n",
    "\n",
    "r1.set_number_served(200)\n",
    "r1.read_number_served()\n",
    "\n",
    "r1.increment_number_served(100)\n",
    "r1.read_number_served()"
   ]
  },
  {
   "attachments": {},
   "cell_type": "markdown",
   "id": "b9f8afd8",
   "metadata": {},
   "source": [
    "**INHERITANCE继承**\n",
    "\n",
    "编写类时，并非总是要从空白开始。如果要编写的类是另一个现成类的特殊版本，可使用继承 。一个类继承另一个类时，将自动获得另一个类的所有属性和方法。原有的类称为父类parent class，而新类称为子类child class。子类继承了父类的所有属性和方法，同时还可以定义自己的属性和方法。"
   ]
  },
  {
   "cell_type": "code",
   "execution_count": 161,
   "id": "85eb8355",
   "metadata": {},
   "outputs": [
    {
     "name": "stdout",
     "output_type": "stream",
     "text": [
      "2019 Tesla Model S\n"
     ]
    }
   ],
   "source": [
    "#The __init__() Method for a Child Class子类继承父类做初始化\n",
    "class Car:\n",
    "    \"\"\"A simple attempt to represent a car.\"\"\"\n",
    "      \n",
    "        \n",
    "    def __init__(self, make, model, year):\n",
    "        \"\"\"Initialize attributes to describe a car.\"\"\"\n",
    "        self.make = make\n",
    "        self.model = model\n",
    "        self.year = year\n",
    "        self.odometer_reading = 0\n",
    "     \n",
    "    \n",
    "    def get_descriptive_name(self):\n",
    "        \"\"\"Return a neatly formatted descriptive name.\"\"\"\n",
    "        long_name = f\"{self.year} {self.make} {self.model}\"\n",
    "        return long_name.title()\n",
    "    \n",
    "    \n",
    "    def read_odometer(self):\n",
    "        \"\"\"Print a statement showing the car's mileage.\"\"\"\n",
    "        print(f\"This car has {self.odometer_reading} miles on it.\")\n",
    "    \n",
    "    \n",
    "    def update_odometer(self,mileage):\n",
    "        \"\"\"Set the odometer reading to the given value. \n",
    "        Reject the change if it attempts to roll the odometer back.\"\"\"        \n",
    "        if mileage >= self.odometer_reading:\n",
    "            self.odometer_reading = mileage\n",
    "        else:\n",
    "            print(\"You can't roll back an odometer!\")\n",
    "    \n",
    "    \n",
    "    def increment_odometer(self, miles):\n",
    "        \"\"\"Add the given amount to the odometer reading.\"\"\"\n",
    "        if miles >= 0:\n",
    "            self.odometer_reading += miles\n",
    "        else:\n",
    "            print(\"The odometer can not be negative!\")\n",
    "        \n",
    "\n",
    "class ElectricCar(Car):\n",
    "    \"\"\"Represent aspects of a car, specific to electric vehicles.\"\"\"\n",
    "    \n",
    "    def __init__(self, make, model, year):\n",
    "        \"\"\"Initialize attributes of the parent class.\"\"\"\n",
    "        super().__init__(make, model, year)\n",
    "        \n",
    "my_tesla = ElectricCar('tesla', 'model s', 2019)\n",
    "print(my_tesla.get_descriptive_name())"
   ]
  },
  {
   "attachments": {},
   "cell_type": "markdown",
   "id": "40183fdd",
   "metadata": {},
   "source": [
    "在既有类的基础上编写新类时，通常调用父类的方法__init__() 。这将初始化在父类__init__() 方法中定义的所有属性，从而让子类包含这些属性。\n",
    "\n",
    "模拟电动汽车时，可根据所需的准确程度添加任意数量的属性和方法。如果一个属性或方法是任何汽车都有的，而不是电动汽车特有的，就应将其加入到Car类而非ElectricCar类中。"
   ]
  },
  {
   "cell_type": "code",
   "execution_count": 162,
   "id": "2dfdae65",
   "metadata": {},
   "outputs": [
    {
     "name": "stdout",
     "output_type": "stream",
     "text": [
      "2019 Tesla Model S\n",
      "This car has a 75-kwh battery.\n"
     ]
    }
   ],
   "source": [
    "#Defining Attributes and Methods for the Child Class定义子类下独特的属性和方法\n",
    "#上接父类class Car代码\n",
    "class ElectricCar(Car):\n",
    "    \"\"\"Represent aspects of a car, specific to electric vehicles.\"\"\"\n",
    "    \n",
    "    def __init__(self, make, model, year):\n",
    "        \"\"\"Initialize attributes of the parent class.\n",
    "        Then initialize attributes specific to an electric car.\"\"\"\n",
    "        super().__init__(make, model, year)\n",
    "        self.battery_size = 75\n",
    "        \n",
    "    def describe_battery(self):\n",
    "        \"\"\"Print a statement describing the battery size.\"\"\"\n",
    "        print(f\"This car has a {self.battery_size}-kwh battery.\")\n",
    "        \n",
    "my_tesla = ElectricCar('tesla', 'model s', 2019)\n",
    "print(my_tesla.get_descriptive_name())\n",
    "my_tesla.describe_battery()"
   ]
  },
  {
   "cell_type": "code",
   "execution_count": 163,
   "id": "604a6177",
   "metadata": {},
   "outputs": [],
   "source": [
    "#Overriding Methods from the Parent Class改写父类中子类不适应的方法\n",
    "##上接父类class Car代码\n",
    "class ElectricCar(Car):\n",
    "    \n",
    "    def fill_gas_tank(self):\n",
    "        print(\"This car doesn't need a gas tank!\")"
   ]
  },
  {
   "attachments": {},
   "cell_type": "markdown",
   "id": "dd14896a",
   "metadata": {},
   "source": [
    "对于父类的方法，只要它不符合子类模拟的实物的行为，都可以进行重写。为此，可在子类中定义一个与要重写的父类方法同名的方法。这样，Python将不会考虑这个父类方法，而只关注你在子类中定义的相应方法。\n",
    "\n",
    "假设Car类有一个名为fill_gas_tank() 的方法，它对全电动汽车来说毫无意义，因此你可能想重写它。上面演示了一种重写方式。在，如果有人对电动汽车调用方法fill_gas_tank()，Python将忽略Car类中的方法fill_gas_tank()，转而运行上述代码。使用继承时，可让子类保留从父类那里继承而来的精华，并剔除不需要的糟粕。"
   ]
  },
  {
   "cell_type": "code",
   "execution_count": 21,
   "id": "e6a74528",
   "metadata": {},
   "outputs": [
    {
     "name": "stdout",
     "output_type": "stream",
     "text": [
      "Make an electric car, and check the range:\n",
      "2019 Tesla Model S\n",
      "This car can go around 260 miles on a full charge.\n",
      "\n",
      "Upgrade the battery, and check the range again:\n",
      "Upgrade the battery to 100 Kwh.\n",
      "This car can go around 315 miles on a full charge.\n"
     ]
    }
   ],
   "source": [
    "#Instances as Attributes实例作为属性\n",
    "class Car:\n",
    "    \"\"\"A simple attempt to represent a car.\"\"\"\n",
    "    \n",
    "    \n",
    "    def __init__(self, make, model, year):\n",
    "        \"\"\"Initialize attributes to describe a car.\"\"\"\n",
    "        self.make = make\n",
    "        self.model = model\n",
    "        self.year = year\n",
    "        self.odometer_reading = 0\n",
    "     \n",
    "    \n",
    "    def get_descriptive_name(self):\n",
    "        \"\"\"Return a neatly formatted descriptive name.\"\"\"\n",
    "        long_name = f\"{self.year} {self.make} {self.model}\"\n",
    "        return long_name.title()\n",
    "    \n",
    "    \n",
    "    def read_odometer(self):\n",
    "        \"\"\"Print a statement showing the car's mileage.\"\"\"\n",
    "        print(f\"This car has {self.odometer_reading} miles on it.\")\n",
    "    \n",
    "    \n",
    "    def update_odometer(self,mileage):\n",
    "        \"\"\"Set the odometer reading to the given value. \n",
    "        Reject the change if it attempts to roll the odometer back.\"\"\"        \n",
    "        if mileage >= self.odometer_reading:\n",
    "            self.odometer_reading = mileage\n",
    "        else:\n",
    "            print(\"You can't roll back an odometer!\")\n",
    "    \n",
    "    \n",
    "    def increment_odometer(self, miles):\n",
    "        \"\"\"Add the given amount to the odometer reading.\"\"\"\n",
    "        if miles >= 0:\n",
    "            self.odometer_reading += miles\n",
    "        else:\n",
    "            print(\"The odometer can not be negative!\")\n",
    "\n",
    "            \n",
    "#a new class without inheritance from any other class  \n",
    "class Battery:\n",
    "    \"\"\"A simple attempt to model a battery for an electric car.\"\"\"\n",
    "\n",
    "    \n",
    "    #battery_size is an optional parameter that sets to 75 if no value is provided. \n",
    "    def __init__(self, battery_size=75):\n",
    "        \"\"\"Initialize the battery's attributes.\"\"\"\n",
    "        self.battery_size = battery_size\n",
    "\n",
    "        \n",
    "    def describe_battery(self):\n",
    "        \"\"\"Print a statement describing the battery size.\"\"\"\n",
    "        print(f\"This car has a {self.battery_size}-kWh battery.\")\n",
    " \n",
    "\n",
    "    def get_range(self):\n",
    "        \"\"\"Print a statement about the range this battery provides.\"\"\"\n",
    "        if self.battery_size == 75:\n",
    "            range = 260\n",
    "        elif self.battery_size == 100:\n",
    "            range = 315\n",
    "            \n",
    "        message = f\"This car can go around {range} \"\n",
    "        message += \"miles on a full charge.\"\n",
    "        print(message)\n",
    "        \n",
    "    def upgrade_battery(self):\n",
    "        \"\"\"Upgrade the battery if possible\"\"\"\n",
    "        \n",
    "        if self.battery_size == 75:\n",
    "            self.battery_size = 100\n",
    "            print(\"Upgrade the battery to 100 Kwh.\")\n",
    "        else:\n",
    "            print(\"The battery is already upgraded.\")   \n",
    "        \n",
    "\n",
    "class ElectricCar(Car):\n",
    "    \"\"\"Represent aspects of a car, specific to electric vehicles.\"\"\"\n",
    "    \n",
    "    def __init__(self, make, model, year):\n",
    "        \"\"\"Initialize attributes of the parent class.\n",
    "        Then initialize attributes specific to an electric car.\"\"\"\n",
    "        super().__init__(make, model, year)\n",
    "        self.battery = Battery()\n",
    "        \n",
    "print(\"Make an electric car, and check the range:\")\n",
    "my_tesla = ElectricCar('tesla', 'model s', 2019)    \n",
    "print(my_tesla.get_descriptive_name())\n",
    "my_tesla.battery.get_range()\n",
    "\n",
    "print(\"\\nUpgrade the battery, and check the range again:\")\n",
    "my_tesla.battery.upgrade_battery()\n",
    "my_tesla.battery.get_range()"
   ]
  },
  {
   "attachments": {},
   "cell_type": "markdown",
   "id": "f8457fd5",
   "metadata": {},
   "source": [
    "使用代码模拟实物时，你可能会发现自己给类添加的细节越来越多：属性和方法清单以及文件都越来越长。在这种情况下，可能需要将类的一部分取出来，作为一个独立的类。可以将大型类拆分成多个协同工作的小类。\n",
    "\n",
    "例如，不断给ElectricCar类添加细节时，我们可能发现其中包含很多专门针对汽车电瓶的属性和方法。在这种情况下，可将这些属性和方法取出来，放到一个名为Battery的类中，并将一个Battery实例作为ElectricCar类的属性.\n",
    "\n",
    "第75行self.battery = Battery()代码说明：在ElectricCar类中，添加了一个名为self.battery的属性。这行代码让Python创建一个新的Battery实例（因为没有指定容量，所以为默认值75），并将该实例赋给属性self.battery。每当方法__init__()被调用时，都将执行该操作，因此现在每个ElectricCar实例都包含一个自动创建的Battery实例。\n",
    "\n",
    "我们创建一辆电动汽车，并将其赋给变量my_tesla。描述电瓶时，只需要用dot notation使用电动汽车的属性battery，并对存储在该属性中的Battery实例调用方法describe_battery() 。最后的输出和前一段代码结果一致。\n",
    "\n",
    "这看似做了很多额外的工作，但是现在想多详细地描述电瓶都可以，且不会导致ElectricCar类混乱不堪。可以再给Battery类添加一个方法，它根据电瓶容量报告汽车的续航里程。"
   ]
  },
  {
   "attachments": {},
   "cell_type": "markdown",
   "id": "5c9c04a4",
   "metadata": {},
   "source": [
    "#Modeling Real-World Objects模拟实际物体\n",
    "\n",
    "模拟较复杂的物件（如电动汽车）时，需要解决一些有趣的问题。续航里程是电瓶的属性还是汽车的属性呢？如果只描述一辆汽车，将方法get_range()放在Battery类中也许是合适的，但如果要描述一家汽车制造商的整个产品线，也许应该将方法get_range()移到ElectricCar类中。在这种情况下，get_range()依然根据电瓶容量来确定续航里程，但报告的是一款汽车的续航里程。也可以这样做：仍将方法get_range()留在Battery类中，但向它传递一个参数，如car_model。在这种情况下，方法get_range()将根据电瓶容量和汽车型号报告续航里程。\n",
    "\n",
    "这让你进入了程序员的另一个境界：解决上述问题时，从较高的逻辑层面（而不是语法层面）考虑；考虑的不是Python，而是如何使用代码来表示实物。达到这种境界后，你会经常发现，对现实世界的建模方法没有对错之分。有些方法的效率更高，但要找出效率最高的表示法，需要经过一定的实践。只要代码像你希望的那样运行，就说明你做得很好！即便发现自己不得不多次尝试使用不同的方法来重写类，也不必气馁。要编写出高效、准确的代码，都得经过这样的过程。"
   ]
  },
  {
   "cell_type": "code",
   "execution_count": 165,
   "id": "5648881e",
   "metadata": {},
   "outputs": [
    {
     "name": "stdout",
     "output_type": "stream",
     "text": [
      "\n",
      "The Big One serves wonderful ice_cream.\n",
      "We have the following flavors available:\n",
      "-Vanilla\n",
      "-Chocolate\n",
      "-Black Cherry\n",
      "The Big One is open. Come on in!\n"
     ]
    }
   ],
   "source": [
    "#9-6way1list An ice cream stand is a specific kind of restaurant.\n",
    "class Restaurant():\n",
    "    \"\"\"A class representing a restaurant.\"\"\"\n",
    "\n",
    "    def __init__(self, name, cuisine_type):\n",
    "        \"\"\"Initialize the restaurant.\"\"\"\n",
    "        self.name = name.title()\n",
    "        self.cuisine_type = cuisine_type\n",
    "        self.number_served = 0\n",
    "\n",
    "    def describe_restaurant(self):\n",
    "        \"\"\"Display a summary of the restaurant.\"\"\"\n",
    "        msg = f\"{self.name} serves wonderful {self.cuisine_type}.\"\n",
    "        print(f\"\\n{msg}\")\n",
    "\n",
    "    def open_restaurant(self):\n",
    "        \"\"\"Display a message that the restaurant is open.\"\"\"\n",
    "        msg = f\"{self.name} is open. Come on in!\"\n",
    "        print(f\"{msg}\")\n",
    "\n",
    "    def set_number_served(self, number_served):\n",
    "        \"\"\"Allow user to set the number of customers that have been served.\"\"\"\n",
    "        self.number_served = number_served\n",
    "\n",
    "    def increment_number_served(self, additional_served):\n",
    "        \"\"\"Allow user to increment the number of customers served.\"\"\"\n",
    "        self.number_served += additional_served\n",
    "\n",
    "        \n",
    "class IceCreamStand(Restaurant):\n",
    "    \"\"\"Represent an ice cream stand.\"\"\"\n",
    "    \n",
    "    def __init__(self, name, cuisine_type='ice_cream'):\n",
    "        \"\"\"Initialize an ice cream stand.\"\"\"\n",
    "        super().__init__(name, cuisine_type)\n",
    "        self.flavors = []        \n",
    "\n",
    "    def show_flavors(self):\n",
    "        \"\"\"Display the flavors available.\"\"\"\n",
    "        print(\"We have the following flavors available:\")\n",
    "        for flavor in self.flavors:\n",
    "            print(f\"-{flavor.title()}\")\n",
    "\n",
    "            \n",
    "big_one = IceCreamStand('The Big One')\n",
    "big_one.flavors = ['vanilla', 'chocolate', 'black cherry']\n",
    "\n",
    "big_one.describe_restaurant()\n",
    "big_one.show_flavors()\n",
    "big_one.open_restaurant()"
   ]
  },
  {
   "attachments": {},
   "cell_type": "markdown",
   "id": "33d4d8a1",
   "metadata": {},
   "source": [
    "<a name=\"toc_15456_8.6\"></a>\n",
    "### 8.6 A case note syntax"
   ]
  },
  {
   "cell_type": "code",
   "execution_count": 166,
   "id": "372b5b19",
   "metadata": {},
   "outputs": [
    {
     "name": "stdout",
     "output_type": "stream",
     "text": [
      "\n",
      "Eric Matthes\n",
      "  Username: e_matthes\n",
      "  Email: e_matthes@example.com\n",
      "  Location: Alaska\n",
      "\n",
      "Welcome back, e_matthes!\n",
      "Here are administrators rights:\n",
      "- Can Add Post\n",
      "- Can Delete Post\n",
      "- Can Ban User\n"
     ]
    }
   ],
   "source": [
    "#9-7way1list An administrator is a special kind of user.\n",
    "class User():\n",
    "    \"\"\"Represent a simple user profile.\"\"\"\n",
    "\n",
    "    def __init__(self, first_name, last_name, username, email, location):\n",
    "        \"\"\"Initialize the user.\"\"\"\n",
    "        self.first_name = first_name.title()\n",
    "        self.last_name = last_name.title()\n",
    "        self.username = username\n",
    "        self.email = email\n",
    "        self.location = location.title()\n",
    "        self.login_attempts = 0\n",
    "\n",
    "    def describe_user(self):\n",
    "        \"\"\"Display a summary of the user's information.\"\"\"\n",
    "        print(f\"\\n{self.first_name} {self.last_name}\")\n",
    "        print(f\"  Username: {self.username}\")\n",
    "        print(f\"  Email: {self.email}\")\n",
    "        print(f\"  Location: {self.location}\")\n",
    "\n",
    "    def greet_user(self):\n",
    "        \"\"\"Display a personalized greeting to the user.\"\"\"\n",
    "        print(f\"\\nWelcome back, {self.username}!\")\n",
    "\n",
    "    def increment_login_attempts(self):\n",
    "        \"\"\"Increment the value of login_attempts.\"\"\"\n",
    "        self.login_attempts += 1\n",
    "\n",
    "    def reset_login_attempts(self):\n",
    "        \"\"\"Reset login_attempts to 0.\"\"\"\n",
    "        self.login_attempts = 0\n",
    "\n",
    "#类别开头字母大写，括号内是父类,带冒号       \n",
    "class Admin(User):\n",
    "    #每个类别和方法下面别忘记加注释\n",
    "    \"\"\"Represent an ice cream stand.\"\"\"\n",
    "    \n",
    "    #方法最后都要加冒号\n",
    "    #初始化括号内记住先写self\n",
    "    def __init__(self, first_name, last_name, username, email, location):\n",
    "        \"\"\"Initialize an administrator.\"\"\"\n",
    "        \n",
    "        #再次缩进\n",
    "        #初始化子类时，方法下面的括号里不带self\n",
    "        super().__init__(first_name, last_name, username, email, location)\n",
    "        #新加的属性前面要带self. 如果是单个默认值=数字，如果是列表=[]\n",
    "        self.privileges = []\n",
    "    \n",
    "    #方法括号内只写self\n",
    "    def show_priviledges(self):\n",
    "        \"\"\"Display the rights to administrators.\"\"\"\n",
    "        \n",
    "        print(f\"Here are administrators rights:\")\n",
    "        #方法内的循环里代表属性的列表前面加self.\n",
    "        for privilege in self.privileges:\n",
    "            #打印里面的变量是单数并且不加self.\n",
    "            print(f\"- {privilege.title()}\")\n",
    "\n",
    "#把单变量赋值给子类用圆括号\n",
    "admin1 = Admin('eric', 'matthes', 'e_matthes', 'e_matthes@example.com', 'alaska')\n",
    "#把列表赋值给属性时等号左边是实例名称.列表名称\n",
    "admin1.privileges = [\"can add post\", \"can delete post\", \"can ban user\"]\n",
    "\n",
    "admin1.describe_user()\n",
    "admin1.greet_user()\n",
    "admin1.show_priviledges()"
   ]
  },
  {
   "cell_type": "code",
   "execution_count": 24,
   "id": "a75ad0c0",
   "metadata": {},
   "outputs": [
    {
     "name": "stdout",
     "output_type": "stream",
     "text": [
      "\n",
      "Eric Matthes\n",
      "  Username: e_matthes\n",
      "  Email: e_matthes@example.com\n",
      "  Location: Alaska\n",
      "\n",
      "Adding privileges...\n",
      "\n",
      "Privileges:\n",
      "- can reset passwords\n",
      "- can moderate discussions\n",
      "- can suspend accounts\n"
     ]
    }
   ],
   "source": [
    "#9-8 way2list\n",
    "class User():\n",
    "    \"\"\"Represent a simple user profile.\"\"\"\n",
    "\n",
    "    def __init__(self, first_name, last_name, username, email, location):\n",
    "        \"\"\"Initialize the user.\"\"\"\n",
    "        self.first_name = first_name.title()\n",
    "        self.last_name = last_name.title()\n",
    "        self.username = username\n",
    "        self.email = email\n",
    "        self.location = location.title()\n",
    "        self.login_attempts = 0\n",
    "\n",
    "    def describe_user(self):\n",
    "        \"\"\"Display a summary of the user's information.\"\"\"\n",
    "        print(f\"\\n{self.first_name} {self.last_name}\")\n",
    "        print(f\"  Username: {self.username}\")\n",
    "        print(f\"  Email: {self.email}\")\n",
    "        print(f\"  Location: {self.location}\")\n",
    "\n",
    "    def greet_user(self):\n",
    "        \"\"\"Display a personalized greeting to the user.\"\"\"\n",
    "        print(f\"\\nWelcome back, {self.username}!\")\n",
    "\n",
    "    def increment_login_attempts(self):\n",
    "        \"\"\"Increment the value of login_attempts.\"\"\"\n",
    "        self.login_attempts += 1\n",
    "\n",
    "    def reset_login_attempts(self):\n",
    "        \"\"\"Reset login_attempts to 0.\"\"\"\n",
    "        self.login_attempts = 0\n",
    "\n",
    "        \n",
    "class Admin(User):\n",
    "    \"\"\"A user with administrative privileges.\"\"\"\n",
    "\n",
    "    def __init__(self, first_name, last_name, username, email, location):\n",
    "        \"\"\"Initialize the admin.\"\"\" \n",
    "        super().__init__(first_name, last_name, username, email, location)\n",
    "        # Initialize an empty set of privileges.\n",
    "        self.privilege = Privileges()\n",
    "\n",
    "class Privileges():\n",
    "    \"\"\"A class to store an admin's privileges.\"\"\"\n",
    "    \n",
    "    #新加属性在这里可以被赋予单个默认值，或者空列表\n",
    "    def __init__(self, privileges=[]):\n",
    "        self.privilege = privileges\n",
    "\n",
    "    def show_privileges(self):\n",
    "        print(\"\\nPrivileges:\")\n",
    "        if self.privilege:\n",
    "            for privilege in self.privilege:\n",
    "                print(f\"- {privilege}\")\n",
    "        else:\n",
    "            print(\"- This user has no privileges.\")\n",
    "            \n",
    "            \n",
    "eric = Admin('eric', 'matthes', 'e_matthes', 'e_matthes@example.com', 'alaska')\n",
    "eric.describe_user()\n",
    "\n",
    "print(\"\\nAdding privileges...\")\n",
    "eric_privileges = [\n",
    "    'can reset passwords',\n",
    "    'can moderate discussions',\n",
    "    'can suspend accounts',\n",
    "    ]\n",
    "#把列表值赋给了实例下新子类里面的新属性\n",
    "eric.privilege.privilege = eric_privileges\n",
    "eric.privilege.show_privileges()"
   ]
  },
  {
   "attachments": {},
   "cell_type": "markdown",
   "id": "2e0808ce",
   "metadata": {},
   "source": [
    "*书写语法小结*\n",
    "\n",
    "实例是单一值：\n",
    "\n",
    "（法一）class main: self.attribute = value\n",
    "\n",
    "（法二）class main: self.attribute = class1()  class1: variable=value self.attribute = variable\n",
    "\n",
    "实例是列表：\n",
    "\n",
    "（法一）class main: self.attribute = [ ]\n",
    "\n",
    "（法二）class main: self.attribute = class1()  class1: list=[ ] self.attribute = list \n",
    "\n",
    "instance.class1.list = list instance.class1.method()"
   ]
  },
  {
   "attachments": {},
   "cell_type": "markdown",
   "id": "2a7cd4a1",
   "metadata": {},
   "source": [
    "**IMPORTING CLASSES**\n",
    "\n",
    "随着不断给类添加功能，文件可能变得很长，即便妥善地使用了继承亦如此。为遵循Python的总体理念，应让文件尽可能整洁。Python在这方面提供了帮助，允许将类存储在模块中，然后在主程序中导入所需的模块。\n",
    "\n",
    "下面来创建一个只包含Car类的模块。这让我们面临一个微妙的命名问题：在本章中已经有一个名为car.py的文件，但这个模块也应命名为car.py，因为它包含表示汽车的代码。我们将这样解决这个命名问题：将Car类存储在一个名为car.py的模块中，该模块将覆盖前面使用的文件car.py。从现在开始，使用该模块的程序都必须使用更具体的文件名，如my_car.py。\n",
    "\n",
    "car.py模块文件中，开头第一行包含一个模块级文档字符串，对该模块的内容做了简要的描述。你应为自己创建的每个模块编写文档字符串。\n",
    "\n",
    "my_car.py程序文件中，开头import语句让Python打开模块car并导入其中的Car类。这样，我们就可以使用Car类，就像它是在这个文件中定义的一样，输出与我们在前面看到的一样。注意开头行的导入没有冒号。\n",
    "\n",
    "导入类是一种有效的编程方式。通过将这个类移到一个模块中并导入该模块，依然可以使用其所有功能，但主程序文件变得整洁而易于阅读。"
   ]
  },
  {
   "cell_type": "code",
   "execution_count": 170,
   "id": "9d24e6df",
   "metadata": {},
   "outputs": [
    {
     "name": "stdout",
     "output_type": "stream",
     "text": [
      "Audi A4 2019\n",
      "This car has 23 miles on it.\n"
     ]
    }
   ],
   "source": [
    "from car import Car\n",
    "\n",
    "my_new_car = Car('audi', 'a4', 2019)\n",
    "print(my_new_car.get_descriptive_name())\n",
    "my_new_car.odometer_reading = 23\n",
    "my_new_car.read_odometer()"
   ]
  },
  {
   "cell_type": "code",
   "execution_count": 171,
   "id": "e5ffb018",
   "metadata": {},
   "outputs": [
    {
     "name": "stdout",
     "output_type": "stream",
     "text": [
      "Make an electric car, and check the range:\n",
      "2019 Tesla Model S\n",
      "This car can go around 260 miles on a full charge.\n",
      "\n",
      "Upgrade the battery, and check the range again:\n",
      "Upgrade the battery to 100 Kwh.\n",
      "This car can go around 315 miles on a full charge.\n"
     ]
    }
   ],
   "source": [
    "#导入单个类\n",
    "from car2 import ElectricCar\n",
    "\n",
    "print(\"Make an electric car, and check the range:\")\n",
    "my_tesla = ElectricCar('tesla', 'model s', 2019)    \n",
    "print(my_tesla.get_descriptive_name())\n",
    "my_tesla.battery.get_range()\n",
    "\n",
    "print(\"\\nUpgrade the battery, and check the range again:\")\n",
    "my_tesla.battery.upgrade_battery()\n",
    "my_tesla.battery.get_range()"
   ]
  },
  {
   "cell_type": "code",
   "execution_count": 172,
   "id": "3cd31969",
   "metadata": {},
   "outputs": [
    {
     "name": "stdout",
     "output_type": "stream",
     "text": [
      "2019 Volkswagen Beetle\n",
      "2019 Tesla Roadster\n"
     ]
    }
   ],
   "source": [
    "#导入多个类\n",
    "from car2 import Car, ElectricCar\n",
    "\n",
    "my_beetle = Car('volkswagen', 'beetle', 2019)\n",
    "print(my_beetle.get_descriptive_name())\n",
    "\n",
    "my_tesla = ElectricCar('tesla', 'roadster', 2019)\n",
    "print(my_tesla.get_descriptive_name())"
   ]
  },
  {
   "cell_type": "code",
   "execution_count": 173,
   "id": "2ca91572",
   "metadata": {},
   "outputs": [
    {
     "name": "stdout",
     "output_type": "stream",
     "text": [
      "2019 Volkswagen Beetle\n",
      "2019 Tesla Roadster\n"
     ]
    }
   ],
   "source": [
    "#导入整个模块\n",
    "import car2\n",
    "\n",
    "my_beetle = Car('volkswagen', 'beetle', 2019)\n",
    "print(my_beetle.get_descriptive_name())\n",
    "\n",
    "my_tesla = ElectricCar('tesla', 'roadster', 2019)\n",
    "print(my_tesla.get_descriptive_name())"
   ]
  },
  {
   "attachments": {},
   "cell_type": "markdown",
   "id": "53ad671c",
   "metadata": {},
   "source": [
    "*导入模块中的所有类*\n",
    "\n",
    "from module_name import *\n",
    "\n",
    "不推荐使用这种导入方式，原因有二。第一，这种导入方式没有明确地指出使用了模块中的哪些类。第二，如果不小心导入了一个与程序文件中其他东西同名的类，将引发难以诊断的错误。\n",
    "\n",
    "需要从一个模块中导入很多类时，最好导入整个模块，并使用\n",
    "module_name.ClassName 语法来访问类。这样做时，虽然文件开头并没有列出用到的所有类，但你清楚地知道在程序的哪些地方使用了导入的模块。这也避免了导入模块中的每个类可能引发的名称冲突。\n",
    "\n",
    "*在一个模块中导入另一个模块*\n",
    "\n",
    "有时候，需要将类分散到多个模块中，以免模块太大或在同一个模块中存储不相关的类。将类存储在多个模块中时，你可能会发现一个模块中的类依赖于另一个模块中的类。在这种情况下，可在前一个模块中导入必要的类。\n",
    "\n",
    "比如class car在car.py模块文件,class ElectricCar, class Battery在electric_car.py模块文件，在这个模块文件中，可以直接将class Car导入该模块中: from car import Car,还需要更新模块car中的字符串，说明使其只包含Car类：\"\"\"A class that can be used to represent a car.\"\"\"。最后分别从每个模块中导入类，以根据需要创建任何类型的汽车：（第一行）from car import Car（第二行）from electric_car import ElectricCar\n",
    "\n",
    "*使用别名aliases*\n",
    "\n",
    "导入类时，也可为其指定别名。例如，要在程序中创建大量电动汽车实例，需要反复输入ElectricCar，非常烦琐。为避免这种烦恼，import语句中可以给ElectricCar指定一个别名：from electric_car import ElectricCar as EC，然后每当需要创建电动汽车实例时，都可使用这个别名：my_tesla = EC('tesla', 'roadster', 2019)\n",
    "\n",
    "一开始应让代码结构尽可能简单。先尽可能在一个文件中完成所有的工作，确定一切都能正确运行后，再将类移到独立的模块中。如果你喜欢模块和文件的交互方式，可在项目开始时就尝试将类存储到模块中。先找出让你能够编写出可行代码的方式，再尝试改进代码。\n",
    "\n",
    "*标准库standard library*\n",
    "\n",
    "Python标准库是一组模块，我们安装的Python都包含它。你现在对函数和类的工作原理已有大致的了解，可以开始使用其他程序员编写好的模块了。可以使用标准库中的任何函数和类，只需在程序开头包含一条简单的import语句即可。下面是模块random，创建与安全相关的应用程序时，请不要使用模块random，但该模块可以很好地用于创建众多有趣的项目。"
   ]
  },
  {
   "cell_type": "code",
   "execution_count": 174,
   "id": "598fdadb",
   "metadata": {},
   "outputs": [
    {
     "data": {
      "text/plain": [
       "4"
      ]
     },
     "execution_count": 174,
     "metadata": {},
     "output_type": "execute_result"
    }
   ],
   "source": [
    "#return a randomly selected integer\n",
    "from random import randint\n",
    "randint(1, 6)"
   ]
  },
  {
   "cell_type": "code",
   "execution_count": 175,
   "id": "54492714",
   "metadata": {},
   "outputs": [
    {
     "data": {
      "text/plain": [
       "'martina'"
      ]
     },
     "execution_count": 175,
     "metadata": {},
     "output_type": "execute_result"
    }
   ],
   "source": [
    "#returns a randomly chosen element in a list or a tuple\n",
    "from random import choice\n",
    "players = ['charles', 'martina', 'michael', 'florence', 'eli']\n",
    "first_up = choice(players)\n",
    "first_up"
   ]
  },
  {
   "cell_type": "code",
   "execution_count": 176,
   "id": "6e63e6dd",
   "metadata": {
    "scrolled": true
   },
   "outputs": [
    {
     "name": "stdout",
     "output_type": "stream",
     "text": [
      "10 rolls of a 6-sided die\n",
      "[4, 6, 5, 3, 1, 2, 3, 2, 3, 5]\n",
      "\n",
      "10 rolls of a 10-sided die:\n",
      "[1, 6, 6, 5, 10, 1, 1, 5, 3, 3]\n",
      "\n",
      "10 rolls of 20-sided die:\n",
      "[1, 6, 6, 5, 10, 1, 1, 5, 3, 3, 20, 16, 11, 12, 2, 9, 3, 3, 4, 9]\n"
     ]
    }
   ],
   "source": [
    "#9-13\n",
    "#from module extract function(), give the variable a name,there is no colon.\n",
    "from random import randint\n",
    "\n",
    "class Die():\n",
    "    \"\"\"Represent a die, which can be rolled. \"\"\"\n",
    "    \n",
    "    #method init can connect instance with attributes we need to set for class and other methods in the class\n",
    "    def __init__(self, sides):\n",
    "        \"\"\"return a random number between 1 and the number of sides the die has\"\"\"\n",
    "        self.sides = sides\n",
    "        \n",
    "    def roll_die(self):\n",
    "        \"\"\"return a number between 1 and the number of sides\"\"\"\n",
    "        return randint(1, self.sides)\n",
    "    \n",
    "#make a 6-sided die, and show the result of 10 rolls\n",
    "#引用创建的类别,设置初始化中属性的值，后面不跟引号\n",
    "d6 = Die(sides=6)\n",
    "\n",
    "#为放置最后的随机数结果，准备一个空列表\n",
    "results = []\n",
    "#摇骰子的试验次数也要定义,产生随机数的函数是range() \n",
    "for roll_num in range(10):\n",
    "    #提取六面骰子这个类别中摇骰子的方法，产生每一次结果\n",
    "    result = d6.roll_die()\n",
    "    #把每一次结果自动衔接到空列表中，这是循环的最后关键步骤\n",
    "    results.append(result)\n",
    "print(\"10 rolls of a 6-sided die\")\n",
    "print(results)\n",
    "\n",
    "#make a 10-sided die, and show the result of 10 rolls\n",
    "d10 = Die(sides=10)\n",
    "\n",
    "results = []\n",
    "for roll_num in range(10):\n",
    "    result = d10.roll_die()\n",
    "    results.append(result)\n",
    "print(\"\\n10 rolls of a 10-sided die:\")\n",
    "print(results)\n",
    "\n",
    "#make a 20-sided die, and show the result of 10 rolls\n",
    "d20 = Die(sides=20)\n",
    "\n",
    "result = []\n",
    "for roll_num in range(10):\n",
    "    result = d20.roll_die()\n",
    "    results.append(result)\n",
    "print(\"\\n10 rolls of 20-sided die:\")\n",
    "print(results)"
   ]
  },
  {
   "cell_type": "code",
   "execution_count": 183,
   "id": "8690343a",
   "metadata": {},
   "outputs": [
    {
     "name": "stdout",
     "output_type": "stream",
     "text": [
      "Let us see what the winning ticket is ...\n",
      "We pulled a 6!\n",
      "We pulled a e!\n",
      "We pulled a 3!\n",
      "We pulled a 1!\n",
      "The final winning ticket is: [6, 'e', 3, 1]\n"
     ]
    }
   ],
   "source": [
    "#9-14\n",
    "from random import choice\n",
    "pool = [1,2,3,4,5,6,7,8,9,10, 'a', 'b', 'c', 'd','e']\n",
    "\n",
    "results = []\n",
    "print(\"Let us see what the winning ticket is ...\")\n",
    "\n",
    "#想到用while是对的，这里不用定义试验次数，用len()\n",
    "while len(results) < 4:\n",
    "    pulled_item = choice(pool)\n",
    "\n",
    "    #注意在while里面嵌套缩进，为了不算重复的数字或者字母，用ifnotin\n",
    "    if pulled_item not in results:\n",
    "        print(f\"We pulled a {pulled_item}!\")\n",
    "        results.append(pulled_item)\n",
    "\n",
    "print(f\"The final winning ticket is: {results}\")        "
   ]
  },
  {
   "cell_type": "code",
   "execution_count": 8,
   "id": "2f35b973",
   "metadata": {},
   "outputs": [
    {
     "name": "stdout",
     "output_type": "stream",
     "text": [
      "We have a winning ticket!\n",
      "Yours: [2, 'a', 6, 10], Winnings: [10, 6, 2, 'a']\n",
      "It took 176 tries to win!\n"
     ]
    }
   ],
   "source": [
    "#9-15\n",
    "from random import choice \n",
    "\n",
    "#随机产生一个中奖的彩票号码\n",
    "def winning(pool):\n",
    "    \"\"\"return a winning ticket from a set of pool\"\"\"\n",
    "    winning_ticket = []\n",
    "    \n",
    "    while len(winning_ticket) < 4:\n",
    "        pulled_item = choice(pool)\n",
    "        if pulled_item not in winning_ticket:\n",
    "            winning_ticket.append(pulled_item)\n",
    "    #提取出来这个4位中奖号码的彩票\n",
    "    return winning_ticket\n",
    "\n",
    "#随机产生一个彩票号码\n",
    "def random(pool):\n",
    "    \"\"\"return a random ticket from a set of pool\"\"\"\n",
    "    random_ticket = []\n",
    "    while len(random_ticket) < 4:\n",
    "        pulled_item = choice(pool)\n",
    "        if pulled_item not in random_ticket:\n",
    "            random_ticket.append(pulled_item) \n",
    "    #提取出来这个4位号码的彩票\n",
    "    return random_ticket\n",
    "\n",
    "#用forloop,ifnotin核对彩票号码\n",
    "def check_ticket(ticket, winning_ticket):\n",
    "    \"\"\"check all elements in tickets and if not in the winning one return false. And we must have a winning ticket\"\"\"\n",
    "    for element in ticket:\n",
    "        if element not in winning_ticket:\n",
    "            return False\n",
    "    #提取出来这个和中奖号码一致的随机彩票\n",
    "    return True\n",
    "\n",
    "#设置彩票池和中奖彩票\n",
    "pool = [1,2,3,4,5,6,7,8,9,10, 'a', 'b', 'c', 'd','e']\n",
    "winning_ticket = winning(pool)\n",
    "\n",
    "#设置尝试次数\n",
    "plays = 0\n",
    "won = False\n",
    "\n",
    "#给尝试的次数设置一个最大值，防止不停地尝试下去\n",
    "max_tries = 1_000_000\n",
    "\n",
    "#设置尝试过程，随机彩票要再设定一次变量\n",
    "while not won:\n",
    "    new_ticket = random(pool)\n",
    "    won = check_ticket(new_ticket, winning_ticket)\n",
    "    plays +=1\n",
    "    if plays >= max_tries:\n",
    "        break\n",
    "\n",
    "#最后分情况展示结果\n",
    "if won:\n",
    "    print(f\"We have a winning ticket!\")\n",
    "    print(f\"Yours: {new_ticket}, Winnings: {winning_ticket}\")\n",
    "    print(f\"It took {plays} tries to win!\")\n",
    "else:\n",
    "    print(f\"It took {plays} tries without pulling a winner:(\")\n",
    "    print(f\"Yours: {new_ticket}, Winnings: {winning_ticket}\")  "
   ]
  },
  {
   "attachments": {},
   "cell_type": "markdown",
   "id": "9a0ffb1a",
   "metadata": {},
   "source": [
    "<a name=\"toc_15456_8.7\"></a>\n",
    "### 8.7 Styling Classes"
   ]
  },
  {
   "attachments": {},
   "cell_type": "markdown",
   "id": "0c80e566",
   "metadata": {},
   "source": [
    "*类别编码规范*\n",
    "\n",
    "类名应采用驼峰命名法CamelCase，即将类名中的每个单词的首字母都大写，而不使用下划线。实例名和模块名都采用小写格式，并在单词之间加上下划线。\n",
    "\n",
    "对于每个类，都应紧跟在类定义后面包含一个文档字符串。这种文档字符串简要地描述类的功能，并遵循编写函数的文档字符串时采用的格式约定。每个模块也都应包含一个文档字符串，对其中的类可用于做什么进行描述。\n",
    "\n",
    "可使用空行来组织代码，但不要滥用。在类中，可使用一个空行来分隔方法；而在模块中，可使用两个空行来分隔类。\n",
    "\n",
    "需要同时导入标准库中的模块和你编写的模块时，先编写导入标准库模块的import语句，再添加一个空行，然后编写导入你自己编写的模块的import语句。在包含多条import语句的程序中，这种做法让人更容易明白程序使用的各个模块都来自何处。"
   ]
  },
  {
   "attachments": {},
   "cell_type": "markdown",
   "id": "b970da4f",
   "metadata": {},
   "source": [
    "<a name=\"toc_15456_9\"></a>\n",
    "## 9 Files And Exceptions"
   ]
  },
  {
   "attachments": {},
   "cell_type": "markdown",
   "id": "25f5198d",
   "metadata": {},
   "source": [
    "<a name=\"toc_15456_9.1\"></a>\n",
    "### 9.1 Reading from a File"
   ]
  },
  {
   "cell_type": "code",
   "execution_count": 5,
   "id": "2923297b",
   "metadata": {},
   "outputs": [
    {
     "name": "stdout",
     "output_type": "stream",
     "text": [
      "3.1415926535\n",
      "8979323846\n",
      "2643383279\n"
     ]
    }
   ],
   "source": [
    "#读取整个文件\n",
    "with open('pi_digits.txt') as file_object:\n",
    "    contents = file_object.read()\n",
    "print(contents.rstrip())"
   ]
  },
  {
   "attachments": {},
   "cell_type": "markdown",
   "id": "0120df22",
   "metadata": {},
   "source": [
    "函数open() 接受一个参数：要打开的文件的名称。\n",
    "\n",
    "Python在当前执行文件所在的目录中查找指定的文件。在本例中，当前运行的文件是file_reader.py，因此Python在file_reader.py所在的目录中查找pi_digits.txt。\n",
    "\n",
    "函数open()返回一个表示文件的对象。在这里，open('pi_digits.txt') 返回一个表示文件pi_digits.txt的对象，Python将该对象赋给file_object供以后使用。\n",
    "\n",
    "有了表示pi_digits.txt的文件对象后，使用方法read()读取这个文件的全部内容，并将其作为一个长长的字符串赋给变量contents。这样，通过打印contents 的值，就可将这个文本文件的全部内容显示出来。\n",
    "\n",
    "因为read() 到达文件末尾时返回一个空字符串，而将这个空字符串显示出来时就是一个空行。要删除多出来的空行，可在函数调用print() 中使用方法rstrip()可以删除字符串末尾的空白。\n",
    "\n",
    "关键字with在不再需要访问文件后将其关闭。在这个程序中，注意到我们调用了open()，但没有调用close()。也可以调用open()和close()来打开和关闭文件，但这样做时，如果程序存在bug导致方法close()未执行，文件将不会关闭。这看似微不足道，但未妥善关闭文件可能导致数据丢失或受损。\n",
    "\n",
    "如果在程序中过早调用close()，你会发现需要使用文件时它已关闭 （无法访问），这会导致更多的错误。并非在任何情况下都能轻松确定关闭文件的恰当时机，但通过使用前面所示的结构，可让Python去确定：你只管打开文件，并在需要时使用它，Python自会在合适的时候自动将其关闭。"
   ]
  },
  {
   "cell_type": "code",
   "execution_count": 10,
   "id": "b0ed52e4",
   "metadata": {},
   "outputs": [
    {
     "name": "stdout",
     "output_type": "stream",
     "text": [
      "open text in sub file.\n"
     ]
    }
   ],
   "source": [
    "#文件相对路径relative paths\n",
    "with open('subfile/text.txt') as file_object:\n",
    "    contents = file_object.read()\n",
    "print(contents.rstrip())"
   ]
  },
  {
   "attachments": {},
   "cell_type": "markdown",
   "id": "f0ba4245",
   "metadata": {},
   "source": [
    "Python甚至不会查找本目录中的**子文件夹**，所以为了打开不与程序文件位于同一个目录中的文件，需要提供文件路径，让Python到系统的特定位置去查找。\n",
    "\n",
    "可以使用相对文件路径来打开其中的文件。相对文件路径让Python到指定的位置去查找，而该位置是相对于当前运行的程序所在目录的。例如这里subfile是当前目录下的子文件。"
   ]
  },
  {
   "cell_type": "code",
   "execution_count": 13,
   "id": "a29a8367",
   "metadata": {},
   "outputs": [
    {
     "name": "stdout",
     "output_type": "stream",
     "text": [
      "open text in sub file.\n"
     ]
    }
   ],
   "source": [
    "#文件绝对路径absolute paths\n",
    "file_path = 'C:/Users/lenovo/python practice/subfile/text.txt'\n",
    "with open(file_path) as file_object:\n",
    "    contents = file_object.read()\n",
    "print(contents.rstrip())"
   ]
  },
  {
   "attachments": {},
   "cell_type": "markdown",
   "id": "5ab82cdc",
   "metadata": {},
   "source": [
    "还可以将文件在计算机中的准确位置告诉Python，这样就不用关心当前运行的程序存储在什么地方了。这称为绝对文件路径。在相对路径行不通时，可使用绝对路径。绝对路径通常比相对路径长，因此将其赋给一个变量，再将该变量传递给open()会有所帮助。\n",
    "\n",
    "注意路径最后要带上文件名称\n",
    "\n",
    "注意显示文件路径时，Windows系统使用反斜杠（\\）而不是斜杠（/），但在代码中要使用斜杠。使用反斜杠，将引发错误，因为反斜杠用于对字符串中的字符进行转义。例如，对于路径\"C:\\path\\to\\file.txt\"，其中的\\t将被解读为制表符。如果一定要使用反斜杠，可对路径中的每个反斜杠都进行转义，如\"C:\\\\\\path\\\\\\to\\\\\\file.txt\"。(写两次）\n",
    "\n",
    "文件最好还是放在当前目录下，其次是放在当前目录的子文件夹里。"
   ]
  },
  {
   "cell_type": "code",
   "execution_count": 15,
   "id": "d77720ce",
   "metadata": {},
   "outputs": [
    {
     "name": "stdout",
     "output_type": "stream",
     "text": [
      "3.1415926535\n",
      "8979323846\n",
      "2643383279\n"
     ]
    }
   ],
   "source": [
    "#逐行读取read line by line\n",
    "filename = 'pi_digits.txt'\n",
    "\n",
    "with open(filename) as file_object:\n",
    "    for line in file_object:\n",
    "        print(line.rstrip())"
   ]
  },
  {
   "attachments": {},
   "cell_type": "markdown",
   "id": "2b555070",
   "metadata": {},
   "source": [
    "首先将要读取的文件的名称赋给变量filename。这是使用文件时的一种常见做法。变量filename表示的并非实际文件——它只是一个让Python知道到哪里去查找文件的字符串，因此可以轻松地将'pi_digits.txt'替换为要使用的另一个文件的名称。\n",
    "\n",
    "文件中，每行的末尾都有一个看不见的换行符，而函数调用print() 也会加上一个换行符，因此每行末尾都有两个换行符：一个来自文件，另一个来自函数调用print()。要消除这些多余的空白行，可在函数调用print()中使用rstrip()。"
   ]
  },
  {
   "cell_type": "code",
   "execution_count": 17,
   "id": "a190e2f5",
   "metadata": {},
   "outputs": [
    {
     "name": "stdout",
     "output_type": "stream",
     "text": [
      "3.1415926535\n",
      "8979323846\n",
      "2643383279\n"
     ]
    }
   ],
   "source": [
    "#创建包含文件各行内容的列表a list of lines from a file\n",
    "filename = 'pi_digits.txt'\n",
    "\n",
    "with open(filename) as file_object:\n",
    "    lines = file_object.readlines()\n",
    "    \n",
    "for line in lines:\n",
    "    print(line.rstrip())"
   ]
  },
  {
   "attachments": {},
   "cell_type": "markdown",
   "id": "408b35cf",
   "metadata": {},
   "source": [
    "使用关键字with时，open()返回的文件对象只在with代码块内可用。如果要在with代码块外访问文件的内容，可在with代码块内将文件的各行存储在一个列表中，并在with代码块外使用该列表：可以立即处理文件的各个部分，也可以推迟到程序后面再处理。\n",
    "\n",
    "方法readlines()从文件中读取每一行，并将其存储在一个列表中。接下来，该列表被赋给变量lines。在with代码块外，依然可使用这个变量。然后使用一个简单的for循环来打印lines中的各行。因为列表lines的每个元素都对应于文件中的一行，所以输出与文件内容完全一致。"
   ]
  },
  {
   "cell_type": "code",
   "execution_count": 19,
   "id": "3e30d3ad",
   "metadata": {
    "scrolled": true
   },
   "outputs": [
    {
     "name": "stdout",
     "output_type": "stream",
     "text": [
      "3.141592653589793238462643383279\n",
      "32\n"
     ]
    }
   ],
   "source": [
    "#使用文件的内容work with a file's content\n",
    "filename = 'pi_digits.txt'\n",
    "\n",
    "with open(filename) as file_object:\n",
    "    lines = file_object.readlines()\n",
    "    \n",
    "pi_string = ''\n",
    "for line in lines:\n",
    "    pi_string += line.strip()\n",
    "    \n",
    "print(pi_string)\n",
    "print(len(pi_string))"
   ]
  },
  {
   "attachments": {},
   "cell_type": "markdown",
   "id": "a6221fd9",
   "metadata": {},
   "source": [
    "创建了一个变量pi_string，用于指向圆周率的值。接下来，使用一个循环将各行加入pi_string，并删除每行末尾的换行符，最后打印这个字符串及其长度。使用strip()而非rstrip()是为了删除多余的空格。这个字符串长32字符，因为它还包含整数部分的3和小数点。\n",
    "\n",
    "注意读取文本文件时，Python将其中的所有文本都解读为字符串。如果读取的是数，并要将其作为数值使用，就必须使用函数int() 将其转换为整数或使用函数float()将其转换为浮点数。"
   ]
  },
  {
   "cell_type": "code",
   "execution_count": 22,
   "id": "1872c143",
   "metadata": {},
   "outputs": [
    {
     "name": "stdout",
     "output_type": "stream",
     "text": [
      "3.14159265358979323846264338327950288419716939937510...\n",
      "1000002\n"
     ]
    }
   ],
   "source": [
    "#打印有限的位数\n",
    "filename = 'pi_million_digits.txt'\n",
    "\n",
    "with open(filename) as file_object:\n",
    "    lines = file_object.readlines()\n",
    "    \n",
    "pi_string = ''\n",
    "for line in lines:\n",
    "    pi_string += line.strip()\n",
    "    \n",
    "print(f\"{pi_string[:52]}...\")\n",
    "print(len(pi_string))"
   ]
  },
  {
   "cell_type": "code",
   "execution_count": 23,
   "id": "eaa7c0f2",
   "metadata": {},
   "outputs": [
    {
     "name": "stdout",
     "output_type": "stream",
     "text": [
      "Enter your birthday, in the form mmddyy: 120497\n",
      "Your birthday does not appear in the first million digits\n"
     ]
    }
   ],
   "source": [
    "#检查圆周率中有无生日\n",
    "filename = 'pi_million_digits.txt'\n",
    "\n",
    "with open(filename) as file_object:\n",
    "    lines = file_object.readlines()\n",
    "    \n",
    "pi_string = ''\n",
    "for line in lines:\n",
    "    pi_string += line.strip()\n",
    "    \n",
    "birthday = input(\"Enter your birthday, in the form mmddyy: \")\n",
    "if birthday in pi_string:\n",
    "    print(\"Your birthday appears in the first million digits of pi!\")\n",
    "else:\n",
    "    print(\"Your birthday does not appear in the first million digits\")"
   ]
  },
  {
   "cell_type": "code",
   "execution_count": 24,
   "id": "e6ac39d4",
   "metadata": {},
   "outputs": [
    {
     "data": {
      "text/plain": [
       "'I really like cats.'"
      ]
     },
     "execution_count": 24,
     "metadata": {},
     "output_type": "execute_result"
    }
   ],
   "source": [
    "#替换文件内容\n",
    "message = \"I really like dogs.\"\n",
    "message.replace('dog', 'cat')"
   ]
  },
  {
   "attachments": {},
   "cell_type": "markdown",
   "id": "b539776c",
   "metadata": {},
   "source": [
    "<a name=\"toc_15456_9.2\"></a>\n",
    "### 9.2 Writing to a File"
   ]
  },
  {
   "cell_type": "code",
   "execution_count": 26,
   "id": "c2d1f495",
   "metadata": {},
   "outputs": [],
   "source": [
    "#写入空文件\n",
    "filename = 'programming.txt'\n",
    "with open(filename, 'w') as file_object:\n",
    "    file_object.write(\"I love programming.\")"
   ]
  },
  {
   "attachments": {},
   "cell_type": "markdown",
   "id": "f95e31ee",
   "metadata": {},
   "source": [
    "调用open() 时提供了两个实参，第一个实参也是要打开的文件的名称。第二个实参（'w'）告诉Python，要以写入模式打开这个文件。打开文件时，可指定读取模式 （'r'）、写入模式 （'w'）、附加模式 （'a'）或读写模式 （'r+'）。如果省略了模式实参，Python将以默认的只读模式打开文件。\n",
    "\n",
    "如果要写入的文件不存在，函数open()将自动创建它。然而，以写入模式（'w'）打开文件时千万要小心，因为如果指定的文件已经存在，Python将在返回文件对象前清空该文件的内容。\n",
    "\n",
    "以附加模式打开文件时，Python不会在返回文件对象前清空文件的内容，而是将写入文件的行添加到文件末尾。如果指定的文件不存在，Python将为你创建一个空文件。\n",
    "\n",
    "使用文件对象的方法write()将一个字符串写入文件。注意Python只能将字符串写入文本文件。要将数值数据存储到文本文件中，必须先使用函数str() 将其转换为字符串格式。"
   ]
  },
  {
   "cell_type": "code",
   "execution_count": 29,
   "id": "ea20aee2",
   "metadata": {},
   "outputs": [],
   "source": [
    "#写入多行\n",
    "filename = 'programming.txt'\n",
    "\n",
    "with open(filename, 'r+') as file_object:\n",
    "    file_object.write(\"I love programming.\\n\")\n",
    "    file_object.write(\"I love creating new games.\\n\")"
   ]
  },
  {
   "cell_type": "code",
   "execution_count": 30,
   "id": "220675d2",
   "metadata": {},
   "outputs": [],
   "source": [
    "#附加到文件\n",
    "filename = 'programming.txt'\n",
    "\n",
    "with open(filename, 'a') as file_object:\n",
    "    file_object.write(\"I also love finding meaning in large datasets.\\n\")\n",
    "    file_object.write(\"I love creating apps that can run in a browser.\\n\")"
   ]
  },
  {
   "cell_type": "code",
   "execution_count": 41,
   "id": "13e093d6",
   "metadata": {},
   "outputs": [
    {
     "name": "stdout",
     "output_type": "stream",
     "text": [
      "Please enter your name here: Carrie\n"
     ]
    }
   ],
   "source": [
    "#10-3\n",
    "name = input(\"Please enter your name here: \")\n",
    "\n",
    "filename = 'guest.txt'\n",
    "\n",
    "with open(filename, 'w') as file_object:\n",
    "    file_object.write(f\"Here are the guests'names.\\n{name}\")"
   ]
  },
  {
   "cell_type": "code",
   "execution_count": 4,
   "id": "81f4211c",
   "metadata": {},
   "outputs": [
    {
     "name": "stdout",
     "output_type": "stream",
     "text": [
      "Enter 'quit' when you are finished.\n",
      "\n",
      "What's your name? a\n",
      "Hi a, you've been added to the guest book.\n",
      "\n",
      "What's your name? b\n",
      "Hi b, you've been added to the guest book.\n",
      "\n",
      "What's your name? c\n",
      "Hi c, you've been added to the guest book.\n",
      "\n",
      "What's your name? quit\n"
     ]
    }
   ],
   "source": [
    "#10-4生成内容和建立文档同步\n",
    "\n",
    "#先建立文档\n",
    "filename = 'guest_book.txt'\n",
    "\n",
    "#退出的提示不在循环中\n",
    "print(\"Enter 'quit' when you are finished.\")\n",
    "\n",
    "#while循环先定义输入变量，再写ifelse条件\n",
    "while True:\n",
    "    name = input(\"\\nWhat's your name? \")\n",
    "    #先写退出情况，用break\n",
    "    if name == 'quit':\n",
    "        break\n",
    "    #再加入名单并打印跟随的提示语\n",
    "    else:\n",
    "        with open(filename, 'a') as f:\n",
    "            f.write(f\"{name}\\n\")\n",
    "        print(f\"Hi {name}, you've been added to the guest book.\")"
   ]
  },
  {
   "cell_type": "code",
   "execution_count": null,
   "id": "7d8e8f1c",
   "metadata": {},
   "outputs": [],
   "source": [
    "#10-5先生成全部内容，再建立文件\n",
    "\n",
    "filename = \"programming_poll.txt\"\n",
    "\n",
    "#先建立列表\n",
    "responses = []\n",
    "\n",
    "#在while循环中把每次回答放入列表\n",
    "while True:\n",
    "    response = input(\"\\n Why do you like programing?\")\n",
    "    responses.append(response)\n",
    "    \n",
    "    #设置提示语和终止循环\n",
    "    continue_poll = input(\"Would you like to let else respond? (y/n)\")\n",
    "    if continue_poll != 'y':\n",
    "        break\n",
    "\n",
    "#把列表写成文件        \n",
    "with open(filename, 'a') as f:\n",
    "    for response in responses:\n",
    "        f.write(f\"{response}\\n\")"
   ]
  },
  {
   "attachments": {},
   "cell_type": "markdown",
   "id": "64341ec6",
   "metadata": {},
   "source": [
    "<a name=\"toc_15456_9.3\"></a>\n",
    "### 9.3 Exceptions"
   ]
  },
  {
   "cell_type": "code",
   "execution_count": 7,
   "id": "9272653b",
   "metadata": {},
   "outputs": [
    {
     "name": "stdout",
     "output_type": "stream",
     "text": [
      "Give me two numbers, and I'll divide them.\n",
      "Enter 'q' to quit.\n",
      "\n",
      "First number: 5\n",
      "Second number: 0\n",
      "You can't divide by 0!\n",
      "\n",
      "First number: q\n"
     ]
    },
    {
     "ename": "ZeroDivisionError",
     "evalue": "division by zero",
     "output_type": "error",
     "traceback": [
      "\u001b[1;31m---------------------------------------------------------------------------\u001b[0m",
      "\u001b[1;31mZeroDivisionError\u001b[0m                         Traceback (most recent call last)",
      "Input \u001b[1;32mIn [7]\u001b[0m, in \u001b[0;36m<cell line: 4>\u001b[1;34m()\u001b[0m\n\u001b[0;32m      1\u001b[0m \u001b[38;5;66;03m#一个例子：除数为0\u001b[39;00m\n\u001b[0;32m      2\u001b[0m \u001b[38;5;28;01mimport\u001b[39;00m \u001b[38;5;21;01mdivision_calculator\u001b[39;00m\n\u001b[1;32m----> 4\u001b[0m \u001b[38;5;28mprint\u001b[39m(\u001b[38;5;241;43m5\u001b[39;49m\u001b[38;5;241;43m/\u001b[39;49m\u001b[38;5;241;43m0\u001b[39;49m)\n",
      "\u001b[1;31mZeroDivisionError\u001b[0m: division by zero"
     ]
    }
   ],
   "source": [
    "#一个例子：除数为0\n",
    "import division_calculator\n",
    "        \n",
    "print(5/0)"
   ]
  },
  {
   "attachments": {},
   "cell_type": "markdown",
   "id": "8d247db1",
   "metadata": {},
   "source": [
    "Python使用称为异常exception的特殊对象来管理程序执行期间发生的错误。每当发生让Python不知所措的错误时，它都会创建一个异常对象。如果你编写了处理该异常的代码，程序将继续运行；如果未对异常进行处理，程序将停止并显示traceback，其中包含有关异常的报告。\n",
    "\n",
    "异常是使用try-except代码块处理的。try-except代码块让Python执行指定的操作，同时告诉Python发生异常时怎么办。使用try-except代码块时，即便出现异常，程序也将继续运行：显示你编写的友好的错误消息，而不是令用户迷惑的traceback。\n",
    "\n",
    "上述traceback中，指出的错误ZeroDivisionError是个异常对象。Python无法按你的要求做时，就会创建这种对象。在这种情况下，Python将停止运行程序，并指出引发了哪种异常，而我们可根据这些信息对程序进行修改。"
   ]
  },
  {
   "cell_type": "code",
   "execution_count": 9,
   "id": "f1e365a4",
   "metadata": {},
   "outputs": [
    {
     "name": "stdout",
     "output_type": "stream",
     "text": [
      "You can't divide by zero!\n"
     ]
    }
   ],
   "source": [
    "try:\n",
    "    print(5/0)\n",
    "except ZeroDivisionError:\n",
    "    print(\"You can't divide by zero!\")\n",
    "else:\n",
    "    print(answer)"
   ]
  },
  {
   "attachments": {},
   "cell_type": "markdown",
   "id": "921f9eb0",
   "metadata": {},
   "source": [
    "当你认为可能会发生错误时，可编写一个try-except代码块来处理可能引发的异常。你让Python尝试运行一些代码，并告诉它如果这些代码引发了指定的异常该怎么办。\n",
    "\n",
    "将导致错误的代码行print(5/0)放在一个try代码块中。如try代码块中的代码运行起来没有问题，Python将跳过except代码块；如果try 代码块中的代码导致了错误，Python将查找与之匹配的except代码块并运行其中的代码。\n",
    "\n",
    "在本例中，try代码块中的代码引发了ZeroDivisionError异常，因此Python查找指出了该怎么办的except代码块，并运行其中的代码。这样用户看到的是一条友好的错误消息，而不是traceback。\n",
    "\n",
    "如果try-except代码块后面还有其他代码，程序将接着运行，因为已经告诉了Python如何处理这种错误。\n",
    "\n",
    "怀有恶意的用户还会通过traceback获悉你不想他知道的信息。例如，他将知道你的程序文件的名称，还将看到部分不能正确运行的代码。有时候，训练有素的攻击者可根据这些信息判断出可对你的代码发起什么样的攻击。\n",
    "\n",
    "这个示例还包含一个else代码块。依赖try代码块成功执行的代码都应放到else代码块中。\n",
    "\n",
    "小结try-except-else代码块的工作原理： Python尝试执行try代码块中的代码，只有可能引发异常的代码才需要放在try语句中。有时候，有一些仅在try代码块成功执行时才需要运行的代码，这些代码应放在else代码块中。except代码块告诉Python，如果尝试运行try代码块中的代码时引发了指定的异常该怎么办。"
   ]
  },
  {
   "cell_type": "code",
   "execution_count": 15,
   "id": "34481f4f",
   "metadata": {},
   "outputs": [
    {
     "ename": "FileNotFoundError",
     "evalue": "[Errno 2] No such file or directory: 'alicewonderland.txt'",
     "output_type": "error",
     "traceback": [
      "\u001b[1;31m---------------------------------------------------------------------------\u001b[0m",
      "\u001b[1;31mFileNotFoundError\u001b[0m                         Traceback (most recent call last)",
      "Input \u001b[1;32mIn [15]\u001b[0m, in \u001b[0;36m<cell line: 4>\u001b[1;34m()\u001b[0m\n\u001b[0;32m      1\u001b[0m \u001b[38;5;66;03m#处理FileNotFoundError异常\u001b[39;00m\n\u001b[0;32m      2\u001b[0m filename \u001b[38;5;241m=\u001b[39m \u001b[38;5;124m'\u001b[39m\u001b[38;5;124malicewonderland.txt\u001b[39m\u001b[38;5;124m'\u001b[39m\n\u001b[1;32m----> 4\u001b[0m \u001b[38;5;28;01mwith\u001b[39;00m \u001b[38;5;28;43mopen\u001b[39;49m\u001b[43m(\u001b[49m\u001b[43mfilename\u001b[49m\u001b[43m,\u001b[49m\u001b[43m \u001b[49m\u001b[43mencoding\u001b[49m\u001b[38;5;241;43m=\u001b[39;49m\u001b[38;5;124;43m'\u001b[39;49m\u001b[38;5;124;43mutf-8\u001b[39;49m\u001b[38;5;124;43m'\u001b[39;49m\u001b[43m)\u001b[49m \u001b[38;5;28;01mas\u001b[39;00m f:\n\u001b[0;32m      5\u001b[0m     contents \u001b[38;5;241m=\u001b[39m f\u001b[38;5;241m.\u001b[39mread()\n",
      "\u001b[1;31mFileNotFoundError\u001b[0m: [Errno 2] No such file or directory: 'alicewonderland.txt'"
     ]
    }
   ],
   "source": [
    "#处理FileNotFoundError异常\n",
    "filename = 'alicewonderland.txt'\n",
    "\n",
    "with open(filename, encoding='utf-8') as f:\n",
    "    contents = f.read()"
   ]
  },
  {
   "cell_type": "code",
   "execution_count": 16,
   "id": "d58aebbd",
   "metadata": {},
   "outputs": [
    {
     "name": "stdout",
     "output_type": "stream",
     "text": [
      "Sorry, the file alicewonderland.txt does not exist.\n"
     ]
    }
   ],
   "source": [
    "filename = 'alicewonderland.txt'\n",
    "\n",
    "try:\n",
    "    with open(filename, encoding='utf-8') as f:\n",
    "        contents = f.read()\n",
    "except FileNotFoundError:\n",
    "    print(f\"Sorry, the file {filename} does not exist.\")"
   ]
  },
  {
   "cell_type": "code",
   "execution_count": 17,
   "id": "695da304",
   "metadata": {},
   "outputs": [
    {
     "data": {
      "text/plain": [
       "['Alice', 'in', 'Wonderland']"
      ]
     },
     "execution_count": 17,
     "metadata": {},
     "output_type": "execute_result"
    }
   ],
   "source": [
    "#分析文本-统计文本中的字数\n",
    "title = \"Alice in Wonderland\"\n",
    "title.split()"
   ]
  },
  {
   "cell_type": "code",
   "execution_count": 18,
   "id": "6916bcbe",
   "metadata": {},
   "outputs": [
    {
     "name": "stdout",
     "output_type": "stream",
     "text": [
      "The file alice.txt has about 29465 words.\n"
     ]
    }
   ],
   "source": [
    "filename = 'alice.txt'\n",
    "\n",
    "#文件名称-设定文件指引-打开文件-读取文件文本-设定文本变量\n",
    "try:\n",
    "    with open(filename, encoding = 'utf-8') as f:\n",
    "        contents = f.read()\n",
    "except FileNotFoundError:\n",
    "    print(f\"Sorry,the file {filename} does not exist.\" )\n",
    "else:\n",
    "    #给文本变量分词-命名分词列表-给分词计数-命名计数变量\n",
    "    words = contents.split()\n",
    "    num_words = len(words)\n",
    "    print(f\"The file {filename} has about {num_words} words.\")"
   ]
  },
  {
   "attachments": {},
   "cell_type": "markdown",
   "id": "972ffa77",
   "metadata": {},
   "source": [
    "资源来自古登堡计划(Project Gutenberg), 收录了一系列不受版权限制的文学作品(http://gutenberg.org/)\n",
    "\n",
    "方法split()，它能根据一个字符串创建一个单词列表。以空格为分隔符将字符串分拆成多个部分，并将这些部分都存储到一个列表中。结果是一个包含字符串中所有单词的列表，虽然有些单词可能包含标点。\n",
    "\n",
    "变量f来表示文件对象，这是一种常见的做法。\n",
    "\n",
    "给参数encoding指定了值，在系统的默认编码与要读取文件使用的编码不一致时，必须这样做。\n",
    "\n",
    "这个数稍大一点，因为使用的文本文件包含出版商提供的额外信息，但还是成功估算出了童话《爱丽丝漫游奇境记》的篇幅。"
   ]
  },
  {
   "cell_type": "code",
   "execution_count": 20,
   "id": "22cb98b6",
   "metadata": {},
   "outputs": [
    {
     "name": "stdout",
     "output_type": "stream",
     "text": [
      "The file alice.txt has about 29465 words.\n"
     ]
    }
   ],
   "source": [
    "#使用多个文件\n",
    "def count_words(filename):\n",
    "    \"\"\"Count the approximate number of words in a \n",
    "file.\"\"\"\n",
    "    try:\n",
    "        with open(filename, encoding=\"utf-8\") as f:\n",
    "            contents = f.read()\n",
    "    except FileNotFoundError:\n",
    "        print(f\"Sorry, the file {filename} does not exist.\")\n",
    "    else:\n",
    "        words = contents.split()\n",
    "        num_words = len(words)\n",
    "        print(f\"The file {filename} has about {num_words} words.\")\n",
    "        \n",
    "filename = 'alice.txt'\n",
    "count_words(filename)"
   ]
  },
  {
   "cell_type": "code",
   "execution_count": 21,
   "id": "5cae0063",
   "metadata": {},
   "outputs": [
    {
     "name": "stdout",
     "output_type": "stream",
     "text": [
      "The file alice.txt has about 29465 words.\n",
      "Sorry, the file siddhartha.txt does not exist.\n",
      "The file moby_dick.txt has about 215830 words.\n",
      "The file little_women.txt has about 189079 words.\n"
     ]
    }
   ],
   "source": [
    "filenames = ['alice.txt', 'siddhartha.txt', 'moby_dick.txt', 'little_women.txt']\n",
    "for filename in filenames:\n",
    "    count_words(filename)"
   ]
  },
  {
   "attachments": {},
   "cell_type": "markdown",
   "id": "09eba7ec",
   "metadata": {},
   "source": [
    "在本例中，使用try-except代码块提供了两个重要的优点：避免用户看到traceback，以及让程序继续分析能够找到的其他文件。如果不捕获因找不到siddhartha.txt而引发的FileNotFoundError异常，用户将看到完整的traceback，而程序将在尝试分析《悉达多》后停止运行。它根本不会分析《白鲸》和《小妇人》。"
   ]
  },
  {
   "cell_type": "code",
   "execution_count": 22,
   "id": "8f987ab6",
   "metadata": {},
   "outputs": [
    {
     "name": "stdout",
     "output_type": "stream",
     "text": [
      "The file alice.txt has about 29465 words.\n",
      "The file moby_dick.txt has about 215830 words.\n",
      "The file little_women.txt has about 189079 words.\n"
     ]
    }
   ],
   "source": [
    "#把失败静默Failing Silently\n",
    "def count_words_2(filename):\n",
    "    \"\"\"Count the approximate number of words in a \n",
    "file.\"\"\"\n",
    "    try:\n",
    "        with open(filename, encoding=\"utf-8\") as f:\n",
    "            contents = f.read()\n",
    "    except FileNotFoundError:\n",
    "        pass\n",
    "    else:\n",
    "        words = contents.split()\n",
    "        num_words = len(words)\n",
    "        print(f\"The file {filename} has about {num_words} words.\")\n",
    "        \n",
    "filenames = ['alice.txt', 'siddhartha.txt', 'moby_dick.txt', 'little_women.txt']\n",
    "for filename in filenames:\n",
    "    count_words_2(filename)"
   ]
  },
  {
   "attachments": {},
   "cell_type": "markdown",
   "id": "a927db08",
   "metadata": {},
   "source": [
    "有时候你希望程序在发生异常时保持静默，就像什么都没有发生一样继续运行。要让程序静默失败，可像通常那样编写try代码块，但except代码块中明确地告诉Python什么都不要做。Python有一pass语句，可用于让Python在代码块中什么都不要做.\n",
    "\n",
    "现在，出现FileNotFoundError异常时，将执行except代码块中的代码，但什么都不会发生。这种错误发生时，不会出现traceback，也没有任何输出。用户将看到存在的每个文件包含多少个单词，但没有任何迹象表明有一个文件未找到。\n",
    "\n",
    "pass语句还充当了占位符，提醒你在程序的某个地方什么都没有做，并且以后也许要在这里做些什么。例如，在这个程序中，我们可能决定将找不到的文件的名称写入文件missing_files.txt中。用户看不到这个文件，但我们可以读取它，进而处理所有找不到文件的问题。\n",
    "\n",
    "**决定报告哪些错误**\n",
    "\n",
    "该在什么情况下向用户报告错误？又该在什么情况下静默失败呢？如果用户知道要分析哪些文件，他们可能希望在有文件却没有分析时出现一条消息来告知原因。如果用户只想看到结果，并不知道要分析哪些文件，可能就无须在有些文件不存在时告知他们。向用户显示他不想看到的信息可能会降低程序的可用性。Python的错误处理结构让你能够细致地控制与用户分享错误信息的程度，要分享多少信息由你决定。\n",
    "\n",
    "编写得很好且经过详尽测试的代码不容易出现内部错误，如语法或逻辑错误，但只要程序依赖于外部因素，如用户输入、存在指定的文件、有网络链接，就有可能出现异常。凭借经验可判断该在程序的什么地方包含异常处理块，以及出现错误时该向用户提供多少相关的信息。"
   ]
  },
  {
   "cell_type": "code",
   "execution_count": 36,
   "id": "433c10c8",
   "metadata": {},
   "outputs": [
    {
     "name": "stdout",
     "output_type": "stream",
     "text": [
      "Give me two numbers, and I'll add them.\n",
      "First number: 1\n",
      "Second number: a\n",
      "Please input integers.\n"
     ]
    }
   ],
   "source": [
    "#10-6加法运算\n",
    "print(\"Give me two numbers, and I'll add them.\")\n",
    "first_number = input(\"First number: \")\n",
    "second_number = input(\"Second number: \")\n",
    "try:\n",
    "    answer = int(first_number) + int(second_number)\n",
    "except ValueError:\n",
    "    print(\"Please input integers.\")\n",
    "else:\n",
    "    print(f\"The answer is {answer}.\") "
   ]
  },
  {
   "cell_type": "code",
   "execution_count": 37,
   "id": "c3f31305",
   "metadata": {},
   "outputs": [
    {
     "name": "stdout",
     "output_type": "stream",
     "text": [
      "Give me two numbers, and I'll add them.\n",
      "Enter 'q' to quit.\n",
      "First number: 1\n",
      "Second number: 1\n",
      "The answer is 2.\n",
      "First number: 1\n",
      "Second number: a\n",
      "Please input integers.\n",
      "First number: a\n",
      "Second number: a\n",
      "Please input integers.\n",
      "First number: q\n"
     ]
    }
   ],
   "source": [
    "# 10-7加法运算放入while循环\n",
    "print(\"Give me two numbers, and I'll add them.\")\n",
    "print(\"Enter 'q' to quit.\")\n",
    "\n",
    "while True:\n",
    "    first_number = input(\"First number: \")\n",
    "    if first_number == 'q':\n",
    "        break\n",
    "    second_number = input(\"Second number: \")\n",
    "    try:\n",
    "        answer = int(first_number) + int(second_number)\n",
    "    except ValueError:\n",
    "        print(\"Please input integers.\")\n",
    "    else:\n",
    "        print(f\"The answer is {answer}.\") "
   ]
  },
  {
   "cell_type": "code",
   "execution_count": 38,
   "id": "9afe4029",
   "metadata": {},
   "outputs": [
    {
     "name": "stdout",
     "output_type": "stream",
     "text": [
      "Give me a number: 1\n",
      "Give me another number: 1\n",
      "The sum of 1 and 1 is 2.\n"
     ]
    }
   ],
   "source": [
    "#10-6标准答案\n",
    "try:\n",
    "    x = input(\"Give me a number: \")\n",
    "    x = int(x)\n",
    "\n",
    "    y = input(\"Give me another number: \")\n",
    "    y = int(y)\n",
    "except ValueError:\n",
    "    print(\"Sorry, I really needed a number.\")\n",
    "else:\n",
    "    sum = x + y\n",
    "    print(f\"The sum of {x} and {y} is {sum}.\")"
   ]
  },
  {
   "cell_type": "code",
   "execution_count": 39,
   "id": "8ee1f60f",
   "metadata": {},
   "outputs": [
    {
     "name": "stdout",
     "output_type": "stream",
     "text": [
      "Enter 'q' at any time to quit.\n",
      "\n",
      "\n",
      "Give me a number: 1\n",
      "Give me another number: 1\n",
      "The sum of 1 and 1 is 2.\n",
      "\n",
      "Give me a number: a\n",
      "Sorry, I really needed a number.\n",
      "\n",
      "Give me a number: 1\n",
      "Give me another number: a\n",
      "Sorry, I really needed a number.\n",
      "\n",
      "Give me a number: q\n"
     ]
    }
   ],
   "source": [
    "#10-7标准答案\n",
    "print(\"Enter 'q' at any time to quit.\\n\")\n",
    "\n",
    "while True:\n",
    "    try:\n",
    "        x = input(\"\\nGive me a number: \")\n",
    "        if x == 'q':\n",
    "            break\n",
    "        x = int(x)\n",
    "\n",
    "        y = input(\"Give me another number: \")\n",
    "        if y == 'q':\n",
    "            break\n",
    "        y = int(y)\n",
    "\n",
    "    except ValueError:\n",
    "        print(\"Sorry, I really needed a number.\")\n",
    "\n",
    "    else:\n",
    "        sum = x + y\n",
    "        print(f\"The sum of {x} and {y} is {sum}.\")"
   ]
  },
  {
   "cell_type": "code",
   "execution_count": 25,
   "id": "0affd230",
   "metadata": {},
   "outputs": [
    {
     "name": "stdout",
     "output_type": "stream",
     "text": [
      "The file cats.txt has these names: a b c.\n",
      "There is no dogs.txt.\n"
     ]
    }
   ],
   "source": [
    "10-8\n",
    "def catsdogs(filename):\n",
    "    \"\"\"Count the approximate number of words in a \n",
    "file.\"\"\"\n",
    "    try:\n",
    "        with open(filename, encoding=\"utf-8\") as f:\n",
    "            contents = f.read()\n",
    "    except FileNotFoundError:\n",
    "        print(f\"There is no {filename}.\")\n",
    "    else:\n",
    "        print(f\"The file {filename} has these names: {contents}.\")\n",
    "        \n",
    "filenames = ['cats.txt', 'dogs.txt']\n",
    "for filename in filenames:\n",
    "    catsdogs(filename)"
   ]
  },
  {
   "cell_type": "code",
   "execution_count": 26,
   "id": "b0584ff6",
   "metadata": {},
   "outputs": [
    {
     "name": "stdout",
     "output_type": "stream",
     "text": [
      "The file cats.txt has these names: a b c.\n"
     ]
    }
   ],
   "source": [
    "#10-9\n",
    "def catsdogs(filename):\n",
    "    \"\"\"Look at files.\"\"\"\n",
    "    try:\n",
    "        with open(filename, encoding=\"utf-8\") as f:\n",
    "            contents = f.read()\n",
    "    except FileNotFoundError:\n",
    "        pass\n",
    "    else:\n",
    "        print(f\"The file {filename} has these names: {contents}.\")\n",
    "        \n",
    "filenames = ['cats.txt', 'dogs.txt']\n",
    "for filename in filenames:\n",
    "    catsdogs(filename)"
   ]
  },
  {
   "cell_type": "code",
   "execution_count": 49,
   "id": "35fc861d",
   "metadata": {},
   "outputs": [
    {
     "name": "stdout",
     "output_type": "stream",
     "text": [
      "The file Christmas Carol.txt has about 2558 'the'.\n"
     ]
    }
   ],
   "source": [
    "#10-10分析文本-统计特定单词频数\n",
    "def count_words_frequency(filename, word):\n",
    "    \"\"\"Count the approximate number of the specific word in a file. the number returned will be higher than the actual count (i.e: 'the', 'then', 'there')\"\"\"\n",
    "    \n",
    "    try:\n",
    "        with open(filename, encoding=\"utf-8\") as f:\n",
    "            contents = f.read()\n",
    "    except FileNotFoundError:\n",
    "        print(f\"Sorry, the file {filename} does not exist.\")\n",
    "    else:\n",
    "        num_words = contents.lower().count(word)\n",
    "        print(f\"The file {filename} has about {num_words} '{word}'.\")\n",
    "        \n",
    "filename = 'Christmas Carol.txt'\n",
    "count_words_frequency(filename, 'the')"
   ]
  },
  {
   "cell_type": "code",
   "execution_count": 52,
   "id": "55c04036",
   "metadata": {},
   "outputs": [
    {
     "name": "stdout",
     "output_type": "stream",
     "text": [
      "The file Christmas Carol.txt has about 1743 'the'.\n"
     ]
    }
   ],
   "source": [
    "#10-10分析文本-统计特定单词频数-改进版本\n",
    "def count_words_frequency(filename, word):\n",
    "    \"\"\"Count the approximate number of the specific word in a file. Split first then count the number. \"\"\"\n",
    "    \n",
    "    try:\n",
    "        with open(filename, encoding=\"utf-8\") as f:\n",
    "            contents = f.read()\n",
    "    except FileNotFoundError:\n",
    "        print(f\"Sorry, the file {filename} does not exist.\")\n",
    "    else:\n",
    "        words = contents.lower().split()\n",
    "        num_words = words.count(word)\n",
    "        print(f\"The file {filename} has about {num_words} '{word}'.\")\n",
    "        \n",
    "filename = 'Christmas Carol.txt'\n",
    "count_words_frequency(filename, 'the')"
   ]
  },
  {
   "attachments": {},
   "cell_type": "markdown",
   "id": "e4a3aedd",
   "metadata": {},
   "source": [
    "<a name=\"toc_15456_9.4\"></a>\n",
    "### 9.4 Storing Data"
   ]
  },
  {
   "attachments": {},
   "cell_type": "markdown",
   "id": "a2c1bddf",
   "metadata": {},
   "source": [
    "很多程序都要求用户输入某种信息，如让用户存储游戏首选项或提供要可视化的数据。不管关注点是什么，程序都把用户提供的信息存储在列表和字典等数据结构中。用户关闭程序时，几乎总是要保存他们提供的信息。一种简单的方式是使用模块json来存储数据。\n",
    "\n",
    "模块json让你能够将简单的Python数据结构转储到文件中，并在程序再次运行时加载该文件中的数据。你还可以使用json在Python程序之间分享数据。更重要的是，JSON数据格式并非Python专用的，这让你能够将以JSON格式存储的数据与使用其他编程语言的人分享。这是一种轻便而有用的格式，也易于学习。\n",
    "\n",
    "注意JSON（JavaScript Object Notation）格式最初是为JavaScript开发的，但随后成了一种常见格式，被包括Python在内的众多语言采用。"
   ]
  },
  {
   "cell_type": "code",
   "execution_count": 53,
   "id": "24d1dfba",
   "metadata": {},
   "outputs": [],
   "source": [
    "#一个存储一组数的简短程序\n",
    "import json\n",
    "numbers = [2, 3, 5, 7, 11, 13]\n",
    "\n",
    "filename = 'number.json'\n",
    "with open(filename, 'w') as f:\n",
    "    json.dump(numbers, f)"
   ]
  },
  {
   "attachments": {},
   "cell_type": "markdown",
   "id": "785e7f52",
   "metadata": {},
   "source": [
    "函数json.dump()接受两个实参：要存储的数据，以及可用于存储数据的文件对象。\n",
    "\n",
    "先导入模块json，再创建一个数字列表。filename指定了要将该数字列表存储到哪个文件中。通常使用文件扩展名.json来指出文件存储的数据为JSON格式。接下来，以写入模式打开这个文件，让json能够将数据写入其中.最后使用函数json.dump()将数字列表存储到文件numbers.json中。"
   ]
  },
  {
   "cell_type": "code",
   "execution_count": 54,
   "id": "ffe0577b",
   "metadata": {},
   "outputs": [
    {
     "name": "stdout",
     "output_type": "stream",
     "text": [
      "[2, 3, 5, 7, 11, 13]\n"
     ]
    }
   ],
   "source": [
    "#一个将储存的数读取到内存中的程序\n",
    "import json\n",
    "\n",
    "filename = 'number.json'\n",
    "with open(filename) as f:\n",
    "    numbers = json.load(f)\n",
    "print(numbers)"
   ]
  },
  {
   "attachments": {},
   "cell_type": "markdown",
   "id": "ca71c0c4",
   "metadata": {},
   "source": [
    "首先确保读取的是前面写入的文件。这次以读取方式打开该文件(省略‘r’，就是默认只读模式），因为Python只需要读取它。然后使用函数json.load()加载存储在numbers.json中的信息，并将其赋给变量numbers。最后，打印恢复的数字列表。这是一种在程序之间共享数据的简单方式。"
   ]
  },
  {
   "cell_type": "code",
   "execution_count": 56,
   "id": "adea80eb",
   "metadata": {},
   "outputs": [
    {
     "name": "stdout",
     "output_type": "stream",
     "text": [
      "What is your name?Carrie\n",
      "We'll remember you when you come back, Carrie!\n"
     ]
    }
   ],
   "source": [
    "#保存和读取用户生成的数据\n",
    "import json\n",
    "username = input(\"What is your name?\")\n",
    "\n",
    "filename = 'username.json'\n",
    "with open(filename, 'w') as f:\n",
    "    json.dump(username, f)\n",
    "    print(f\"We'll remember you when you come back, {username}!\")"
   ]
  },
  {
   "cell_type": "code",
   "execution_count": 57,
   "id": "0979d143",
   "metadata": {},
   "outputs": [
    {
     "name": "stdout",
     "output_type": "stream",
     "text": [
      "Welcome back, Carrie!\n"
     ]
    }
   ],
   "source": [
    "#向已存储了名字的用户发出问候\n",
    "import json\n",
    "\n",
    "filename = 'username.json'\n",
    "with open(filename) as f:\n",
    "    username = json.load(f)\n",
    "    print(f\"Welcome back, {username}!\")"
   ]
  },
  {
   "cell_type": "code",
   "execution_count": 63,
   "id": "2a675dbf",
   "metadata": {},
   "outputs": [
    {
     "name": "stdout",
     "output_type": "stream",
     "text": [
      "Welcome back, Carrie!\n"
     ]
    }
   ],
   "source": [
    "#将以上两个程序合并到一个程序-非首次运行\n",
    "import json\n",
    "\n",
    "filename = 'username.json'\n",
    "try:\n",
    "    with open(filename) as f:\n",
    "        name = json.load(f)\n",
    "except FileNotFoundError:\n",
    "    name =input(\"What's your name?\")\n",
    "    with open(filename, 'w') as f:\n",
    "        json.dump(name, f)\n",
    "        print(f\"We will remember your when you come back, {name}!\")\n",
    "else:   \n",
    "    print(f\"Welcome back, {name}!\")"
   ]
  },
  {
   "cell_type": "code",
   "execution_count": 70,
   "id": "12f28255",
   "metadata": {},
   "outputs": [
    {
     "name": "stdout",
     "output_type": "stream",
     "text": [
      "Welcome back, Alice!\n"
     ]
    }
   ],
   "source": [
    "#以上两个程序合并到一个程序-首次运行\n",
    "import json\n",
    "#Load the username, if it has been stored previously.\n",
    "# Otherwise, prompt for the username and store it. \n",
    "\n",
    "filename = 'usernames.json'\n",
    "try:\n",
    "    with open(filename) as f:\n",
    "        name = json.load(f)\n",
    "except FileNotFoundError:\n",
    "    name =input(\"What's your name?\")\n",
    "    with open(filename, 'w') as f:\n",
    "        json.dump(name, f)\n",
    "        print(f\"We will remember your when you come back, {name}!\")\n",
    "else:   \n",
    "    print(f\"Welcome back, {name}!\")"
   ]
  },
  {
   "attachments": {},
   "cell_type": "markdown",
   "id": "c08843d6",
   "metadata": {},
   "source": [
    "这里没有任何新代码，只是将前两个示例的代码合并到了一个程序中。\n",
    "\n",
    "首先尝试打开文件username.json。如果该文件存在，就将其中的用户名读取到内存中，再执行else代码块，打印一条欢迎用户回来的消息。这是程序之前至少运行了一次时的输出。\n",
    "\n",
    "用户首次运行该程序时，文件username.json不存在，将引发FileNotFoundError异常。因此Python将执行except代码块，提示用户输入用户名，再使用json.dump()存储该用户名并打印一句问候语。"
   ]
  },
  {
   "cell_type": "code",
   "execution_count": 80,
   "id": "613e3520",
   "metadata": {},
   "outputs": [
    {
     "name": "stdout",
     "output_type": "stream",
     "text": [
      "Welcome back, Bob!\n"
     ]
    }
   ],
   "source": [
    "#重构refactoring-一个综合多项工作的函数\n",
    "import json\n",
    "def greet_user():\n",
    "    \"\"\"Greet the user by name.\"\"\"\n",
    "    filename = 'usersname.json'\n",
    "    try:\n",
    "        with open(filename) as f:\n",
    "            username = json.load(f)\n",
    "    except FileNotFoundError:\n",
    "        username = input(\"What is your name? \")\n",
    "        with open(filename, 'w') as f:\n",
    "            json.dump(username, f)\n",
    "            print(f\"We'll remember you when you come back, {username}\")\n",
    "    else:\n",
    "        print(f\"Welcome back, {username}!\")\n",
    "\n",
    "greet_user()"
   ]
  },
  {
   "cell_type": "code",
   "execution_count": 82,
   "id": "40617a97",
   "metadata": {},
   "outputs": [
    {
     "name": "stdout",
     "output_type": "stream",
     "text": [
      "Welcome back, Jaime!\n"
     ]
    }
   ],
   "source": [
    "#重构refactoring-把上面的函数按工作拆分成多个函数\n",
    "import json\n",
    "\n",
    "def get_stored_username():\n",
    "    \"\"\"Get stored username if available.\"\"\"\n",
    "    filename = 'usersnames.json'\n",
    "    try:\n",
    "        with open(filename) as f:\n",
    "            username = json.load(f)\n",
    "    except FileNotFoundError:\n",
    "        return None\n",
    "    else:\n",
    "        return username\n",
    "\n",
    "def get_new_username():\n",
    "    \"\"\"Prompt for a new username.\"\"\"\n",
    "    username = input(\"What is your name?\")\n",
    "    filename = 'usersnames.json'\n",
    "    with open(filename, 'w') as f:\n",
    "        json.dump(username, f)\n",
    "    return username\n",
    "\n",
    "def greet_user():\n",
    "    \"\"\"Greet the user by name.\"\"\"\n",
    "    username = get_stored_username()\n",
    "    if username:\n",
    "        print(f\"Welcome back, {username}!\")\n",
    "    else:\n",
    "        username = get_new_username()\n",
    "        print(f\"We'll remember you when you come back, {username}!\")\n",
    "\n",
    "greet_user()"
   ]
  },
  {
   "attachments": {},
   "cell_type": "markdown",
   "id": "7423dc29",
   "metadata": {},
   "source": [
    "你经常会遇到这样的情况：代码能够正确地运行，但通过将其划分为一系列完成具体工作的函数，还可以改进。这样的过程称为重构。重构让代码更清晰、更易于理解、更容易扩展。要重remember_me.py，可将其大部分逻辑放到一个或多个函数中。\n",
    "\n",
    "def get_stored_username()中，如果存储了用户名，该函数就获取并返回它；如果文件username.json不存在，该函数就返回None。这是一种不错的做法：函数要么返回预期的值，要么返回None。这让我们能够使用函数的返回值做简单的测试。\n",
    "\n",
    "在remember_me.py的这个最终版本中，每个函数都执行单一而清晰的任务。我们调用greet_user()，它打印一条合适的消息：要么欢迎老用户回来，要么问候新用户。为此，它首先调用get_stored_username()，该函数只负责获取已存储的用户名（如果存储了的话）。最后在必要时调用get_new_username()，该函数只负责获取并存储新用户的用户名。要编写出清晰而易于维护和扩展的代码，这种划分必不可少。"
   ]
  },
  {
   "attachments": {},
   "cell_type": "markdown",
   "id": "b572ed69",
   "metadata": {},
   "source": [
    "<a name=\"toc_15456_10\"></a>\n",
    "## 10 Testing Your Code"
   ]
  },
  {
   "attachments": {},
   "cell_type": "markdown",
   "id": "df6e70fc",
   "metadata": {},
   "source": [
    "<a name=\"toc_15456_10.1\"></a>\n",
    "### 10.1 Test a function"
   ]
  },
  {
   "cell_type": "code",
   "execution_count": 27,
   "id": "475eb43a",
   "metadata": {
    "scrolled": false
   },
   "outputs": [
    {
     "name": "stdout",
     "output_type": "stream",
     "text": [
      "Enter 'q' at any time to quit.\n",
      "\n",
      "Neatly formatted name: A X.\n"
     ]
    }
   ],
   "source": [
    "#直接对原函数进行测试-比较麻烦\n",
    "from name_function import get_formatted_name\n",
    "\n",
    "print(\"Enter 'q' at any time to quit.\")\n",
    "while True:\n",
    "    first = input(\"\\nPlease give me a first name:\")\n",
    "    if first == 'q':\n",
    "        break\n",
    "    last = input(\"Please give me a last name: \")\n",
    "    if last == 'q':\n",
    "        break\n",
    "    \n",
    "    formatted_name = get_formatted_name(first, last)\n",
    "    print(f\"\\nNeatly formatted name: {formatted_name}.\")"
   ]
  },
  {
   "attachments": {},
   "cell_type": "markdown",
   "id": "a4f75e11",
   "metadata": {},
   "source": [
    "从上述输出可知，合并得到的姓名正确无误。现在假设要修改get_formatted_name()，使其还能够处理中间名。这样做时，要确保不破坏这个函数处理只含有名和姓的姓名的方式。为此，可在每次修改get_formatted_name()后都进行测试：运行这个程序names.py，并输入姓名。不过这太烦琐了。\n",
    "\n",
    "所幸Python提供了一种自动测试函数输出的高效方式。倘若对get_formatted_name()进行自动测试，就能始终确信当提供测试过的姓名时，该函数都能正确工作。\n",
    "\n",
    "Python标准库中的模块unittest提供了代码测试工具。\n",
    "\n",
    "**A unit test单元测试**用于核实函数的某个方面没有问题。\n",
    "\n",
    "**A test case测试用例**是一组单元测试，它们一道核实函数在各种情形下的行为都符合要求。良好的测试用例考虑到了函数可能收到的各种输入，包含针对所有这些情形的测试。\n",
    "\n",
    "**A test case with full coverage全覆盖的测试用例**包含一整套单元测试，涵盖了各种可能的函数使用方式。\n",
    "\n",
    "对于大型项目，要进行全覆盖测试可能很难。通常，最初只要针对代码的重要行为编写测试即可，等项目被广泛使用时再考虑全覆盖。"
   ]
  },
  {
   "cell_type": "code",
   "execution_count": 9,
   "id": "bda21148",
   "metadata": {},
   "outputs": [
    {
     "name": "stderr",
     "output_type": "stream",
     "text": [
      ".\n",
      "----------------------------------------------------------------------\n",
      "Ran 1 test in 0.002s\n",
      "\n",
      "OK\n"
     ]
    }
   ],
   "source": [
    "#通过的测试 test_name_function.py\n",
    "import unittest\n",
    "from name_function import get_formatted_name\n",
    "\n",
    "class NameTestCase(unittest.TestCase):\n",
    "    \"\"\"Tests for 'name_function.py'.\"\"\"\n",
    "    \n",
    "    def test_first_last_name(self):\n",
    "        \"\"\"Do names like 'Janis Joplin' work?\"\"\"\n",
    "        formatted_name = get_formatted_name('janis', 'joplin')\n",
    "        self.assertEqual(formatted_name, 'Janis Joplin')\n",
    "        \n",
    "if __name__ == '__main__':\n",
    "    unittest.main(argv=['first-arg-is-ignored'], exit=False)"
   ]
  },
  {
   "attachments": {},
   "cell_type": "markdown",
   "id": "ef538452",
   "metadata": {},
   "source": [
    "你需要一段时间才能习惯创建测试用例的语法，但创建测试用例之后，再添加针对函数的单元测试就很简单了。\n",
    "\n",
    "要为函数编写测试用例，可先导入模块unittest和要测试的函数，再创建一个继承unittest.TestCase的类，并编写一系列方法对函数行为的不同方面进行测试。\n",
    "\n",
    "上面的测试用例只包含一个方法，它检查函数get_formatted_name()在给定名和姓时能否正确工作。\n",
    "\n",
    "首先创建一个名为NamesTestCase的类，用于包含一系列针对get_formatted_name()的单元测试。这个类可以随意命名，但最好让它看起来与要测试的函数相关并包含Test字样。这个类必须继承unittest.TestCase类，这样Python才知道如何运行你编写的测试。\n",
    "\n",
    "这里的NamesTestCase只包含一个方法，用于测试get_formatted_name()的一个方面。将该方法命名为test_first_last_name()，因为要核实的是只有名和姓的姓名能否被正确格式化。\n",
    "\n",
    "运行这个测试用例test_name_function.py时，所有以test_打头的方法都将自动运行。在这个方法中，调用了要测试的函数。在本例中，使用实参'janis' 和'joplin'调用get_formatted_name()，并将结果赋给变量formatted_name。\n",
    "\n",
    "然后这里使用了unittest类最有用的功能之一：断言。断言这个方法核实得到的结果是否与期望的结果一致。在这里，我们知道get_formatted_name()应返回名和姓首字母大写且之间有一\n",
    "个空格的姓名，因此期望formatted_name的值为Janis Joplin。为检查是否确实如此，我们调用unittest的方法assertEqual()，并向它传递formatted_name 和'Janis Joplin'。代码行的意思是：“将formatted_name的值与字符串'Janis Joplin'比较。如果它们相等，那么万事大吉；如果它们不相等，就告诉我一声！”\n",
    "\n",
    "最后if代码块检查特殊变量__name__ ，这个变量是在程序执行时设置的。如果这个文件作为主程序执行，变量__name__ 将被设置为'__main__' 。在这里，调用unittest.main()来运行测试用例。如果这个文件被测试框架导入，变量__name__ 的值将不是'__main__'，因此不会调用unittest.main() 。\n",
    "\n",
    "在这里我们直接运行这个文件，但需要指出的是，很多测试框架会先导入测试文件再运行。导入文件时，解释器the interpreter executes将在导入的同时执行它。\n",
    "\n",
    "第一行的句点表明有一个测试通过了。接下来的一行指出Python运行了一个测试，消耗的时间不到0.001秒。最后的OK表明该测试用例的所有单元测试都通过了。\n",
    "\n",
    "上述输出表明，给定包含名和姓的姓名时，函数get_formatted_name()总是能正确地处理。修改get_formatted_name()后，可再次运行这个测试用例。如果它通过了，就表明给定Janis Joplin这样的姓名时，该函数依然能够正确地处理。"
   ]
  },
  {
   "cell_type": "code",
   "execution_count": 10,
   "id": "e25a9af5",
   "metadata": {},
   "outputs": [
    {
     "name": "stderr",
     "output_type": "stream",
     "text": [
      "E\n",
      "======================================================================\n",
      "ERROR: test_first_last_name (__main__.NameTestCase)\n",
      "----------------------------------------------------------------------\n",
      "Traceback (most recent call last):\n",
      "  File \"C:\\Users\\lenovo\\AppData\\Local\\Temp\\ipykernel_7248\\24411133.py\", line 10, in test_first_last_name\n",
      "    formatted_name = get_formatted_name('janis', 'joplin')\n",
      "  File \"C:\\Users\\lenovo\\pythonpractice\\name_function_change.py\", line 3, in get_formatted_name\n",
      "    full_name = f\"{first} {middle} {last}\"\n",
      "NameError: name 'middle' is not defined\n",
      "\n",
      "----------------------------------------------------------------------\n",
      "Ran 1 test in 0.002s\n",
      "\n",
      "FAILED (errors=1)\n"
     ]
    }
   ],
   "source": [
    "#未通过的测试\n",
    "import unittest\n",
    "from name_function_change import get_formatted_name\n",
    "\n",
    "class NameTestCase(unittest.TestCase):\n",
    "    \"\"\"Tests for 'name_function_change.py'.\"\"\"\n",
    "    \n",
    "    def test_first_last_name(self):\n",
    "         \"\"\"Do names like 'Janis Joplin' work?\"\"\"\n",
    "        formatted_name = get_formatted_name('janis', 'joplin')\n",
    "        self.assertEqual(formatted_name, 'Janis Joplin')\n",
    "        \n",
    "if __name__ == \"__main__\":\n",
    "    unittest.main(argv=['first-arg-is-ignored'], exit=False)"
   ]
  },
  {
   "attachments": {},
   "cell_type": "markdown",
   "id": "22158fca",
   "metadata": {},
   "source": [
    "测试的输出包含很多信息，因为测试未通过时，需要让你知道的事情可能有很多。\n",
    "\n",
    "第一行输出只有一个字母E，指出测试用例中有一个单元测试导致了错误。\n",
    "\n",
    "接下来，我们看到NamesTestCase中的test_first_last_name() 导致了错误。测试用例包含众多单元测试时，知道哪个测试未通过至关重要。\n",
    "\n",
    "然后我们看到了一个标准的traceback，指出函数调用get_formatted_name('janis', 'joplin')有问题，因为缺少一个必不可少的位置实参。\n",
    "\n",
    "我们还看到运行了一个单元测试。最后是一条消息，指出整个测试用例未通过，因为运行该测试用例时发生了一个错误。这条消息位于输出末尾，让你一眼就能看到。你可不希望为获悉有多少测试未通过而翻阅长长的输出。"
   ]
  },
  {
   "attachments": {},
   "cell_type": "markdown",
   "id": "44e2f884",
   "metadata": {},
   "source": [
    "在本例中，get_formatted_name()以前只需要名和姓两个实参，但现在要求提供名字、中间名和姓。新增的中间名参数是必不可少的，这导致get_formatted_name()的行为不符合预期。就这里而言，最佳的选择是让中间名变为可选的。这样做后，使用类似于Janis Joplin的姓名进行测试时，测试就又能通过了，而且也可以接受中间名。\n",
    "\n",
    "现在，对于两种不同的姓名(有无中间名)，这个函数都应该能够正确地处理。而且我们无须手工测试这个函数。这个函数之所以很容易修复，是因为未通过的测试让我们得知更新的函数破坏了原来的行为。"
   ]
  },
  {
   "cell_type": "code",
   "execution_count": 12,
   "id": "f0c0c949",
   "metadata": {},
   "outputs": [
    {
     "name": "stderr",
     "output_type": "stream",
     "text": [
      "..\n",
      "----------------------------------------------------------------------\n",
      "Ran 2 tests in 0.002s\n",
      "\n",
      "OK\n"
     ]
    }
   ],
   "source": [
    "#添加新测试\n",
    "import unittest\n",
    "from name_function_right import get_formatted_name\n",
    "\n",
    "class NameTestCase(unittest.TestCase):\n",
    "    \"\"\"Tests for 'name_function_change.py'.\"\"\"\n",
    "    \n",
    "    def test_first_last_name(self):\n",
    "        \"\"\"Do names like 'Janis Joplin' work?\"\"\"\n",
    "        formatted_name = get_formatted_name('janis', 'joplin')\n",
    "        self.assertEqual(formatted_name, 'Janis Joplin')\n",
    "        \n",
    "    def test_first_last_middle_name(self):\n",
    "        \"\"\"Do names like 'Wolfgang Amadeus Mozart' work?\"\"\"\n",
    "        formatted_name = get_formatted_name('wolfgang', 'mozart', 'amadeus')\n",
    "        self.assertEqual(formatted_name, 'Wolfgang Amadeus Mozart')\n",
    "        \n",
    "if __name__ == '__main__':\n",
    "    unittest.main(argv=['first-arg-is-ignored'], exit=False)"
   ]
  },
  {
   "attachments": {},
   "cell_type": "markdown",
   "id": "5b2d4325",
   "metadata": {},
   "source": [
    "方法名必须以test_打头，这样它才会在我们运行test_name_function.py时自动运行。这个方法名清楚地指出了它测试的是get_formatted_name()的哪个行为。这样，如果该测试未通过，我们就能马上知道受影响的是哪种类型的姓名。可以在TestCase类中使用很长的方法名，而且这些方法名必须是描述性的，这样你才能看懂测试未通过时的输出。这些方法由Python自动调用，你根本不用编写调用它们的代码。\n",
    "\n",
    "为测试函数get_formatted_name()，我们使用名、姓和中间名调用它，再使用assertEqual()检查返回的姓名是否与预期的姓名（名、中间名和姓一致。再次运行test_name_function.py时，两个测试都通过了。\n",
    "\n",
    "太好了！现在我们知道，这个函数又能正确地处理像Janis Joplin这样的姓名了，而且深信它也能够正确地处理像Wolfgang Amadeus\n",
    "Mozart这样的姓名。"
   ]
  },
  {
   "attachments": {},
   "cell_type": "markdown",
   "id": "a64bdd4e",
   "metadata": {},
   "source": [
    "<a name=\"toc_15456_10.2\"></a>\n",
    "### 10.2 Test a class"
   ]
  },
  {
   "attachments": {},
   "cell_type": "markdown",
   "id": "91ce13e1",
   "metadata": {},
   "source": [
    "**各种断言方法**\n",
    "\n",
    "A Variety of Assert Methods\n",
    "\n",
    "Python在unittest.TestCase类中提供了很多断言方法。前面说过，断言方法检查你认为应该满足的条件是否确实满足。如果该条件确实满足，你对程序行为的假设就得到了确认，可以确信其中没有错误。如果你认为应该满足的条件实际上并不满足，Python将引发异常。\n",
    "\n",
    "下面的表列了6个常用的断言方法。使用这些方法可核实返回的值等于或不等于预期的值，返回的值为True或False，以及返回的值在列表中或不在列表中。只能在继承unittest.TestCase的类中使用这些方法。\n",
    "\n",
    "|Method|Use |\n",
    "|------|----|\n",
    "|assertEqual(a,b)|Vertify that a == b|\n",
    "|assertNotEqual(a,b)|Vertify that a != b|\n",
    "|assertTrue(x)|Vertify that x is True |\n",
    "|assertFalse(x)|Vertify that x is False |\n",
    "|assertIn(*item*, *list*)|Verity that *item* is in *list*|\n",
    "|assertNotIn(*item*, *list*)|Verity that *item* is not in *list*|"
   ]
  },
  {
   "cell_type": "code",
   "execution_count": 2,
   "id": "b27e65f1",
   "metadata": {},
   "outputs": [],
   "source": [
    "#survey.py--AnonymousSurvey is an object\n",
    "class AnonymousSurvey:\n",
    "\n",
    "    def __init__(self, question):\n",
    "        \"\"\"Store a question, and prepare to store responses.\"\"\"\n",
    "        self.question = question\n",
    "        self.responses = []\n",
    "\n",
    "    def show_question(self):\n",
    "        \"\"\"Show the survey question.\"\"\"\n",
    "        print(self.question)\n",
    "\n",
    "    def store_response(self, new_response):\n",
    "        \"\"\"Store a single response to the survey.\"\"\"\n",
    "        self.responses.append(new_response)\n",
    "\n",
    "    def show_results(self):\n",
    "        \"\"\"Show all the responses that have been given.\"\"\"\n",
    "        print(\"Survey results:\")\n",
    "        for response in self.responses:\n",
    "            print(f\"-{response}\")"
   ]
  },
  {
   "cell_type": "code",
   "execution_count": 2,
   "id": "b1d70bd8",
   "metadata": {},
   "outputs": [
    {
     "name": "stdout",
     "output_type": "stream",
     "text": [
      "What language did you first learn to speak?\n",
      "Enter 'q' at any time to quit.\n",
      "\n",
      "Language:English\n",
      "Language:Chinese\n",
      "Language:Hindian\n",
      "Language:q\n",
      "\n",
      "Thank you to everyone who participated in the survey!\n",
      "Survey results:\n",
      "-English\n",
      "-Chinese\n",
      "-Hindian\n"
     ]
    }
   ],
   "source": [
    "#language_survey.py\n",
    "from survey import AnonymousSurvey\n",
    "\n",
    "# 用这个类别 \n",
    "question = \"What language did you first learn to speak?\"\n",
    "my_survey = AnonymousSurvey(question)\n",
    "\n",
    "# Show the question, and store responses to the question. \n",
    "my_survey.show_question()\n",
    "print(\"Enter 'q' at any time to quit.\\n\")\n",
    "while True:\n",
    "    response = input(\"Language:\")\n",
    "    if response == 'q':\n",
    "        break\n",
    "    my_survey.store_response(response)\n",
    "\n",
    "# Show the survey results.\n",
    "print(\"\\nThank you to everyone who participated in the survey!\")\n",
    "my_survey.show_results()"
   ]
  },
  {
   "attachments": {},
   "cell_type": "markdown",
   "id": "c7bd035c",
   "metadata": {},
   "source": [
    "**现实情况的描述**\n",
    "\n",
    "AnonymousSurvey类可用于进行简单的匿名调查。假设我们将它放在了模块survey中，并想进行改进：让每位用户都可输入多个答案；编写一个方法，只列出不同的答案并指出每个答案出现了多少次；再编写一个类，用于管理非匿名调查。\n",
    "\n",
    "进行上述修改存在风险，可能影响AnonymousSurvey类的当前行为。例如，允许每位用户输入多个答案时，可能会不小心修改处理单个答案的方式。要确认在开发这个模块时没有破坏既有行为，可以编写针对这个类的测试。"
   ]
  },
  {
   "cell_type": "code",
   "execution_count": 10,
   "id": "2700bc1b",
   "metadata": {},
   "outputs": [
    {
     "name": "stderr",
     "output_type": "stream",
     "text": [
      "..\n",
      "----------------------------------------------------------------------\n",
      "Ran 2 tests in 0.003s\n",
      "\n",
      "OK\n"
     ]
    }
   ],
   "source": [
    "#测试AnonymousSurvey类-方法一\n",
    "import unittest\n",
    "from survey import AnonymousSurvey\n",
    "\n",
    "class TestAnonymousSurvey(unittest.TestCase):\n",
    "    \"\"\"Tests for the class AnonymousSurvey\"\"\"\n",
    "    \n",
    "    #To test the behavior of a class, we need to make an instance of the class.\n",
    "    def test_store_single_response(self):\n",
    "        \"\"\"Test that a single response is stored properly.\"\"\"\n",
    "        question = \"What language did you first learn to speak?\"\n",
    "        my_survey = AnonymousSurvey(question)\n",
    "        my_survey.store_response('English')\n",
    "        self.assertIn('English', my_survey.responses)\n",
    "    \n",
    "    def test_store_three_responses(self):\n",
    "        \"\"\"Test that three individual responses are stored properly.\"\"\"\n",
    "        question = \"What language did you first learn to speak?\"\n",
    "        my_survey = AnonymousSurvey(question)\n",
    "        #use loop to check all the answers are in.\n",
    "        responses = ['English', 'Spanish', 'Mandarin']\n",
    "        #注意括号内部是单数，因为是对每个回应调用该方法\n",
    "        for response in responses:\n",
    "            my_survey.store_response(response)\n",
    "        \n",
    "        #前面是提供的回应，后面是要检验的方法生成的回应\n",
    "        for response in responses:\n",
    "            self.assertIn(response, my_survey.responses)\n",
    "        \n",
    "if __name__ == '__main__':\n",
    "    unittest.main(argv=['first-arg-is-ignored'], exit=False)"
   ]
  },
  {
   "attachments": {},
   "cell_type": "markdown",
   "id": "13e2bf82",
   "metadata": {},
   "source": [
    "下面来编写一个测试，对AnonymousSurvey类的行为的一个方面进行验证：如果用户面对调查问题只提供一个答案，这个答案也能被妥善地存储。为此，我们将在这个答案被存储后，使用方法assertIn()来核实它确实在答案列表中。\n",
    "\n",
    "首先导入模块unittest 和要测试的类AnonymousSurvey。将测试用例命名为TestAnonymousSurvey，它也继承了unittest.TestCase\n",
    "\n",
    "要测试类的行为，需要创建其实例。使用问题\"What language did you first learn to speak?\"创建一个名为my_survey的实例，然后使用方法store_response()存储单个答案English。\n",
    "\n",
    "这很好，但只能收集一个答案的调查用途不大。下面来核实当用户提供三个答案时，它们也将被妥善地存储。为此，在TestAnonymousSurvey中再添加一个方法，像之前一样，在其中创建一个调查对象。定义一个包含三个不同答案的列表，再对其中\n",
    "每个答案调用store_response()。存储这些答案后，使用一个循环来确认每个答案都包含在my_survey.responses中。\n",
    "\n",
    "前述做法的效果很好，我们在每个测试方法中都创建了一个AnonymousSurvey实例，并在每个方法中都创建了答案。但这些测试有些重复的地方。下面使用unittest的另一项功能来提高其效率。"
   ]
  },
  {
   "cell_type": "code",
   "execution_count": 18,
   "id": "7b682399",
   "metadata": {},
   "outputs": [
    {
     "name": "stderr",
     "output_type": "stream",
     "text": [
      "..\n",
      "----------------------------------------------------------------------\n",
      "Ran 2 tests in 0.002s\n",
      "\n",
      "OK\n"
     ]
    }
   ],
   "source": [
    "#测试AnonymousSurvey类-更好的方法二\n",
    "import unittest\n",
    "from survey import AnonymousSurvey\n",
    "\n",
    "class TestAnonymousSurvey(unittest.TestCase):\n",
    "    \n",
    "    def setUp(self):\n",
    "        \"\"\"\n",
    "        Create a survey and a set of responses for use in all test methods.\n",
    "        \"\"\"\n",
    "\n",
    "        question = \"What language did you first learn to speak?\"\n",
    "        self.my_survey = AnonymousSurvey(question)\n",
    "        self.responses = ['English', 'Spanish', 'Mandarin']\n",
    "        \n",
    "    def test_store_single_response(self):\n",
    "        \"\"\"Test that a single response is stored properly.\"\"\"\n",
    "        self.my_survey.store_response(self.responses[0])\n",
    "        self.assertIn(self.responses[0], self.my_survey.responses)\n",
    "    \n",
    "    def test_store_three_responses(self):\n",
    "        \"\"\"Test that three individual responses are stored properly.\"\"\"\n",
    "        for response in self.responses:\n",
    "            self.my_survey.store_response(response)\n",
    "        for response in self.responses:\n",
    "            self.assertIn(response, self.my_survey.responses)\n",
    "            \n",
    "if __name__ =='__main__':\n",
    "    unittest.main(argv=['first-arg-is-ignored'], exit=False)"
   ]
  },
  {
   "attachments": {},
   "cell_type": "markdown",
   "id": "3ccf7746",
   "metadata": {},
   "source": [
    "如果在TestCase类中包含了方法setUp()，Python将先运行它，再运行各个以test_打头的方法。这样，在你编写的每个测试方法中，都可使用在方法setUp()中创建的对象。\n",
    "\n",
    "方法setUp()做了两件事情：创建一个调查对象，以及创建一个答案列表。存储这两样东西的变量名包含前缀self（即存储在属性中），因此可在这个类的任何地方使用。这让两个测试方法都更简单，因为它们都不用创建调查对象和答案了。\n",
    "\n",
    "方法test_store_single_response()核实self.responses中的第一个答案self.responses[0] 被妥善地存储，而方法test_store_three_response()核实self.responses中的全部三个答案都被妥善地存储。\n",
    "\n",
    "测试自己编写的类时，方法setUp()让测试方法编写起来更容易：可在setUp()方法中创建一系列实例并设置其属性，再在测试方法中直接使用这些实例。相比于在每个测试方法中都创建实例并设置其属性，这要容易得多。\n",
    "\n",
    "运行测试用例时，每完成一个单元测试，Python都打印一个字符：测试通过时打印一个句点，测试引发错误时打印一个E，而测试导致断言失败时则打印一个F。这就是你运行测试用例时，在输出的第一行中看到的句点和字符数量各不相同的原因。如果测试用例包含很多单元测试，需要运行很长时间，就可通过观察这些结果来获悉有多少个测试通过了。"
   ]
  },
  {
   "cell_type": "code",
   "execution_count": null,
   "id": "2e576e2a",
   "metadata": {},
   "outputs": [],
   "source": [
    "#11-3\n",
    "class Employee():\n",
    "    \"\"\"A class to represent an employee.\"\"\"\n",
    "    \n",
    "    def __init__(self, fname, lname, salary):\n",
    "        \"\"\"Initialize the employee.\"\"\"\n",
    "        self.fname = fname.title()\n",
    "        self.lname = lname.title()\n",
    "        self.salary = salary\n",
    "        \n",
    "    def give_raise(self, amount = 5000):\n",
    "        \"\"\"Give the employee a raise.\"\"\"\n",
    "        self.salary += amount"
   ]
  },
  {
   "cell_type": "code",
   "execution_count": 1,
   "id": "554997f8",
   "metadata": {},
   "outputs": [
    {
     "name": "stderr",
     "output_type": "stream",
     "text": [
      "..\n",
      "----------------------------------------------------------------------\n",
      "Ran 2 tests in 0.006s\n",
      "\n",
      "OK\n"
     ]
    }
   ],
   "source": [
    "import unittest\n",
    "from employee import Employee\n",
    "\n",
    "class TestEmployee(unittest.TestCase):\n",
    "    \"\"\"Tests for the module employee.\"\"\"\n",
    "    \n",
    "    def setUp(self):\n",
    "        \"\"\"Make an employee to use in tests.\"\"\"\n",
    "        self.eric = Employee('eric', 'matthes', 65000)\n",
    "        \n",
    "    def test_give_default_raise(self):\n",
    "        \"\"\"Test that a default raise works correctly.\"\"\"\n",
    "        self.eric.give_raise()\n",
    "        self.assertEqual(self.eric.salary, 70000)\n",
    "        \n",
    "    def test_give_custom_raise(self):\n",
    "        \"\"\"Test that a custom raise works correctly.\"\"\"\n",
    "        self.eric.give_raise(10000)\n",
    "        self.assertEqual(self.eric.salary, 75000)\n",
    "\n",
    "if __name__ =='__main__':\n",
    "    unittest.main(argv=['first-arg-is-ignored'], exit=False)        "
   ]
  },
  {
   "attachments": {},
   "cell_type": "markdown",
   "id": "b526aa7e",
   "metadata": {},
   "source": [
    "**测试小结**\n",
    "\n",
    "测试是很多初学者不熟悉的主题。作为初学者，并非必须为你尝试的所有项目编写测试。然而参与工作量较大的项目时，你应该对自己所编写函数和类的重要行为进行测试。这样你就能够更加确定自己所做的工作不会破坏项目的其他部分，从而自由地改进既有代码。如果不小心破坏了原来的功能，你马上就会知道，而且能够轻松地修复问题。比起等到不满意的用户报告bug后再采取措施，在测试未通过时采取措施要容易得多。\n",
    "\n",
    "如果你在项目中包含了初步测试，将得到其他程序员的尊敬。他们不仅能够更得心应手地使用你编写的代码，也更愿意与你合作开发项目。如果要跟其他程序员开发的项目共享代码，就必须证明你编写的代码通过了既有测试，通常还需要为你添加的新行为编写测试。\n",
    "\n",
    "请通过多开展测试来熟悉代码测试过程。对于自己编写的函数和类，请编写针对其重要行为的测试。不过不要在项目早期试图编写全覆盖的测试用例，除非有充分的理由。"
   ]
  }
 ],
 "metadata": {
  "kernelspec": {
   "display_name": "Python 3 (ipykernel)",
   "language": "python",
   "name": "python3"
  },
  "language_info": {
   "codemirror_mode": {
    "name": "ipython",
    "version": 3
   },
   "file_extension": ".py",
   "mimetype": "text/x-python",
   "name": "python",
   "nbconvert_exporter": "python",
   "pygments_lexer": "ipython3",
   "version": "3.11.3"
  }
 },
 "nbformat": 4,
 "nbformat_minor": 5
}
